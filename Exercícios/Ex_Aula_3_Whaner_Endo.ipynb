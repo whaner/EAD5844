{
  "nbformat": 4,
  "nbformat_minor": 0,
  "metadata": {
    "colab": {
      "name": "Ex Aula 3 - Whaner Endo.ipynb",
      "provenance": [],
      "toc_visible": true,
      "authorship_tag": "ABX9TyMW8n0p38xoWTJG57eXMiNE",
      "include_colab_link": true
    },
    "kernelspec": {
      "name": "python3",
      "display_name": "Python 3"
    }
  },
  "cells": [
    {
      "cell_type": "markdown",
      "metadata": {
        "id": "view-in-github",
        "colab_type": "text"
      },
      "source": [
        "<a href=\"https://colab.research.google.com/github/whaner/EAD5844/blob/master/Exercicios/Ex_Aula_3_Whaner_Endo.ipynb\" target=\"_parent\"><img src=\"https://colab.research.google.com/assets/colab-badge.svg\" alt=\"Open In Colab\"/></a>"
      ]
    },
    {
      "cell_type": "code",
      "metadata": {
        "id": "cDqOq2Jvq1jj",
        "colab_type": "code",
        "colab": {}
      },
      "source": [
        "import pandas as pd\n",
        "import numpy as np\n",
        "import matplotlib.pyplot as plt\n",
        "from scipy.stats import zscore"
      ],
      "execution_count": 0,
      "outputs": []
    },
    {
      "cell_type": "markdown",
      "metadata": {
        "id": "qRdUgagor3F6",
        "colab_type": "text"
      },
      "source": [
        "## **Exercício 58**\n",
        "De acordo com a Annual Consumer Spending Survey de 2003, a cobrança mensal média no cartão de crédito Visa do BofA foi de $ 1,838 (US Airways Attaché Magazine, dezembro de 2003). Uma amosta dos gastos mensais de carõess de crédito apresenta os seguintes dados:"
      ]
    },
    {
      "cell_type": "code",
      "metadata": {
        "id": "mUD2AdOqq-Jd",
        "colab_type": "code",
        "outputId": "a82ca550-d4bd-4b15-d43e-b5b296a8015f",
        "colab": {
          "base_uri": "https://localhost:8080/",
          "height": 289
        }
      },
      "source": [
        "dados =  pd.Series([236,1710,1351,825,7450,316,4135,1333,1584,387,991,3396,170,1428,1688]) #dados\n",
        "print(dados)"
      ],
      "execution_count": 2,
      "outputs": [
        {
          "output_type": "stream",
          "text": [
            "0      236\n",
            "1     1710\n",
            "2     1351\n",
            "3      825\n",
            "4     7450\n",
            "5      316\n",
            "6     4135\n",
            "7     1333\n",
            "8     1584\n",
            "9      387\n",
            "10     991\n",
            "11    3396\n",
            "12     170\n",
            "13    1428\n",
            "14    1688\n",
            "dtype: int64\n"
          ],
          "name": "stdout"
        }
      ]
    },
    {
      "cell_type": "code",
      "metadata": {
        "id": "HAfo4c9k7tFj",
        "colab_type": "code",
        "outputId": "cd2148ae-dfff-4f0d-bdff-9c7a4ff99320",
        "colab": {
          "base_uri": "https://localhost:8080/",
          "height": 289
        }
      },
      "source": [
        "dados = dados.sort_values(ascending=True)\n",
        "print(dados)"
      ],
      "execution_count": 3,
      "outputs": [
        {
          "output_type": "stream",
          "text": [
            "12     170\n",
            "0      236\n",
            "5      316\n",
            "9      387\n",
            "3      825\n",
            "10     991\n",
            "7     1333\n",
            "2     1351\n",
            "13    1428\n",
            "8     1584\n",
            "14    1688\n",
            "1     1710\n",
            "11    3396\n",
            "6     4135\n",
            "4     7450\n",
            "dtype: int64\n"
          ],
          "name": "stdout"
        }
      ]
    },
    {
      "cell_type": "markdown",
      "metadata": {
        "id": "_NFw7Unbr_1n",
        "colab_type": "text"
      },
      "source": [
        "**a. Calcule a média e a mediana.**"
      ]
    },
    {
      "cell_type": "code",
      "metadata": {
        "id": "93vosvNXsFVU",
        "colab_type": "code",
        "outputId": "e0e7a02c-02f3-4a3c-a792-4e7d1f83d994",
        "colab": {
          "base_uri": "https://localhost:8080/",
          "height": 51
        }
      },
      "source": [
        "print('Média = ', dados.mean())\n",
        "print('Mediana =', dados.median())"
      ],
      "execution_count": 4,
      "outputs": [
        {
          "output_type": "stream",
          "text": [
            "Média =  1800.0\n",
            "Mediana = 1351.0\n"
          ],
          "name": "stdout"
        }
      ]
    },
    {
      "cell_type": "markdown",
      "metadata": {
        "id": "VGpfzZQVsNq4",
        "colab_type": "text"
      },
      "source": [
        "**b. Calcule  primeiro e o terceiro quartis.**"
      ]
    },
    {
      "cell_type": "code",
      "metadata": {
        "id": "yq5PfXjzsNIj",
        "colab_type": "code",
        "outputId": "2115cfad-3db2-4fb5-8906-f913cc2cd137",
        "colab": {
          "base_uri": "https://localhost:8080/",
          "height": 51
        }
      },
      "source": [
        "#print('primeiro quartil =', dados.quantile(q=0.25))\n",
        "#print('primeiro quartil =', dados.quantile(q=0.25, interpolation='linear'))\n",
        "print('primeiro quartil =', dados.quantile(q=0.25, interpolation='lower'))\n",
        "#print('primeiro quartil =', dados.quantile(q=0.25, interpolation='higher'))\n",
        "#print('primeiro quartil =', dados.quantile(q=0.25, interpolation='midpoint'))\n",
        "#print('primeiro quartil =', dados.quantile(q=0.25, interpolation='nearest'))\n",
        "print('terceiro quartil =', dados.quantile(q=0.75, interpolation='higher'))"
      ],
      "execution_count": 5,
      "outputs": [
        {
          "output_type": "stream",
          "text": [
            "primeiro quartil = 387\n",
            "terceiro quartil = 1710\n"
          ],
          "name": "stdout"
        }
      ]
    },
    {
      "cell_type": "markdown",
      "metadata": {
        "id": "6igtRtXesXNf",
        "colab_type": "text"
      },
      "source": [
        "**c. Calcule a amplitude e a amplitude interquartil.**"
      ]
    },
    {
      "cell_type": "code",
      "metadata": {
        "id": "A_au84PishtD",
        "colab_type": "code",
        "outputId": "9c804f36-9a62-4898-9d07-791bb8b0c51d",
        "colab": {
          "base_uri": "https://localhost:8080/",
          "height": 68
        }
      },
      "source": [
        "print('Amplitude =', dados.max() - dados.min())\n",
        "print('Amplitude interquartil =', dados.quantile(q=0.75, interpolation='higher') - dados.quantile(q=0.25, interpolation='lower'))\n",
        "print('1,5 x (Amplitude interquartil) =', 1.5*(dados.quantile(q=0.75, interpolation='higher') - dados.quantile(q=0.25, interpolation='lower')))"
      ],
      "execution_count": 6,
      "outputs": [
        {
          "output_type": "stream",
          "text": [
            "Amplitude = 7280\n",
            "Amplitude interquartil = 1323\n",
            "1,5 x (Amplitude interquartil) = 1984.5\n"
          ],
          "name": "stdout"
        }
      ]
    },
    {
      "cell_type": "markdown",
      "metadata": {
        "id": "i9RWpdbysoaJ",
        "colab_type": "text"
      },
      "source": [
        "**d. Calcule a variância e o desvio padrão.**"
      ]
    },
    {
      "cell_type": "code",
      "metadata": {
        "id": "XuM8kfUyssoI",
        "colab_type": "code",
        "outputId": "fdd31e97-a429-4146-8769-17c0412c0366",
        "colab": {
          "base_uri": "https://localhost:8080/",
          "height": 51
        }
      },
      "source": [
        "print('Variância =', dados.var())\n",
        "print('Desvio Padrão =', dados.std())"
      ],
      "execution_count": 7,
      "outputs": [
        {
          "output_type": "stream",
          "text": [
            "Variância = 3675303.0\n",
            "Desvio Padrão = 1917.107978179633\n"
          ],
          "name": "stdout"
        }
      ]
    },
    {
      "cell_type": "markdown",
      "metadata": {
        "id": "iek18GB5sxn-",
        "colab_type": "text"
      },
      "source": [
        "**e. A medida de assimetria desses dados é 2,12. Comente a forma dessa distribuição. Ela tem a forma esperada? Por que sim ou pro que não?**"
      ]
    },
    {
      "cell_type": "code",
      "metadata": {
        "id": "-X6gsXqIs8Fp",
        "colab_type": "code",
        "outputId": "4e069b72-9e5a-4d7f-d60f-b49e66c46d56",
        "colab": {
          "base_uri": "https://localhost:8080/",
          "height": 34
        }
      },
      "source": [
        "print('Assimetria (Skewness) =', dados.skew())"
      ],
      "execution_count": 8,
      "outputs": [
        {
          "output_type": "stream",
          "text": [
            "Assimetria (Skewness) = 2.1195274576903658\n"
          ],
          "name": "stdout"
        }
      ]
    },
    {
      "cell_type": "markdown",
      "metadata": {
        "id": "KVqcX7kFtDIS",
        "colab_type": "text"
      },
      "source": [
        "Como a assimetria é positiva (skewness), então a curva de distribuição é assimétrica à direita, portanto, mais dados com menos gasto. Sim, era esperado já que normalmente, seria esperado gastos menores para uma maior parte da população, já que estamos falando da população em geral e não um segmento mais rico."
      ]
    },
    {
      "cell_type": "markdown",
      "metadata": {
        "id": "s4e28f95viIQ",
        "colab_type": "text"
      },
      "source": [
        "**f. Os dados contém outliers?**"
      ]
    },
    {
      "cell_type": "code",
      "metadata": {
        "id": "bAw_3caHvrKA",
        "colab_type": "code",
        "outputId": "dba04f74-d78b-4cb2-95a6-6d6d1924f57e",
        "colab": {
          "base_uri": "https://localhost:8080/",
          "height": 401
        }
      },
      "source": [
        "plt.boxplot(dados, widths=0.5)"
      ],
      "execution_count": 11,
      "outputs": [
        {
          "output_type": "execute_result",
          "data": {
            "text/plain": [
              "{'boxes': [<matplotlib.lines.Line2D at 0x7f708fc45748>],\n",
              " 'caps': [<matplotlib.lines.Line2D at 0x7f708fc5a198>,\n",
              "  <matplotlib.lines.Line2D at 0x7f708fc5a518>],\n",
              " 'fliers': [<matplotlib.lines.Line2D at 0x7f708fc5ac18>],\n",
              " 'means': [],\n",
              " 'medians': [<matplotlib.lines.Line2D at 0x7f708fc5a898>],\n",
              " 'whiskers': [<matplotlib.lines.Line2D at 0x7f708fc45a58>,\n",
              "  <matplotlib.lines.Line2D at 0x7f708fc45dd8>]}"
            ]
          },
          "metadata": {
            "tags": []
          },
          "execution_count": 11
        },
        {
          "output_type": "display_data",
          "data": {
            "image/png": "[encoded data removed]",
            "text/plain": [
              "<Figure size 432x288 with 1 Axes>"
            ]
          },
          "metadata": {
            "tags": []
          }
        }
      ]
    },
    {
      "cell_type": "markdown",
      "metadata": {
        "id": "Of5rzY2dvu7O",
        "colab_type": "text"
      },
      "source": [
        "Ao plotarmos o boxplot, percebe-se que sim, existem três outliers: 7450, 4135 e 3396. Esse resultado foi identico ao obtido no SPSS.\n",
        "\n",
        "**MAS**\n",
        "\n",
        "*   Na resposta do livro está dando apenas dois outliers...\n",
        "*   Na apresentação da aula, foram calculadas as fronteiras máximas e mínimas, com a fórmula Q1-1,5x(Q3-Q1) e Q3-1,5x(Q3-Q1) e os valores que estavam além destas fronteiras foram considerados outliers. Sendo assim:\n",
        "\n",
        "\n"
      ]
    },
    {
      "cell_type": "code",
      "metadata": {
        "id": "mDqrz-xkd38u",
        "colab_type": "code",
        "colab": {}
      },
      "source": [
        "fmin = dados.quantile(q=0.25, interpolation='lower') - 1.5*(dados.quantile(q=0.75, interpolation='higher') - dados.quantile(q=0.25, interpolation='lower'))\n",
        "fmax = fm = dados.quantile(q=0.75, interpolation='higher') + 1.5*(dados.quantile(q=0.75, interpolation='higher') - dados.quantile(q=0.25, interpolation='lower'))\n",
        "print('fmim =', fmin)\n",
        "print('fmax =', fmax)"
      ],
      "execution_count": 0,
      "outputs": []
    },
    {
      "cell_type": "markdown",
      "metadata": {
        "id": "IAJ94XfOgjix",
        "colab_type": "text"
      },
      "source": [
        "Não existe nenhum outlier abaixo da fronteira mínima e dois acima da fronteira máxima: 7450 e 4135."
      ]
    },
    {
      "cell_type": "markdown",
      "metadata": {
        "id": "H4WZjW1zt7Ix",
        "colab_type": "text"
      },
      "source": [
        "## **Exercício 59**"
      ]
    },
    {
      "cell_type": "markdown",
      "metadata": {
        "id": "ksFZeNGnuHEQ",
        "colab_type": "text"
      },
      "source": [
        "O U.S. Census Bureau (Departamento de Recenseamento dos EUA) fornece estatísticas sobre a vida das famílias nos EUA, incluindo a idade para o primeiro casamento, estado civil e o tamanho da família (US Census Bureaua, 20 de março de 2006). Os dados a seguir mostram a idade para o primeiro casamento para uma amostra de homens e uma amostra de mulheres:"
      ]
    },
    {
      "cell_type": "code",
      "metadata": {
        "id": "sGLFLIbmt-Le",
        "colab_type": "code",
        "colab": {}
      },
      "source": [
        "homem = pd.Series([26,23,28,25,27,30,26,35,28,21,24,27,29,30,27,32,27,25])\n",
        "mulher = pd.Series([20,28,23,30,24,29,26,25,22,22,25,23,27,26,19])"
      ],
      "execution_count": 0,
      "outputs": []
    },
    {
      "cell_type": "markdown",
      "metadata": {
        "id": "ggYJ_nuPut-K",
        "colab_type": "text"
      },
      "source": [
        "**a. Calcule a mediana das idades do primeiro casamento para homens e mulheres**"
      ]
    },
    {
      "cell_type": "code",
      "metadata": {
        "id": "4otJxgcLuiXJ",
        "colab_type": "code",
        "colab": {}
      },
      "source": [
        "print('Mediana homens =', homem.median())\n",
        "print('Mediana mulheres =', mulher.median())"
      ],
      "execution_count": 0,
      "outputs": []
    },
    {
      "cell_type": "markdown",
      "metadata": {
        "id": "rqZUABaou4aU",
        "colab_type": "text"
      },
      "source": [
        "**b. Calcule o primeiro e o terceiro quartis para homens e mulheres.**"
      ]
    },
    {
      "cell_type": "code",
      "metadata": {
        "id": "2nQQg3b7u1e_",
        "colab_type": "code",
        "colab": {}
      },
      "source": [
        "print('primeiro quartil homens =', homem.quantile(q=0.25, interpolation='lower'))\n",
        "print('terceiro quartil homens =', homem.quantile(q=0.75, interpolation='higher')) #poderia usar np.percentile(homem,75)\n",
        "print('primeiro quartil mulheres =', mulher.quantile(q=0.25, interpolation='lower'))\n",
        "print('terceiro quartil mulheres =', mulher.quantile(q=0.75, interpolation='higher'))"
      ],
      "execution_count": 0,
      "outputs": []
    },
    {
      "cell_type": "markdown",
      "metadata": {
        "id": "9UtjGE5NvElw",
        "colab_type": "text"
      },
      "source": [
        "**c. Há 25 anos, a idade mediana do primeiro casamento era de 25 anos para homens e de 22 anos para as mulheres. Que percepção essa informação oferece sobre a decisão de quando se casar, entre os jovens da atualidade?**"
      ]
    },
    {
      "cell_type": "markdown",
      "metadata": {
        "id": "W3S9K-iQvYsY",
        "colab_type": "text"
      },
      "source": [
        "Como a mediana se deslocou para uma idade mais alta, significa que os jovens estão casando mais velhos."
      ]
    },
    {
      "cell_type": "markdown",
      "metadata": {
        "id": "Ej_jTvEhiKSD",
        "colab_type": "text"
      },
      "source": [
        "## **Exercício 60**"
      ]
    },
    {
      "cell_type": "markdown",
      "metadata": {
        "id": "b1LhCNmZihsZ",
        "colab_type": "text"
      },
      "source": [
        "O Ministério da educação dos Estados Unidos relata que cerca de 50% de todos os universitários utilizam o crédito educativo para ajudar a custear as despesas com a faculdade (National Center for Educational Studies, janeiro de 2006). Uma amostra de estudantes formados com ajuda de crédito educativo é apresentada a seguir. Os dados, em milhares de dólares, mostram quantidades típicas de débitos após a formatura."
      ]
    },
    {
      "cell_type": "code",
      "metadata": {
        "id": "9YlQJjr-iRn5",
        "colab_type": "code",
        "colab": {}
      },
      "source": [
        "debito = pd.Series([10.1, 14.8, 5.0, 10.2, 12.4, 12.2, 2.0, 11.5, 17.8, 4.0])\n",
        "debito"
      ],
      "execution_count": 0,
      "outputs": []
    },
    {
      "cell_type": "markdown",
      "metadata": {
        "id": "vFjtYh7vjJz8",
        "colab_type": "text"
      },
      "source": [
        "**a. Para aqueles estudantes que utilizaram o crédito aducativo, qual é a média de débito após a formatura?**"
      ]
    },
    {
      "cell_type": "code",
      "metadata": {
        "id": "Tz_VqRDfjSAM",
        "colab_type": "code",
        "colab": {}
      },
      "source": [
        "media = debito.mean()\n",
        "print('A média para os estudantes que usaram o crédito educativo é de: US$', round(media,3), 'mil')"
      ],
      "execution_count": 0,
      "outputs": []
    },
    {
      "cell_type": "markdown",
      "metadata": {
        "id": "19IxJmmkpkPc",
        "colab_type": "text"
      },
      "source": [
        "**b. Qual a variância? E o desvio padrão?**"
      ]
    },
    {
      "cell_type": "code",
      "metadata": {
        "id": "IJpsvQjgjfTK",
        "colab_type": "code",
        "colab": {}
      },
      "source": [
        "variancia = debito.var()\n",
        "dp = debito.std()\n",
        "print('A variância é:', round(variancia,2))\n",
        "print('O desvio padrão é:', round(dp,2))"
      ],
      "execution_count": 0,
      "outputs": []
    },
    {
      "cell_type": "markdown",
      "metadata": {
        "id": "W3zqRQUhptfo",
        "colab_type": "text"
      },
      "source": [
        "## **Exercício 61**"
      ]
    },
    {
      "cell_type": "markdown",
      "metadata": {
        "id": "UN01rQrgp1Aw",
        "colab_type": "text"
      },
      "source": [
        "O retorno em dividendos são os dividendos anuais de uma empresa paga, divididos pelo preço de mercado atual por ação, expressos na forma de porcentagem. Uma amostra de 10 grandes empresas produziu seguintes dados sobre o retorno dividendos (The Wall Stereet Journal, 16 de janeiro de 2004)."
      ]
    },
    {
      "cell_type": "code",
      "metadata": {
        "id": "k7d_GLQxllat",
        "colab_type": "code",
        "colab": {}
      },
      "source": [
        "df = pd.DataFrame({'Empresa': pd.Categorical([\"Atria Group\", \"American Express\", \"Caterpillar\", \"Eastman Kodak\",\n",
        "                                              \"ExxonMobil\", \"General Motors\", \"JPMorgan\", \"McDonald's\", \"United Technology\", \"Wallmart Stores\"]),\n",
        "                   'Retorno': pd.Series([5.0, 0.8, 1.8, 1.9, 2.5, 3.7, 3.5, 1.6, 1.5, 0.7])})"
      ],
      "execution_count": 0,
      "outputs": []
    },
    {
      "cell_type": "markdown",
      "metadata": {
        "id": "ooSyJfl5w881",
        "colab_type": "text"
      },
      "source": [
        "**a. Qual a média e a mediana dos retornos em dividendos?**"
      ]
    },
    {
      "cell_type": "code",
      "metadata": {
        "id": "CtV8w1EJxBYV",
        "colab_type": "code",
        "colab": {}
      },
      "source": [
        "media = df.mean()\n",
        "mediana = df.median()"
      ],
      "execution_count": 0,
      "outputs": []
    },
    {
      "cell_type": "code",
      "metadata": {
        "id": "Janix7HTxMs6",
        "colab_type": "code",
        "colab": {}
      },
      "source": [
        "print (media)\n",
        "print (mediana)"
      ],
      "execution_count": 0,
      "outputs": []
    },
    {
      "cell_type": "markdown",
      "metadata": {
        "id": "eqeZg9wFKbTC",
        "colab_type": "text"
      },
      "source": [
        "*Resposta: A média é 2,3 e a mediana 1,85.*"
      ]
    },
    {
      "cell_type": "markdown",
      "metadata": {
        "id": "YV4vdfGt8sEw",
        "colab_type": "text"
      },
      "source": [
        "**b. Qual é a variância e o desvio padrão?**"
      ]
    },
    {
      "cell_type": "code",
      "metadata": {
        "id": "uNMt5NgWxToP",
        "colab_type": "code",
        "colab": {}
      },
      "source": [
        "variancia = df.var()\n",
        "desvio = df.std()"
      ],
      "execution_count": 0,
      "outputs": []
    },
    {
      "cell_type": "code",
      "metadata": {
        "id": "MoPmbMC387Nj",
        "colab_type": "code",
        "colab": {}
      },
      "source": [
        "print(round(variancia, 3))\n",
        "print(round(desvio,3))"
      ],
      "execution_count": 0,
      "outputs": []
    },
    {
      "cell_type": "markdown",
      "metadata": {
        "id": "1uJZAVsnKRwj",
        "colab_type": "text"
      },
      "source": [
        "*Resposta: A variância é 1,898 e o desvio padrão é 1,378.*"
      ]
    },
    {
      "cell_type": "markdown",
      "metadata": {
        "id": "HCbu-HJH9NKk",
        "colab_type": "text"
      },
      "source": [
        "**c. Qual empresa proporciona o maior retorno em dividendos?**"
      ]
    },
    {
      "cell_type": "code",
      "metadata": {
        "id": "2_3WHJHD9GGh",
        "colab_type": "code",
        "colab": {}
      },
      "source": [
        "ordenado = df['Retorno'].sort_values(ascending=True)"
      ],
      "execution_count": 0,
      "outputs": []
    },
    {
      "cell_type": "code",
      "metadata": {
        "id": "Y_bi9xl79lRM",
        "colab_type": "code",
        "colab": {}
      },
      "source": [
        "print(ordenado)"
      ],
      "execution_count": 0,
      "outputs": []
    },
    {
      "cell_type": "code",
      "metadata": {
        "id": "9XVzvlHa9od2",
        "colab_type": "code",
        "colab": {}
      },
      "source": [
        "df"
      ],
      "execution_count": 0,
      "outputs": []
    },
    {
      "cell_type": "markdown",
      "metadata": {
        "id": "Lz8aTqPuBA8s",
        "colab_type": "text"
      },
      "source": [
        "*Resposta: Ordenando a base em ordem crescente do Retorno, percebesse que a empresa que tem o maior retorno (5.0) é de index '0', ou seja, a Atria Group.*"
      ]
    },
    {
      "cell_type": "markdown",
      "metadata": {
        "id": "kcxUuG7iEFFV",
        "colab_type": "text"
      },
      "source": [
        "**d. Qual é o escore-z do McDonald's? Interprete esse escore-z.**"
      ]
    },
    {
      "cell_type": "code",
      "metadata": {
        "id": "K8e9ehMZ94sM",
        "colab_type": "code",
        "colab": {}
      },
      "source": [
        "numeric_cols = df.select_dtypes(include=[np.number]).columns\n",
        "df[numeric_cols].apply(zc)"
      ],
      "execution_count": 0,
      "outputs": []
    },
    {
      "cell_type": "markdown",
      "metadata": {
        "id": "0oCnAAEsJuwv",
        "colab_type": "text"
      },
      "source": [
        "*Resposta: Como o escore-z do McDonald's é -0,54, isso significa que ele está meio desvio padrão abaixo da média do retorno dentre as empresas listadas.*"
      ]
    },
    {
      "cell_type": "markdown",
      "metadata": {
        "id": "-0Q7R-9yKo4_",
        "colab_type": "text"
      },
      "source": [
        "**e. Qual é o escore-z da General Motors? Interprete esse escore-z.**"
      ]
    },
    {
      "cell_type": "markdown",
      "metadata": {
        "id": "NP6BUsSNKySt",
        "colab_type": "text"
      },
      "source": [
        "*Resposta: Como o escore-z da General Motors é 1,07, isso significa que ele está, praticamente, um desvio padrão acima da média do retorno dentre as empresas listadas.*"
      ]
    },
    {
      "cell_type": "markdown",
      "metadata": {
        "id": "CrHOsgpeLFyc",
        "colab_type": "text"
      },
      "source": [
        "**f. Com base nos escores-z, os dados possuem algum outlier?**"
      ]
    },
    {
      "cell_type": "markdown",
      "metadata": {
        "id": "77L4t8rGMBWH",
        "colab_type": "text"
      },
      "source": [
        "*Resposta: Como o padrão é que, considerando o escore-z, caso haja algum valor além do intervalo de 3 desvios padrão, ou seja, z-score maior que 3 ou menor que -3, este é considerado um outlier e, no caso dos dados, nenhum é > 3 ou < -3, então, não existe outlier na amostra.*"
      ]
    },
    {
      "cell_type": "code",
      "metadata": {
        "id": "IlFqt8iXF4pf",
        "colab_type": "code",
        "colab": {}
      },
      "source": [
        ""
      ],
      "execution_count": 0,
      "outputs": []
    },
    {
      "cell_type": "markdown",
      "metadata": {
        "id": "4czQ4sJIMz1t",
        "colab_type": "text"
      },
      "source": [
        "## **Exercício 62**"
      ]
    },
    {
      "cell_type": "markdown",
      "metadata": {
        "id": "odlZgO9LM8EW",
        "colab_type": "text"
      },
      "source": [
        "\n",
        "**Em geral, os proprietários de pequenas empresas recorrem a companhia especializadas em folhas de pagamento para cuidar da folha de pagamento de seus empregados. Isso ocorre porque os priprietários de empresas de pequeno porte se deparam com complicadas regulamentações de impostos e porque as multas referentes a erros nos impostos empregatícios são grandes. De acordo com o Internal Revenue Service, 26% de todas as declarações de imporstos de pequenas empresas continham erros que resultaram em multas para os proprietários (The WSJ, 30 de janeiro de 2006). A multa sobre os impostos para uma amostra de 20 empresas é apresentada a seguir:**"
      ]
    },
    {
      "cell_type": "code",
      "metadata": {
        "id": "mcBkyoNcM5aM",
        "colab_type": "code",
        "colab": {}
      },
      "source": [
        "empresas = pd.DataFrame([820,270,450,1010,890,700,1350,350,300,1200,390,730,2040,230,640,350,420,270,370,620])"
      ],
      "execution_count": 0,
      "outputs": []
    },
    {
      "cell_type": "markdown",
      "metadata": {
        "id": "_m1PJtrOPBRj",
        "colab_type": "text"
      },
      "source": [
        "**a. Qual é o valor médio das multas sobre impostos para declarações de impostos preenchidas incorretamente?**"
      ]
    },
    {
      "cell_type": "code",
      "metadata": {
        "id": "gfo-ME1EO-d9",
        "colab_type": "code",
        "colab": {}
      },
      "source": [
        "print(empresas.mean())"
      ],
      "execution_count": 0,
      "outputs": []
    },
    {
      "cell_type": "markdown",
      "metadata": {
        "id": "BlD91YfAPRno",
        "colab_type": "text"
      },
      "source": [
        "*Resposta: A média das multas é de US$670.00*"
      ]
    },
    {
      "cell_type": "markdown",
      "metadata": {
        "id": "9w0jov57PaO5",
        "colab_type": "text"
      },
      "source": [
        "**b. Qual é o desvio padrão?**"
      ]
    },
    {
      "cell_type": "code",
      "metadata": {
        "id": "VzfubdbWPKgo",
        "colab_type": "code",
        "colab": {}
      },
      "source": [
        "print(empresas.std())"
      ],
      "execution_count": 0,
      "outputs": []
    },
    {
      "cell_type": "markdown",
      "metadata": {
        "id": "_pdqQ7ndPkaj",
        "colab_type": "text"
      },
      "source": [
        "*Resposta: O desvio padrão é de US$455.91*"
      ]
    },
    {
      "cell_type": "markdown",
      "metadata": {
        "id": "v1mP4jnaPyJn",
        "colab_type": "text"
      },
      "source": [
        "**c. A multa mais elevada, de US$2,040 é um oulier?**"
      ]
    },
    {
      "cell_type": "code",
      "metadata": {
        "id": "nWfF5B8aP0cX",
        "colab_type": "code",
        "colab": {}
      },
      "source": [
        "numeric_cols = empresas.select_dtypes(include=[np.number]).columns\n",
        "empresas[numeric_cols].apply(zc)"
      ],
      "execution_count": 0,
      "outputs": []
    },
    {
      "cell_type": "code",
      "metadata": {
        "id": "cEv9vGXRP54r",
        "colab_type": "code",
        "colab": {}
      },
      "source": [
        "empresas"
      ],
      "execution_count": 0,
      "outputs": []
    },
    {
      "cell_type": "markdown",
      "metadata": {
        "id": "ya52nXB0RLoe",
        "colab_type": "text"
      },
      "source": [
        "*Resposta: Como ao calcular o escore-z do conjunto, verificou-se que para a multa US$2,040.00, o seu escore-z é de 3,08, ela pode ser considerada um outlier.*"
      ]
    },
    {
      "cell_type": "markdown",
      "metadata": {
        "id": "J9s0y2RzSGMt",
        "colab_type": "text"
      },
      "source": [
        "**d. Quais seriam algumas das vantagens de o proprietário de uma pequena empresa contratar uma companhia especializada em folhas de pagamento para cuidar da folha de pagamento de seus empregados, incluindo as declarações de impostos empregatícios?**"
      ]
    },
    {
      "cell_type": "markdown",
      "metadata": {
        "id": "xI7IV1x-Sbsl",
        "colab_type": "text"
      },
      "source": [
        "*Resposta: Reduzir o valor pago em multa que, em média, é de US$670.00*"
      ]
    },
    {
      "cell_type": "markdown",
      "metadata": {
        "id": "foce9wGSTYtS",
        "colab_type": "text"
      },
      "source": [
        "## **Exercício 63**"
      ]
    },
    {
      "cell_type": "markdown",
      "metadata": {
        "id": "7-P6AlzOTieU",
        "colab_type": "text"
      },
      "source": [
        "**O transporte público e o automóvel são dois meios de transporte que os trabalhadores podem utilizar para chegar ao trabalho diariamente. As amostras de tempo registradas para cada meio são apresentadas a seguir. Os tempos estão os em expressos em minutos:**"
      ]
    },
    {
      "cell_type": "code",
      "metadata": {
        "id": "X-TZxIjyTdPf",
        "colab_type": "code",
        "colab": {}
      },
      "source": [
        "tp = pd.Series([28,29,32,37,33,25,29,32,41,34])\n",
        "auto = pd.Series([29,31,33,32,34,30,31,32,35,33])"
      ],
      "execution_count": 0,
      "outputs": []
    },
    {
      "cell_type": "markdown",
      "metadata": {
        "id": "CDKLLvI0Uerv",
        "colab_type": "text"
      },
      "source": [
        "**a. Calcule o tempo médio amostral para se chegar ao trabalho utilizando cada um dos meios de transporte.**"
      ]
    },
    {
      "cell_type": "code",
      "metadata": {
        "id": "G_T21Kc9UngJ",
        "colab_type": "code",
        "colab": {}
      },
      "source": [
        "media_tp = tp.mean()\n",
        "media_auto = auto.mean()\n",
        "print(media_tp)\n",
        "print(media_auto)"
      ],
      "execution_count": 0,
      "outputs": []
    },
    {
      "cell_type": "markdown",
      "metadata": {
        "id": "9hfwJ0qeVBzJ",
        "colab_type": "text"
      },
      "source": [
        "*Resposta: As médias amostrais para os dois tipos de transporte são iguais à 32 minutos.*"
      ]
    },
    {
      "cell_type": "markdown",
      "metadata": {
        "id": "0VU2qnUrVNje",
        "colab_type": "text"
      },
      "source": [
        "**b. Calcule os desvios padrão amostral de cada meio de transporte.**"
      ]
    },
    {
      "cell_type": "code",
      "metadata": {
        "id": "TSfSuZGGUwNx",
        "colab_type": "code",
        "colab": {}
      },
      "source": [
        "print(tp.std())\n",
        "print(auto.std())"
      ],
      "execution_count": 0,
      "outputs": []
    },
    {
      "cell_type": "markdown",
      "metadata": {
        "id": "BJkkPLodVwH4",
        "colab_type": "text"
      },
      "source": [
        "*Resposta: O desvio padrão do transporte público é de 4,64 e o do automóvel é de 1,82.*"
      ]
    },
    {
      "cell_type": "markdown",
      "metadata": {
        "id": "7ewp8qbYWI1l",
        "colab_type": "text"
      },
      "source": [
        "**c. Tendo como base os resultados que você obteve nos itens (a) e (b), qual meio de transporte deveria ser preferível? Explique.**"
      ]
    },
    {
      "cell_type": "markdown",
      "metadata": {
        "id": "J-QbihrIWTy9",
        "colab_type": "text"
      },
      "source": [
        "*Resposta: Como o desvio padrão do automóvel é menor, isso significa que o tempo que o trabalhador demora é mais uniforme e, por isso, deveria ser o escolhido, já que haveria maior certeza que da demora para se chegar ao trabalho.*"
      ]
    },
    {
      "cell_type": "code",
      "metadata": {
        "id": "CcYuROHIXEZi",
        "colab_type": "code",
        "colab": {}
      },
      "source": [
        "plt.boxplot(tp, widths=0.5)"
      ],
      "execution_count": 0,
      "outputs": []
    },
    {
      "cell_type": "code",
      "metadata": {
        "id": "W4xveV4UXcfF",
        "colab_type": "code",
        "colab": {}
      },
      "source": [
        "plt.boxplot(auto, widths=0.5)"
      ],
      "execution_count": 0,
      "outputs": []
    },
    {
      "cell_type": "markdown",
      "metadata": {
        "id": "-pcJmaoHX2so",
        "colab_type": "text"
      },
      "source": [
        "*Resposta: Olhando os boxplot dos dois meios de transportes, verifica-se que no caso do tranposte público,existe um possível outlier e, com isso, a média foi aumentada. Além disso, percebe-se que as medições, no caso do automóvel, existem mais acima da mediana do que no transporte público. Portanto, os boxplots contradizem a resposta anterior.*"
      ]
    },
    {
      "cell_type": "code",
      "metadata": {
        "id": "VMn40SEDXo6o",
        "colab_type": "code",
        "colab": {}
      },
      "source": [
        ""
      ],
      "execution_count": 0,
      "outputs": []
    }
  ]
}