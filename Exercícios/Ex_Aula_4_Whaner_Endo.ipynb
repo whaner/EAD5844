{
  "nbformat": 4,
  "nbformat_minor": 0,
  "metadata": {
    "colab": {
      "name": "Ex Aula 4 - Whaner Endo.ipynb",
      "provenance": [],
      "collapsed_sections": [
        "ID7HcNoh4VlU",
        "C4slI2-aG8BH",
        "4tHEOP22XmDr",
        "fIdiXts1gNbP",
        "dY_kTid8mDTK"
      ],
      "toc_visible": true,
      "authorship_tag": "ABX9TyPUOXE5HquxMuryFeLB4oma",
      "include_colab_link": true
    },
    "kernelspec": {
      "name": "python3",
      "display_name": "Python 3"
    }
  },
  "cells": [
    {
      "cell_type": "markdown",
      "metadata": {
        "id": "view-in-github",
        "colab_type": "text"
      },
      "source": [
        "<a href=\"https://colab.research.google.com/github/whaner/EAD5844/blob/master/Exerc%C3%ADcios/Ex_Aula_4_Whaner_Endo.ipynb\" target=\"_parent\"><img src=\"https://colab.research.google.com/assets/colab-badge.svg\" alt=\"Open In Colab\"/></a>"
      ]
    },
    {
      "cell_type": "code",
      "metadata": {
        "id": "3GpoB2nz2tpF",
        "colab_type": "code",
        "colab": {}
      },
      "source": [
        "import pandas as pd\n",
        "import numpy as np\n"
      ],
      "execution_count": 0,
      "outputs": []
    },
    {
      "cell_type": "markdown",
      "metadata": {
        "id": "YkMnNUuy2xrz",
        "colab_type": "text"
      },
      "source": [
        "# **Exercícios Aula 4 - Entrega 01/04**"
      ]
    },
    {
      "cell_type": "markdown",
      "metadata": {
        "id": "ID7HcNoh4VlU",
        "colab_type": "text"
      },
      "source": [
        "## **Exercício 10**"
      ]
    },
    {
      "cell_type": "markdown",
      "metadata": {
        "id": "-2TT4VB94-SU",
        "colab_type": "text"
      },
      "source": [
        "Muitos estudantes acumulam débitos quando se formam na faculdade. A tabela a seguir mostra o percentual de graduados que têm débitos e a quantia média de débito desses graduados em quatro universidades e quatro faculdades de artes liberais *(U.S. News e World Report, Americas's Best Colleges*, 2008)"
      ]
    },
    {
      "cell_type": "code",
      "metadata": {
        "id": "ebFupNoh9Akv",
        "colab_type": "code",
        "colab": {}
      },
      "source": [
        "dados = {'Universidade': ['Pace', 'Iowa State', 'Massachusetts', 'SUNY-Albany'],\n",
        "         '% com débito - U': [72, 69, 55, 64],\n",
        "         'Quantia ($) - U': [32980, 32130, 11227, 11856],\n",
        "         'Faculdade': ['Wartburg', 'Morehouse', 'Wellesley', 'Woofford'],\n",
        "         '% com débito - F': [83, 94, 55, 49],\n",
        "         'Quantia ($) - F': [28758, 27000, 10206, 11012]}"
      ],
      "execution_count": 0,
      "outputs": []
    },
    {
      "cell_type": "code",
      "metadata": {
        "id": "THeyYuNV9FyS",
        "colab_type": "code",
        "colab": {}
      },
      "source": [
        "df = pd.DataFrame(dados, columns = ['Universidade', '% com débito - U', 'Quantia ($) - U', 'Faculdade', '% com débito - F', 'Quantia ($) - F'])"
      ],
      "execution_count": 0,
      "outputs": []
    },
    {
      "cell_type": "code",
      "metadata": {
        "id": "E1iC_9WQ74UR",
        "colab_type": "code",
        "outputId": "313239a5-381f-4b06-ceee-e381e464a8f2",
        "colab": {
          "base_uri": "https://localhost:8080/",
          "height": 173
        }
      },
      "source": [
        "df"
      ],
      "execution_count": 0,
      "outputs": [
        {
          "output_type": "execute_result",
          "data": {
            "text/html": [
              "<div>\n",
              "<style scoped>\n",
              "    .dataframe tbody tr th:only-of-type {\n",
              "        vertical-align: middle;\n",
              "    }\n",
              "\n",
              "    .dataframe tbody tr th {\n",
              "        vertical-align: top;\n",
              "    }\n",
              "\n",
              "    .dataframe thead th {\n",
              "        text-align: right;\n",
              "    }\n",
              "</style>\n",
              "<table border=\"1\" class=\"dataframe\">\n",
              "  <thead>\n",
              "    <tr style=\"text-align: right;\">\n",
              "      <th></th>\n",
              "      <th>Universidade</th>\n",
              "      <th>% com débito - U</th>\n",
              "      <th>Quantia ($) - U</th>\n",
              "      <th>Faculdade</th>\n",
              "      <th>% com débito - F</th>\n",
              "      <th>Quantia ($) - F</th>\n",
              "    </tr>\n",
              "  </thead>\n",
              "  <tbody>\n",
              "    <tr>\n",
              "      <th>0</th>\n",
              "      <td>Pace</td>\n",
              "      <td>72</td>\n",
              "      <td>32980</td>\n",
              "      <td>Wartburg</td>\n",
              "      <td>83</td>\n",
              "      <td>28758</td>\n",
              "    </tr>\n",
              "    <tr>\n",
              "      <th>1</th>\n",
              "      <td>Iowa State</td>\n",
              "      <td>69</td>\n",
              "      <td>32130</td>\n",
              "      <td>Morehouse</td>\n",
              "      <td>94</td>\n",
              "      <td>27000</td>\n",
              "    </tr>\n",
              "    <tr>\n",
              "      <th>2</th>\n",
              "      <td>Massachusetts</td>\n",
              "      <td>55</td>\n",
              "      <td>11227</td>\n",
              "      <td>Wellesley</td>\n",
              "      <td>55</td>\n",
              "      <td>10206</td>\n",
              "    </tr>\n",
              "    <tr>\n",
              "      <th>3</th>\n",
              "      <td>SUNY-Albany</td>\n",
              "      <td>64</td>\n",
              "      <td>11856</td>\n",
              "      <td>Woofford</td>\n",
              "      <td>49</td>\n",
              "      <td>11012</td>\n",
              "    </tr>\n",
              "  </tbody>\n",
              "</table>\n",
              "</div>"
            ],
            "text/plain": [
              "    Universidade  % com débito - U  ...  % com débito - F Quantia ($) - F\n",
              "0           Pace                72  ...                83           28758\n",
              "1     Iowa State                69  ...                94           27000\n",
              "2  Massachusetts                55  ...                55           10206\n",
              "3    SUNY-Albany                64  ...                49           11012\n",
              "\n",
              "[4 rows x 6 columns]"
            ]
          },
          "metadata": {
            "tags": []
          },
          "execution_count": 36
        }
      ]
    },
    {
      "cell_type": "markdown",
      "metadata": {
        "id": "tlF0T19q9jD6",
        "colab_type": "text"
      },
      "source": [
        "**a. Se você escolher aleatoriamente um formando da Faculdade Morehouse, qual é probabilidadea de que ele tenha se formado tendo contraído débito?**"
      ]
    },
    {
      "cell_type": "markdown",
      "metadata": {
        "id": "l63LTad3-Dmv",
        "colab_type": "text"
      },
      "source": [
        "Resposta: 94%"
      ]
    },
    {
      "cell_type": "markdown",
      "metadata": {
        "id": "5DxaYACU-aan",
        "colab_type": "text"
      },
      "source": [
        "**b. Se você escolher aleatoriamente uma dessas oitro instituições para fazer um estudo de acompanhamento dos empréstimos dos estudantes, qual é a probabilidade de escolher uma instituição com mais de 60% de seus formandos tendo débito?**"
      ]
    },
    {
      "cell_type": "markdown",
      "metadata": {
        "id": "UTuACBzz_Phb",
        "colab_type": "text"
      },
      "source": [
        "Resposta: Como são oito instituições, a probabiliade de cada uma ser escolhida é 1/8, ou seja, 12,5%. Das oito, 5 têm mais de 60% dos formandos com débito, portanto, a probabilidade procurada é 5 x 12,5 = **62,5%**"
      ]
    },
    {
      "cell_type": "markdown",
      "metadata": {
        "id": "20jGFvmUEeTS",
        "colab_type": "text"
      },
      "source": [
        "**c. Se você escolher aleatoriamente uma dassas oito instituições para fazer um estudo de acompanhamento dos empréstimos dos estudantes, qual é a probabilidade de escolher uma cujos graduados com débito tenham um débito médio de mais de $30K?**"
      ]
    },
    {
      "cell_type": "markdown",
      "metadata": {
        "id": "mrioexGhEz2R",
        "colab_type": "text"
      },
      "source": [
        "Resposta: São duas em oito, ou seja, 2/8 = **25%**"
      ]
    },
    {
      "cell_type": "markdown",
      "metadata": {
        "id": "01iCyUOsFB1h",
        "colab_type": "text"
      },
      "source": [
        "**d. Qual é a probabilidade de que um graduado na Pace não tenha débito?**"
      ]
    },
    {
      "cell_type": "markdown",
      "metadata": {
        "id": "jFUn2J-vFJUz",
        "colab_type": "text"
      },
      "source": [
        "Resposta: Como 72% saem com débito, a probabilidade de que ele não tenha débito é de 28%."
      ]
    },
    {
      "cell_type": "markdown",
      "metadata": {
        "id": "hW9ClTULFcb_",
        "colab_type": "text"
      },
      "source": [
        "**e. Para os graduados na Pace com débito, a quantia média de débito é $32.980. Considerando todos os formandos da Pace, qual é o débito médio por graduando?**"
      ]
    },
    {
      "cell_type": "markdown",
      "metadata": {
        "id": "fvaJwjrvFszs",
        "colab_type": "text"
      },
      "source": [
        "Resposta: Como 72% tem débito de $32.980, 0,72 x 32980 + 0,28 x $0 = $23.745,60"
      ]
    },
    {
      "cell_type": "markdown",
      "metadata": {
        "id": "C4slI2-aG8BH",
        "colab_type": "text"
      },
      "source": [
        "## **Exercício 11**"
      ]
    },
    {
      "cell_type": "markdown",
      "metadata": {
        "id": "Ve0E19OKHS41",
        "colab_type": "text"
      },
      "source": [
        "Foi realizado um estudo denominado National Occupant Protection Use Survey (Nopus), estudo nacional sobre o uso de prevenção por motociclistas, visando fornecer dados com base em probabilidade, referentes ao uso de capacete por motociclistas, nos EUA. Este estudo foi efetuado enviando-se observadores para locais em estradas, selecionando aleatoriamente, onde eles coletaram dados sobre o uso de capacete por motociclistas, incluindoo número de motociclistas usando capacetes aprovados pelo Min Transp dos EUA. Os dados amostrais consistentes com o mais recente NOPUS são os seguintes:"
      ]
    },
    {
      "cell_type": "code",
      "metadata": {
        "id": "5EzQHa4kHBet",
        "colab_type": "code",
        "colab": {}
      },
      "source": [
        "dados = {\"Região\": ['Nordeste', 'Centro-Oeste', 'Sul', 'Oeste', 'Total'],\n",
        "         \"Capacetes aprovados\": [96, 86, 92, 76, 350],\n",
        "         \"Capacetes não aprovados\": [62, 43, 49, 16, 170]}"
      ],
      "execution_count": 0,
      "outputs": []
    },
    {
      "cell_type": "code",
      "metadata": {
        "id": "lZF7Q7XCKHXb",
        "colab_type": "code",
        "colab": {}
      },
      "source": [
        "df = pd.DataFrame(dados, columns = ['Região', 'Capacetes aprovados', 'Capacetes não aprovados', ])"
      ],
      "execution_count": 0,
      "outputs": []
    },
    {
      "cell_type": "code",
      "metadata": {
        "id": "8U7Ypd8kKSXb",
        "colab_type": "code",
        "outputId": "dce70159-33ab-41f8-9662-5b290f7615b2",
        "colab": {
          "base_uri": "https://localhost:8080/",
          "height": 204
        }
      },
      "source": [
        "df"
      ],
      "execution_count": 0,
      "outputs": [
        {
          "output_type": "execute_result",
          "data": {
            "text/html": [
              "<div>\n",
              "<style scoped>\n",
              "    .dataframe tbody tr th:only-of-type {\n",
              "        vertical-align: middle;\n",
              "    }\n",
              "\n",
              "    .dataframe tbody tr th {\n",
              "        vertical-align: top;\n",
              "    }\n",
              "\n",
              "    .dataframe thead th {\n",
              "        text-align: right;\n",
              "    }\n",
              "</style>\n",
              "<table border=\"1\" class=\"dataframe\">\n",
              "  <thead>\n",
              "    <tr style=\"text-align: right;\">\n",
              "      <th></th>\n",
              "      <th>Região</th>\n",
              "      <th>Capacetes aprovados</th>\n",
              "      <th>Capacetes não aprovados</th>\n",
              "    </tr>\n",
              "  </thead>\n",
              "  <tbody>\n",
              "    <tr>\n",
              "      <th>0</th>\n",
              "      <td>Nordeste</td>\n",
              "      <td>96</td>\n",
              "      <td>62</td>\n",
              "    </tr>\n",
              "    <tr>\n",
              "      <th>1</th>\n",
              "      <td>Centro-Oeste</td>\n",
              "      <td>86</td>\n",
              "      <td>43</td>\n",
              "    </tr>\n",
              "    <tr>\n",
              "      <th>2</th>\n",
              "      <td>Sul</td>\n",
              "      <td>92</td>\n",
              "      <td>49</td>\n",
              "    </tr>\n",
              "    <tr>\n",
              "      <th>3</th>\n",
              "      <td>Oeste</td>\n",
              "      <td>76</td>\n",
              "      <td>16</td>\n",
              "    </tr>\n",
              "    <tr>\n",
              "      <th>4</th>\n",
              "      <td>Total</td>\n",
              "      <td>350</td>\n",
              "      <td>170</td>\n",
              "    </tr>\n",
              "  </tbody>\n",
              "</table>\n",
              "</div>"
            ],
            "text/plain": [
              "         Região  Capacetes aprovados  Capacetes não aprovados\n",
              "0      Nordeste                   96                       62\n",
              "1  Centro-Oeste                   86                       43\n",
              "2           Sul                   92                       49\n",
              "3         Oeste                   76                       16\n",
              "4         Total                  350                      170"
            ]
          },
          "metadata": {
            "tags": []
          },
          "execution_count": 39
        }
      ]
    },
    {
      "cell_type": "markdown",
      "metadata": {
        "id": "demBXmpTLy6r",
        "colab_type": "text"
      },
      "source": [
        "**a. Use os dados amostrais para calcular a estimativa da probabilidade de que um motociclista use um capacete aprovado pelo Min Transp?**"
      ]
    },
    {
      "cell_type": "code",
      "metadata": {
        "id": "FKp01MPOKTM3",
        "colab_type": "code",
        "outputId": "ddc2ade1-e1f2-4faf-aa28-1697d687201a",
        "colab": {
          "base_uri": "https://localhost:8080/",
          "height": 34
        }
      },
      "source": [
        "Total = 350 + 170\n",
        "Aprovado = 350\n",
        "Probabilidade1 = Aprovado/Total\n",
        "Probabilidade1"
      ],
      "execution_count": 0,
      "outputs": [
        {
          "output_type": "execute_result",
          "data": {
            "text/plain": [
              "0.6730769230769231"
            ]
          },
          "metadata": {
            "tags": []
          },
          "execution_count": 40
        }
      ]
    },
    {
      "cell_type": "markdown",
      "metadata": {
        "id": "QKRhrxrARxd2",
        "colab_type": "text"
      },
      "source": [
        "Resposta: A probabilidade é de 67,3%"
      ]
    },
    {
      "cell_type": "markdown",
      "metadata": {
        "id": "ftvNBNJ_R_C2",
        "colab_type": "text"
      },
      "source": [
        "**b. A probabilidade de que um motociclista utilizasse um capacete aprovado pelo Ministério dos Transportes era de 0,48, há cinco anos, e no ano passado essa probabilidade era de 0,63. A National Highway Traffic Safety Administration ficaria satisfeita com os resultados do estudo mais recente?**"
      ]
    },
    {
      "cell_type": "markdown",
      "metadata": {
        "id": "TujWJhmiSV66",
        "colab_type": "text"
      },
      "source": [
        "Resposta: Sim, já que a probabilidade aumentou em 15 pontos percntuais."
      ]
    },
    {
      "cell_type": "markdown",
      "metadata": {
        "id": "v1qkMFO-SeA3",
        "colab_type": "text"
      },
      "source": [
        "**c. Qual é a probabilidade de uso de um capacete devidamente aprovado por região do país? Qual região tem a maior probabilidade de uso de um capacete aprovado?**"
      ]
    },
    {
      "cell_type": "code",
      "metadata": {
        "id": "medpeXgSMF-V",
        "colab_type": "code",
        "outputId": "ad4439e6-2995-4fc2-d442-466bf0aaea4c",
        "colab": {
          "base_uri": "https://localhost:8080/",
          "height": 34
        }
      },
      "source": [
        "NE = 96/(96+62)\n",
        "CO = 86/(86+43)\n",
        "S = 92/(92+49)\n",
        "O = 76/(76+16)\n",
        "print(NE, CO, S, O)\n"
      ],
      "execution_count": 0,
      "outputs": [
        {
          "output_type": "stream",
          "text": [
            "0.6075949367088608 0.6666666666666666 0.6524822695035462 0.8260869565217391\n"
          ],
          "name": "stdout"
        }
      ]
    },
    {
      "cell_type": "markdown",
      "metadata": {
        "id": "qGrI2fc2UjZb",
        "colab_type": "text"
      },
      "source": [
        "Resposta: A probabilidade de uso de um capacete aprovado por região é: NE - 60,8% / CO - 66,7% / S - 65,2% / O - 82,6%. A região O tem maior probabilidade de uso de um capacete aprovado.\n",
        "\n"
      ]
    },
    {
      "cell_type": "markdown",
      "metadata": {
        "id": "4tHEOP22XmDr",
        "colab_type": "text"
      },
      "source": [
        "## **Exercício 19**"
      ]
    },
    {
      "cell_type": "markdown",
      "metadata": {
        "id": "9M14CWaIXtV_",
        "colab_type": "text"
      },
      "source": [
        "Você acredita que o governo protege os investidores adequadamente? Essa pergunta é parte de uma pesquisa on-line, feita com investidores com menos de 65 anos, vivendo nos Estados Unidos e na Grã-Bretanha (Financial Times/Harris Poll, 1º de outubro de 2009). O número de investidores dos Estados Unidos e o número de investidores da Grã-Bretanha que respon­ deram Sim, Não ou Não Soube responder, a esta questão, é apresentado a seguir."
      ]
    },
    {
      "cell_type": "code",
      "metadata": {
        "id": "YRRIygLHXsX-",
        "colab_type": "code",
        "colab": {}
      },
      "source": [
        "dados3 = {\"Resposta\": ['Sim', 'Não', 'Não soube responder'],\n",
        "          \"EUA\": [187,334,256],\n",
        "          \"Grã-Bretanha\": [197,411,213]}"
      ],
      "execution_count": 0,
      "outputs": []
    },
    {
      "cell_type": "code",
      "metadata": {
        "id": "ntq1ke-XY1Nz",
        "colab_type": "code",
        "colab": {}
      },
      "source": [
        "df3 = pd.DataFrame(dados3, columns = ['Resposta', 'EUA', 'Grã-Bretanha'])"
      ],
      "execution_count": 0,
      "outputs": []
    },
    {
      "cell_type": "code",
      "metadata": {
        "id": "cEwpNkmEZZaG",
        "colab_type": "code",
        "outputId": "5da19bc8-91ec-4a9a-92ad-ac079b0b8dca",
        "colab": {
          "base_uri": "https://localhost:8080/",
          "height": 142
        }
      },
      "source": [
        "df3"
      ],
      "execution_count": 0,
      "outputs": [
        {
          "output_type": "execute_result",
          "data": {
            "text/html": [
              "<div>\n",
              "<style scoped>\n",
              "    .dataframe tbody tr th:only-of-type {\n",
              "        vertical-align: middle;\n",
              "    }\n",
              "\n",
              "    .dataframe tbody tr th {\n",
              "        vertical-align: top;\n",
              "    }\n",
              "\n",
              "    .dataframe thead th {\n",
              "        text-align: right;\n",
              "    }\n",
              "</style>\n",
              "<table border=\"1\" class=\"dataframe\">\n",
              "  <thead>\n",
              "    <tr style=\"text-align: right;\">\n",
              "      <th></th>\n",
              "      <th>Resposta</th>\n",
              "      <th>EUA</th>\n",
              "      <th>Grã-Bretanha</th>\n",
              "    </tr>\n",
              "  </thead>\n",
              "  <tbody>\n",
              "    <tr>\n",
              "      <th>0</th>\n",
              "      <td>Sim</td>\n",
              "      <td>187</td>\n",
              "      <td>197</td>\n",
              "    </tr>\n",
              "    <tr>\n",
              "      <th>1</th>\n",
              "      <td>Não</td>\n",
              "      <td>334</td>\n",
              "      <td>411</td>\n",
              "    </tr>\n",
              "    <tr>\n",
              "      <th>2</th>\n",
              "      <td>Não soube responder</td>\n",
              "      <td>256</td>\n",
              "      <td>213</td>\n",
              "    </tr>\n",
              "  </tbody>\n",
              "</table>\n",
              "</div>"
            ],
            "text/plain": [
              "              Resposta  EUA  Grã-Bretanha\n",
              "0                  Sim  187           197\n",
              "1                  Não  334           411\n",
              "2  Não soube responder  256           213"
            ]
          },
          "metadata": {
            "tags": []
          },
          "execution_count": 46
        }
      ]
    },
    {
      "cell_type": "markdown",
      "metadata": {
        "id": "pg7cI95hZmT6",
        "colab_type": "text"
      },
      "source": [
        "**a.\tEstime a probabilidade de que um investidor vivendo nos Estados Unidos acredite que o governo não protege os investidores adequadamente.**"
      ]
    },
    {
      "cell_type": "code",
      "metadata": {
        "id": "K19DvaKTZ5ZK",
        "colab_type": "code",
        "outputId": "3345db25-8402-4131-9411-24e42b1de4ba",
        "colab": {
          "base_uri": "https://localhost:8080/",
          "height": 34
        }
      },
      "source": [
        "prob1 = 334/(187+334+256)\n",
        "prob1"
      ],
      "execution_count": 0,
      "outputs": [
        {
          "output_type": "execute_result",
          "data": {
            "text/plain": [
              "0.42985842985842987"
            ]
          },
          "metadata": {
            "tags": []
          },
          "execution_count": 53
        }
      ]
    },
    {
      "cell_type": "markdown",
      "metadata": {
        "id": "llxBS7EbaM7e",
        "colab_type": "text"
      },
      "source": [
        "Resposta: A probabilidade é de 43%"
      ]
    },
    {
      "cell_type": "markdown",
      "metadata": {
        "id": "Crzr1G3JZui-",
        "colab_type": "text"
      },
      "source": [
        "**b.\tEstime a probabilidade de que um investidor vivendo na Grã-Bretanha acredite que o go­ verno não protege os investidores adequadamente ou não saiba ao certo se o governo pro­ tege os investidores adequadamente.**"
      ]
    },
    {
      "cell_type": "code",
      "metadata": {
        "id": "5pXczXwQaUws",
        "colab_type": "code",
        "colab": {}
      },
      "source": [
        "prob2 = 411/(197+411+213)\n",
        "prob2"
      ],
      "execution_count": 0,
      "outputs": []
    },
    {
      "cell_type": "markdown",
      "metadata": {
        "id": "RBYNeM5DafjE",
        "colab_type": "text"
      },
      "source": [
        "Resposta: A probabilidade é de 50,1%"
      ]
    },
    {
      "cell_type": "markdown",
      "metadata": {
        "id": "0VGHnoK0ZyBJ",
        "colab_type": "text"
      },
      "source": [
        "**c.\tPara um investidor selecionado aleatoriamente, nesses dois países, estime a probabilidade de que um investidor acredite que o governo não protege os investidores adequadamente.**"
      ]
    },
    {
      "cell_type": "code",
      "metadata": {
        "id": "Wto0U8XOamjp",
        "colab_type": "code",
        "outputId": "c1a06d40-ce3a-4186-ad27-2b24f4a54875",
        "colab": {
          "base_uri": "https://localhost:8080/",
          "height": 34
        }
      },
      "source": [
        "prob3 = (334+411)/(187+197+334+411+256+213)\n",
        "prob3"
      ],
      "execution_count": 0,
      "outputs": [
        {
          "output_type": "execute_result",
          "data": {
            "text/plain": [
              "0.4662077596996245"
            ]
          },
          "metadata": {
            "tags": []
          },
          "execution_count": 51
        }
      ]
    },
    {
      "cell_type": "markdown",
      "metadata": {
        "id": "A0tWAexxa5Zh",
        "colab_type": "text"
      },
      "source": [
        "Resposta: A probababilidade é de 46,6%"
      ]
    },
    {
      "cell_type": "markdown",
      "metadata": {
        "id": "ZQdBgnTQZ1K0",
        "colab_type": "text"
      },
      "source": [
        "**d.\tCom base nos resultados desse estudo, parece haver muita diferença entre as percepções dos investidores vivendo nos Estados Unidos e na Grã-Bretanha, com relação a se o gover­no está protegendo os investidores adequadamente?**"
      ]
    },
    {
      "cell_type": "markdown",
      "metadata": {
        "id": "2NU9m8nHe3Zs",
        "colab_type": "text"
      },
      "source": [
        "Resposta: Aparentemente, não existe muita diferença 57% x 49,9%, ou menos de 15% de diferença entre eles."
      ]
    },
    {
      "cell_type": "markdown",
      "metadata": {
        "id": "fIdiXts1gNbP",
        "colab_type": "text"
      },
      "source": [
        "## **Exercício 26**"
      ]
    },
    {
      "cell_type": "markdown",
      "metadata": {
        "id": "7Cvw0oUMg4is",
        "colab_type": "text"
      },
      "source": [
        "Informações sobre fundos mútuos, fornecidas pela Morningstar Investment Research, incluem o tipo de fundo mútuo (Capital Nacional Americano, Capital Internacional ou Renda Fixa) e a classificação da Morningstar para o fundo. A classificação vai de 1 estrela (menor classifica­ ção) a 5 estrelas (maior classificação). Uma amostra com 25 fundos mútuos foi selecionada a partir da lista da Morningstar Funds 500 (2008). Foram obtidas as seguintes contagens:\n",
        "\n",
        "•\tDezesseis fundos mútuos eram de Capital Nacional Americano.<p>\n",
        "•\tTreze fundos mútuos foram classificados com 3 estrelas ou menos.<p>\n",
        "•\tSete dos fundos de Capital Nacional Americano foram classificados com 4 estrelas.<p>\n",
        "•\tDois dos fundos de Capital Nacional Americano foram classificados com 5 estrelas.<p>\n",
        "\n",
        "Assuma que um desses 25 fundos mútuos será aleatoriamente selecionado, a fim de saber mais sobre o fundo em questão e sua estratégia de investimento."
      ]
    },
    {
      "cell_type": "markdown",
      "metadata": {
        "id": "Y4-me7kmh3H5",
        "colab_type": "text"
      },
      "source": [
        "**a. Qual é a probabilidade de selecionar um fundo de Capital Nacional Americano?**"
      ]
    },
    {
      "cell_type": "code",
      "metadata": {
        "id": "DcPGPvyXgX_k",
        "colab_type": "code",
        "outputId": "3bc49e3f-4424-4855-8a70-2932510f4792",
        "colab": {
          "base_uri": "https://localhost:8080/",
          "height": 34
        }
      },
      "source": [
        "prob126 = 16/25\n",
        "prob126"
      ],
      "execution_count": 0,
      "outputs": [
        {
          "output_type": "execute_result",
          "data": {
            "text/plain": [
              "0.64"
            ]
          },
          "metadata": {
            "tags": []
          },
          "execution_count": 57
        }
      ]
    },
    {
      "cell_type": "markdown",
      "metadata": {
        "id": "9wsxABq1iP_I",
        "colab_type": "text"
      },
      "source": [
        "Resposta: A probabilidade é de 64%"
      ]
    },
    {
      "cell_type": "markdown",
      "metadata": {
        "id": "bn1CFj69iUIf",
        "colab_type": "text"
      },
      "source": [
        "**b. Qual é a probabilidade de selecionar um fundo com uma classificação de 4 ou 5 estrelas?**"
      ]
    },
    {
      "cell_type": "code",
      "metadata": {
        "id": "835uS9gjiM2E",
        "colab_type": "code",
        "outputId": "e5f541e6-9a3f-45cd-9d0f-5cc58b480dc5",
        "colab": {
          "base_uri": "https://localhost:8080/",
          "height": 34
        }
      },
      "source": [
        "prob226 = (25-13)/25 #probabilidade do fundo ser 4 ou 5 estrelas\n",
        "prob226\n"
      ],
      "execution_count": 0,
      "outputs": [
        {
          "output_type": "execute_result",
          "data": {
            "text/plain": [
              "0.48"
            ]
          },
          "metadata": {
            "tags": []
          },
          "execution_count": 60
        }
      ]
    },
    {
      "cell_type": "markdown",
      "metadata": {
        "id": "dyPi7p6pj0LN",
        "colab_type": "text"
      },
      "source": [
        "**c. Qual é a probabilidade de selecionar um fundo que seja de Capital Nacional Americano e que tenha sido classificado com 4 ou 5 estrelas?**"
      ]
    },
    {
      "cell_type": "code",
      "metadata": {
        "id": "OVwPSrJSjT8F",
        "colab_type": "code",
        "outputId": "bce0671f-095c-489e-8fd8-134637b4c4e9",
        "colab": {
          "base_uri": "https://localhost:8080/",
          "height": 34
        }
      },
      "source": [
        "prob326 = prob226 * prob126 #prob 4 e 5 estrelas ponderado pela prob de ser americano\n",
        "prob326"
      ],
      "execution_count": 0,
      "outputs": [
        {
          "output_type": "execute_result",
          "data": {
            "text/plain": [
              "0.3072"
            ]
          },
          "metadata": {
            "tags": []
          },
          "execution_count": 61
        }
      ]
    },
    {
      "cell_type": "markdown",
      "metadata": {
        "id": "V1HYENbpjlft",
        "colab_type": "text"
      },
      "source": [
        "Resposta: A probabilidade é de 30,7%"
      ]
    },
    {
      "cell_type": "markdown",
      "metadata": {
        "id": "NnEeyVHnkAxm",
        "colab_type": "text"
      },
      "source": [
        "**d. Qual é a probabilidade de selecionar um fundo que seja de Capital Nacional Americano ou que tenha sido classificado com 4 ou 5 estrelas?**"
      ]
    },
    {
      "cell_type": "markdown",
      "metadata": {
        "id": "TXjnO9u0lM57",
        "colab_type": "text"
      },
      "source": [
        "Resposta: Pela lei da adição, é necessário somar as duas probabilidade e subtrair a probabilidade dos dos casos acontecerem, portanto:"
      ]
    },
    {
      "cell_type": "code",
      "metadata": {
        "id": "Hvlek3bkjh7n",
        "colab_type": "code",
        "outputId": "ea3fe917-5065-4647-95d2-c48da68c17f8",
        "colab": {
          "base_uri": "https://localhost:8080/",
          "height": 34
        }
      },
      "source": [
        "prob426 = prob126 + prob226 - prob326\n",
        "prob426"
      ],
      "execution_count": 0,
      "outputs": [
        {
          "output_type": "execute_result",
          "data": {
            "text/plain": [
              "0.8128000000000002"
            ]
          },
          "metadata": {
            "tags": []
          },
          "execution_count": 62
        }
      ]
    },
    {
      "cell_type": "markdown",
      "metadata": {
        "id": "gLYCf4EFl5Bz",
        "colab_type": "text"
      },
      "source": [
        "Resposta: Portanto, a probabilidade é de 81,3%"
      ]
    },
    {
      "cell_type": "markdown",
      "metadata": {
        "id": "dY_kTid8mDTK",
        "colab_type": "text"
      },
      "source": [
        "## **Exercício 33**"
      ]
    },
    {
      "cell_type": "markdown",
      "metadata": {
        "id": "m8XNKH1hpbts",
        "colab_type": "text"
      },
      "source": [
        "Em uma pesquisa de estudantes de MBA foram obtidos os seguintes dados a respeito da prin­cipal razão pela qual os \"estudantes haviam escolhido a escola na qual se matricularam\"."
      ]
    },
    {
      "cell_type": "code",
      "metadata": {
        "id": "jcifd7fEmHHq",
        "colab_type": "code",
        "colab": {}
      },
      "source": [
        "dados33 = {\"Tipo de matricula\": ['Período Integral', 'Tempo parcial', 'Total'],\n",
        "           \"Qualidade da escola\": [421, 400, 821],\n",
        "           \"Custo da escola ou conveniência\": [393, 593, 986],\n",
        "           \"Outros\": [76, 46, 122],\n",
        "           \"Totais\": [890, 1039, 1929]}"
      ],
      "execution_count": 0,
      "outputs": []
    },
    {
      "cell_type": "code",
      "metadata": {
        "id": "Qz0o8eBUqbSW",
        "colab_type": "code",
        "outputId": "f2e3469f-5898-4221-f052-99c8f965aedd",
        "colab": {
          "base_uri": "https://localhost:8080/",
          "height": 142
        }
      },
      "source": [
        "df33 = pd.DataFrame(dados33, columns= ['Tipo de matricula', 'Qualidade da escola', 'Custo da escola ou conveniência', 'Outros', 'Totais'])\n",
        "df33"
      ],
      "execution_count": 0,
      "outputs": [
        {
          "output_type": "execute_result",
          "data": {
            "text/html": [
              "<div>\n",
              "<style scoped>\n",
              "    .dataframe tbody tr th:only-of-type {\n",
              "        vertical-align: middle;\n",
              "    }\n",
              "\n",
              "    .dataframe tbody tr th {\n",
              "        vertical-align: top;\n",
              "    }\n",
              "\n",
              "    .dataframe thead th {\n",
              "        text-align: right;\n",
              "    }\n",
              "</style>\n",
              "<table border=\"1\" class=\"dataframe\">\n",
              "  <thead>\n",
              "    <tr style=\"text-align: right;\">\n",
              "      <th></th>\n",
              "      <th>Tipo de matricula</th>\n",
              "      <th>Qualidade da escola</th>\n",
              "      <th>Custo da escola ou conveniência</th>\n",
              "      <th>Outros</th>\n",
              "      <th>Totais</th>\n",
              "    </tr>\n",
              "  </thead>\n",
              "  <tbody>\n",
              "    <tr>\n",
              "      <th>0</th>\n",
              "      <td>Período Integral</td>\n",
              "      <td>421</td>\n",
              "      <td>393</td>\n",
              "      <td>76</td>\n",
              "      <td>890</td>\n",
              "    </tr>\n",
              "    <tr>\n",
              "      <th>1</th>\n",
              "      <td>Tempo parcial</td>\n",
              "      <td>400</td>\n",
              "      <td>593</td>\n",
              "      <td>46</td>\n",
              "      <td>1039</td>\n",
              "    </tr>\n",
              "    <tr>\n",
              "      <th>2</th>\n",
              "      <td>Total</td>\n",
              "      <td>821</td>\n",
              "      <td>986</td>\n",
              "      <td>122</td>\n",
              "      <td>1929</td>\n",
              "    </tr>\n",
              "  </tbody>\n",
              "</table>\n",
              "</div>"
            ],
            "text/plain": [
              "  Tipo de matricula  Qualidade da escola  ...  Outros  Totais\n",
              "0  Período Integral                  421  ...      76     890\n",
              "1     Tempo parcial                  400  ...      46    1039\n",
              "2             Total                  821  ...     122    1929\n",
              "\n",
              "[3 rows x 5 columns]"
            ]
          },
          "metadata": {
            "tags": []
          },
          "execution_count": 66
        }
      ]
    },
    {
      "cell_type": "markdown",
      "metadata": {
        "id": "ingvWoF5rDWH",
        "colab_type": "text"
      },
      "source": [
        "**a. Desenvolva uma tabela de probabilidades conjuntas para esses dados**"
      ]
    },
    {
      "cell_type": "code",
      "metadata": {
        "id": "QyYL2Qvfq4EG",
        "colab_type": "code",
        "colab": {}
      },
      "source": [
        "dados233 = {\"Tipo de matricula\": ['Período Integral', 'Tempo parcial', 'Total'],\n",
        "           \"Qualidade da escola\": [(421/1929), 400/1929, 821/1929],\n",
        "           \"Custo da escola ou conveniência\": [393/1929, 593/1929, 986/1929],\n",
        "           \"Outros\": [76/1929, 46/1929, 122/1929],\n",
        "           \"Totais\": [890/1929, 1039/1929, 1929/1929]}"
      ],
      "execution_count": 0,
      "outputs": []
    },
    {
      "cell_type": "markdown",
      "metadata": {
        "id": "j677b3xOstjF",
        "colab_type": "text"
      },
      "source": [
        "Resposta:"
      ]
    },
    {
      "cell_type": "code",
      "metadata": {
        "id": "fFBfCd56sNtC",
        "colab_type": "code",
        "outputId": "dd9ea398-8f07-4e03-c78d-d43f2309d6b2",
        "colab": {
          "base_uri": "https://localhost:8080/",
          "height": 142
        }
      },
      "source": [
        "df233 = pd.DataFrame(dados233, columns= ['Tipo de matricula', 'Qualidade da escola', 'Custo da escola ou conveniência', 'Outros', 'Totais'])\n",
        "df233"
      ],
      "execution_count": 0,
      "outputs": [
        {
          "output_type": "execute_result",
          "data": {
            "text/html": [
              "<div>\n",
              "<style scoped>\n",
              "    .dataframe tbody tr th:only-of-type {\n",
              "        vertical-align: middle;\n",
              "    }\n",
              "\n",
              "    .dataframe tbody tr th {\n",
              "        vertical-align: top;\n",
              "    }\n",
              "\n",
              "    .dataframe thead th {\n",
              "        text-align: right;\n",
              "    }\n",
              "</style>\n",
              "<table border=\"1\" class=\"dataframe\">\n",
              "  <thead>\n",
              "    <tr style=\"text-align: right;\">\n",
              "      <th></th>\n",
              "      <th>Tipo de matricula</th>\n",
              "      <th>Qualidade da escola</th>\n",
              "      <th>Custo da escola ou conveniência</th>\n",
              "      <th>Outros</th>\n",
              "      <th>Totais</th>\n",
              "    </tr>\n",
              "  </thead>\n",
              "  <tbody>\n",
              "    <tr>\n",
              "      <th>0</th>\n",
              "      <td>Período Integral</td>\n",
              "      <td>0.218248</td>\n",
              "      <td>0.203733</td>\n",
              "      <td>0.039399</td>\n",
              "      <td>0.461379</td>\n",
              "    </tr>\n",
              "    <tr>\n",
              "      <th>1</th>\n",
              "      <td>Tempo parcial</td>\n",
              "      <td>0.207361</td>\n",
              "      <td>0.307413</td>\n",
              "      <td>0.023847</td>\n",
              "      <td>0.538621</td>\n",
              "    </tr>\n",
              "    <tr>\n",
              "      <th>2</th>\n",
              "      <td>Total</td>\n",
              "      <td>0.425609</td>\n",
              "      <td>0.511146</td>\n",
              "      <td>0.063245</td>\n",
              "      <td>1.000000</td>\n",
              "    </tr>\n",
              "  </tbody>\n",
              "</table>\n",
              "</div>"
            ],
            "text/plain": [
              "  Tipo de matricula  Qualidade da escola  ...    Outros    Totais\n",
              "0  Período Integral             0.218248  ...  0.039399  0.461379\n",
              "1     Tempo parcial             0.207361  ...  0.023847  0.538621\n",
              "2             Total             0.425609  ...  0.063245  1.000000\n",
              "\n",
              "[3 rows x 5 columns]"
            ]
          },
          "metadata": {
            "tags": []
          },
          "execution_count": 75
        }
      ]
    },
    {
      "cell_type": "markdown",
      "metadata": {
        "id": "GWtkXDzgs0Uj",
        "colab_type": "text"
      },
      "source": [
        "**b. Use as probabilidades marginais correspondentes à qualidade da escola, custo ou conve­niência e outros para comentar a razão mais importante para alguém escolher a escola.**"
      ]
    },
    {
      "cell_type": "markdown",
      "metadata": {
        "id": "jU6wWQ51vzAQ",
        "colab_type": "text"
      },
      "source": [
        "Resposta: Pelas probabilidades marginais, o custo ou conveniência é a razão principal, em 51,1% dos casos."
      ]
    },
    {
      "cell_type": "markdown",
      "metadata": {
        "id": "QOGkHthawE0z",
        "colab_type": "text"
      },
      "source": [
        "**c.\tSe o estudante optou por tempo integral, qual é a probabilidade de a qualidade ser a primei­ ra razão para a escolha da escola?**"
      ]
    },
    {
      "cell_type": "markdown",
      "metadata": {
        "id": "zE7DxNp1wLoL",
        "colab_type": "text"
      },
      "source": [
        "Resposta: A probabilidade é de 21,8% de, caso ele tenha escolhido tempo integral, a qualidade da escola ser o principal motivo."
      ]
    },
    {
      "cell_type": "markdown",
      "metadata": {
        "id": "XPiwwf92wizJ",
        "colab_type": "text"
      },
      "source": [
        "**d. Se o estudante decidiu por tempo parcial, qual é a probabilidade de a qualidade ser a pri­ meira razão para a escolha da escola?**"
      ]
    },
    {
      "cell_type": "markdown",
      "metadata": {
        "id": "d2gAe9_ywtZW",
        "colab_type": "text"
      },
      "source": [
        "Resposta: A probabilidade é de 20,7% de, caso ele tenha escolhido tempo parcial, a qualidade da escola ser o principal motivo."
      ]
    },
    {
      "cell_type": "markdown",
      "metadata": {
        "id": "-eEtwyrTw4TV",
        "colab_type": "text"
      },
      "source": [
        "**e.\tAdmitamos que A denote o evento de um estudante estar em um curso de tempo integral e que B denote o evento de o estudante relacionar a qualidade da escola como a primeira razão para matricular-se. Os eventos A e B são independentes? Justifique sua resposta.**"
      ]
    },
    {
      "cell_type": "markdown",
      "metadata": {
        "id": "fqCzKtVcxT_J",
        "colab_type": "text"
      },
      "source": [
        "Resposta: Sim, pode-se afirmar, já que a probabilidade dele relacionar a qualidade como primeira razão é muito parecida nos dois casos 21,8 (integral) e 20,7% (parcial)."
      ]
    },
    {
      "cell_type": "markdown",
      "metadata": {
        "id": "DZFx4nPY2nlH",
        "colab_type": "text"
      },
      "source": [
        "## **Exercício 44**"
      ]
    },
    {
      "cell_type": "markdown",
      "metadata": {
        "id": "bj4vmJxgJg_i",
        "colab_type": "text"
      },
      "source": [
        "O American Council of Education divulgou que 47% dos calouros universitários colam grau e fazem pós-graduação em cinco anos (Associated Press, 6 de maio de 2002). Suponha que os registros do curso de pós-graduação mostrem que as mulheres compõem 50% dos estudantes que se graduaram em cinco anos, mas somente 45% dos estudantes que não se graduaram em cinco anos. Os estudantes que não se graduaram em cinco anos ou saíram da escola ou ainda não tinham concluído o curso."
      ]
    },
    {
      "cell_type": "markdown",
      "metadata": {
        "id": "c81X-0mHJtEF",
        "colab_type": "text"
      },
      "source": [
        "**a.\tSe admitirmos que<p>\n",
        "A1 = o estudante que se graduou em cinco anos<p>\n",
        "A2 = o estudante que não se graduou em cinco anos<p>\n",
        "M = o estudante é uma mulher<p>\n",
        "Usando a informação dada, quais são os valores para P(A1),  P(A2), P(M I A1) e\tP(M I A2)?**"
      ]
    },
    {
      "cell_type": "markdown",
      "metadata": {
        "id": "QRJDdAoSNFcI",
        "colab_type": "text"
      },
      "source": [
        "Resposta: As respostas são: P(A1) = 47%, P(A2) = 53%, P(M|A1) = 50% e P(M|A2) = 45%"
      ]
    },
    {
      "cell_type": "markdown",
      "metadata": {
        "id": "57mdasjBNrOB",
        "colab_type": "text"
      },
      "source": [
        "**b. Qual é a probabilidade de uma mulher graduar-se dentro de cinco anos?**"
      ]
    },
    {
      "cell_type": "markdown",
      "metadata": {
        "id": "BVB9LX67bzKy",
        "colab_type": "text"
      },
      "source": [
        "P(A1|M) = P(M|A1) X P(A1)/P(M|A1) X P(A1) + P(M|A2) X P(A2)\n"
      ]
    },
    {
      "cell_type": "code",
      "metadata": {
        "id": "0Guny-k4PKKW",
        "colab_type": "code",
        "outputId": "4e199576-0db6-4a98-8b3b-78bb796aa213",
        "colab": {
          "base_uri": "https://localhost:8080/",
          "height": 34
        }
      },
      "source": [
        "PA1M = 0.5*0.47/((0.5*0.47)+(0.45*0.53))\n",
        "PA1M"
      ],
      "execution_count": 0,
      "outputs": [
        {
          "output_type": "execute_result",
          "data": {
            "text/plain": [
              "0.49630411826821536"
            ]
          },
          "metadata": {
            "tags": []
          },
          "execution_count": 90
        }
      ]
    },
    {
      "cell_type": "markdown",
      "metadata": {
        "id": "jJtM_YVDOZM0",
        "colab_type": "text"
      },
      "source": [
        "**c. Qual é a probabilidade de um homem graduar-se dentro de cinco anos?**"
      ]
    },
    {
      "cell_type": "markdown",
      "metadata": {
        "id": "fXfB805_0BU5",
        "colab_type": "text"
      },
      "source": [
        "P(A1|H) = P(H|A1)XP(A1)/P(H|A1)XP(A1) + P(H|A1)XP(A2)"
      ]
    },
    {
      "cell_type": "code",
      "metadata": {
        "id": "QG_vpd81z9O-",
        "colab_type": "code",
        "colab": {}
      },
      "source": [
        ""
      ],
      "execution_count": 0,
      "outputs": []
    },
    {
      "cell_type": "markdown",
      "metadata": {
        "id": "sKyWkpHnOp7H",
        "colab_type": "text"
      },
      "source": [
        "**d. Dados os resultados anteriores, qual é a porcentagem de mulheres e qual é a porcentagem de homens calouros na universidade?**"
      ]
    },
    {
      "cell_type": "markdown",
      "metadata": {
        "id": "afkRtGjyV74S",
        "colab_type": "text"
      },
      "source": [
        "## **Exercício 50**"
      ]
    },
    {
      "cell_type": "code",
      "metadata": {
        "id": "-nXPc9EjV_zR",
        "colab_type": "code",
        "colab": {}
      },
      "source": [
        ""
      ],
      "execution_count": 0,
      "outputs": []
    }
  ]
}