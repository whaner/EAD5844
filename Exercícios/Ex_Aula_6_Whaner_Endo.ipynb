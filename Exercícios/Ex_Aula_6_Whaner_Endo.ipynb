{
  "nbformat": 4,
  "nbformat_minor": 0,
  "metadata": {
    "colab": {
      "name": "Ex Aula 6 - Whaner Endo.ipynb",
      "provenance": [],
      "toc_visible": true,
      "authorship_tag": "ABX9TyOHFC5v4YhxKfnNdBd80tP4",
      "include_colab_link": true
    },
    "kernelspec": {
      "name": "python3",
      "display_name": "Python 3"
    }
  },
  "cells": [
    {
      "cell_type": "markdown",
      "metadata": {
        "id": "view-in-github",
        "colab_type": "text"
      },
      "source": [
        "<a href=\"https://colab.research.google.com/github/whaner/EAD5844/blob/master/Exerc%C3%ADcios/Ex_Aula_6_Whaner_Endo.ipynb\" target=\"_parent\"><img src=\"https://colab.research.google.com/assets/colab-badge.svg\" alt=\"Open In Colab\"/></a>"
      ]
    },
    {
      "cell_type": "code",
      "metadata": {
        "id": "jUrbpvkTwNhC",
        "colab_type": "code",
        "colab": {}
      },
      "source": [
        "import numpy as np\n",
        "import math"
      ],
      "execution_count": 0,
      "outputs": []
    },
    {
      "cell_type": "markdown",
      "metadata": {
        "id": "9I9XuKTEz3Eo",
        "colab_type": "text"
      },
      "source": [
        "# Exercício 6"
      ]
    },
    {
      "cell_type": "markdown",
      "metadata": {
        "id": "Hn-6M4CK0YGp",
        "colab_type": "text"
      },
      "source": [
        "Em média, os seriados cômicos de 30 minutos têm 22 minutos de programa (CNBC, 23 de fevereiro de 2006). Considere que a distribuição de probabilidade para minutos de programa pode ser aproximada por uma distribuição uniforme de 18 minutos a 26 minutos."
      ]
    },
    {
      "cell_type": "markdown",
      "metadata": {
        "id": "S_XmmpDx0fve",
        "colab_type": "text"
      },
      "source": [
        "**a. Qual é a probabilidade de que um seriado tenha 25 minutos ou mais de programa?**"
      ]
    },
    {
      "cell_type": "code",
      "metadata": {
        "id": "ZQ9DSQxyzwik",
        "colab_type": "code",
        "outputId": "215d269f-db5c-4e31-a25f-a7615766ec13",
        "colab": {
          "base_uri": "https://localhost:8080/",
          "height": 34
        }
      },
      "source": [
        "a = 18 #limite inferior do intervalo\n",
        "b = 26 #limite superior do intervalo\n",
        "f = 1/(b-a) #Função densidade de probabilidade, a qual define a distribuição de probabilidade uniforme correspondente à variável aleatória\n",
        "f"
      ],
      "execution_count": 0,
      "outputs": [
        {
          "output_type": "execute_result",
          "data": {
            "text/plain": [
              "0.125"
            ]
          },
          "metadata": {
            "tags": []
          },
          "execution_count": 2
        }
      ]
    },
    {
      "cell_type": "markdown",
      "metadata": {
        "id": "pYx7137t0xNx",
        "colab_type": "text"
      },
      "source": [
        "Resposta: A probabilidade de que um seriado tenha 25 minutos ou mais de programa é de 12,5%."
      ]
    },
    {
      "cell_type": "markdown",
      "metadata": {
        "id": "f2R9IUFb1FHJ",
        "colab_type": "text"
      },
      "source": [
        "**b.\tQual é a probabilidade de que um seriado tenha entre 21 e 25 minutos de programa?**"
      ]
    },
    {
      "cell_type": "code",
      "metadata": {
        "id": "2EEn2_gn0rFN",
        "colab_type": "code",
        "outputId": "ec947612-9b19-4c79-c451-a08a46e38f18",
        "colab": {
          "base_uri": "https://localhost:8080/",
          "height": 34
        }
      },
      "source": [
        "x2 = 25 #limite superior do intervalo buscado\n",
        "x1 = 21 #limite inferior do intervalo buscado\n",
        "p = f*(x2-x1) #probabilidade da variável assumuir um valor dentro do intervalo x1-x2\n",
        "p"
      ],
      "execution_count": 0,
      "outputs": [
        {
          "output_type": "execute_result",
          "data": {
            "text/plain": [
              "0.5"
            ]
          },
          "metadata": {
            "tags": []
          },
          "execution_count": 3
        }
      ]
    },
    {
      "cell_type": "markdown",
      "metadata": {
        "id": "-NggZIxU1YYE",
        "colab_type": "text"
      },
      "source": [
        "Resposta: A probabilidade de que um seriado tenha entre 21 e 25 minutos de programa é de 50%."
      ]
    },
    {
      "cell_type": "markdown",
      "metadata": {
        "id": "kgm2kPd01mCq",
        "colab_type": "text"
      },
      "source": [
        "**c.\tQual é a probabilidade de que um seriado tenha mais de 10 minutos de comerciais ou outras interrupções que não fazem parte do programa?**"
      ]
    },
    {
      "cell_type": "code",
      "metadata": {
        "id": "s2XfykS81Lz7",
        "colab_type": "code",
        "outputId": "da5533eb-3917-4712-8b17-e5ee46fabced",
        "colab": {
          "base_uri": "https://localhost:8080/",
          "height": 34
        }
      },
      "source": [
        "x2 = 20 #limite superior do intervalo buscado\n",
        "x1 = 18 #limite inferior do intervalo buscado\n",
        "p = f*(x2-x1) #probabilidade da variável assumuir um valor dentro do intervalo x1-x2\n",
        "p"
      ],
      "execution_count": 0,
      "outputs": [
        {
          "output_type": "execute_result",
          "data": {
            "text/plain": [
              "0.25"
            ]
          },
          "metadata": {
            "tags": []
          },
          "execution_count": 4
        }
      ]
    },
    {
      "cell_type": "markdown",
      "metadata": {
        "id": "2iGCBOaC8baY",
        "colab_type": "text"
      },
      "source": [
        "Resposta: A probabilidade de que um seriado tenha mais de 10 minutos de comerciais ou outras interrupções que não fazem parte do programa é de 25%, já isso significaria que o programa tem entre 18 e 20 minutos."
      ]
    },
    {
      "cell_type": "markdown",
      "metadata": {
        "id": "qYfjPjSG8mIw",
        "colab_type": "text"
      },
      "source": [
        "# Exercício 7"
      ]
    },
    {
      "cell_type": "markdown",
      "metadata": {
        "id": "NgU1aAtF8vE5",
        "colab_type": "text"
      },
      "source": [
        "Suponha que estejamos interessados em apresentar uma oferta de compra de um lote de terra e sabemos que há outro concorrente interessado. O vendedor anunciou que a oferta mais alta, acima de 10 mil, seria aceita. Suponha que a oferta x apresentada pelo concor­rente seja uma variável aleatória que se distribui uniformemente entre 10 mil e 15 mil."
      ]
    },
    {
      "cell_type": "markdown",
      "metadata": {
        "id": "7OD4u7EP9CeS",
        "colab_type": "text"
      },
      "source": [
        "**a.\tSuponha que você faça uma oferta de $ 12 mil. Qual é a probabilidade de o seu lance ser aceito?**"
      ]
    },
    {
      "cell_type": "code",
      "metadata": {
        "id": "eCnTCE434npI",
        "colab_type": "code",
        "outputId": "1cb709ed-c98b-477f-f06e-6b38c0cc3459",
        "colab": {
          "base_uri": "https://localhost:8080/",
          "height": 34
        }
      },
      "source": [
        "a = 10000 #limite inferior do intervalo\n",
        "b = 15000 #limite superior do intervalo\n",
        "f = 1/(b-a) #Função densidade de probabilidade, a qual define a distribuição de probabilidade uniforme correspondente à variável aleatória\n",
        "f"
      ],
      "execution_count": 0,
      "outputs": [
        {
          "output_type": "execute_result",
          "data": {
            "text/plain": [
              "0.0002"
            ]
          },
          "metadata": {
            "tags": []
          },
          "execution_count": 5
        }
      ]
    },
    {
      "cell_type": "code",
      "metadata": {
        "id": "DknmzTcc9XWo",
        "colab_type": "code",
        "outputId": "b27a3b17-33ea-4d74-c983-ff604357093d",
        "colab": {
          "base_uri": "https://localhost:8080/",
          "height": 34
        }
      },
      "source": [
        "x2 = 15000 #limite superior do intervalo buscado\n",
        "x1 = 12000 #limite inferior do intervalo buscado\n",
        "p = f*(x2-x1) #probabilidade da variável assumuir um valor dentro do intervalo x1-x2\n",
        "p"
      ],
      "execution_count": 0,
      "outputs": [
        {
          "output_type": "execute_result",
          "data": {
            "text/plain": [
              "0.6"
            ]
          },
          "metadata": {
            "tags": []
          },
          "execution_count": 6
        }
      ]
    },
    {
      "cell_type": "markdown",
      "metadata": {
        "id": "7BKif5Dv9v2J",
        "colab_type": "text"
      },
      "source": [
        "Resposta: Como a probabilidade do valor estar entre 12 (sua proposta) e 15 (teto do intervalo) é de 60%, a sua probabilidade é de 40%."
      ]
    },
    {
      "cell_type": "markdown",
      "metadata": {
        "id": "ccdRcm9_Bgh_",
        "colab_type": "text"
      },
      "source": [
        "**b. Suponha que você faça uma oferta de $ 14 mil. Qual é a probabilidade de o seu lance ser aceito?**"
      ]
    },
    {
      "cell_type": "code",
      "metadata": {
        "id": "3NFI9C5S9nhc",
        "colab_type": "code",
        "outputId": "166e1544-80c5-4dcf-cb5c-f09a7c97dc0c",
        "colab": {
          "base_uri": "https://localhost:8080/",
          "height": 34
        }
      },
      "source": [
        "x2 = 15000 #limite superior do intervalo buscado\n",
        "x1 = 14000 #limite inferior do intervalo buscado\n",
        "p = f*(x2-x1) #probabilidade da variável assumuir um valor dentro do intervalo x1-x2\n",
        "p"
      ],
      "execution_count": 0,
      "outputs": [
        {
          "output_type": "execute_result",
          "data": {
            "text/plain": [
              "0.2"
            ]
          },
          "metadata": {
            "tags": []
          },
          "execution_count": 7
        }
      ]
    },
    {
      "cell_type": "markdown",
      "metadata": {
        "id": "gaf9CN2hBud3",
        "colab_type": "text"
      },
      "source": [
        "Resposta: Como a probabilidade de estar entre 14-15 é de 20%, a probabilidade da minha proposta (14K) ser aceita é de 80%."
      ]
    },
    {
      "cell_type": "markdown",
      "metadata": {
        "id": "z44JffQDCItG",
        "colab_type": "text"
      },
      "source": [
        "**c.\tQual valor você deve oferecer para maximizar a probabilidade de obter a propriedade?**"
      ]
    },
    {
      "cell_type": "markdown",
      "metadata": {
        "id": "wgRAfsOjCPO9",
        "colab_type": "text"
      },
      "source": [
        "Resposta: Se a oferta for de 15K, a probabilidade será de 100%, já que todos os concorrentes oferecerão proposta de valor igual ou menor que a de 15K."
      ]
    },
    {
      "cell_type": "markdown",
      "metadata": {
        "id": "7xo2byAtGvzd",
        "colab_type": "text"
      },
      "source": [
        "**d. Suponha que você conheça alguém que esteja disposto a pagar $ 16 mil pela propriedade. Você consideraria fazer uma oferta menor que o valor envolvido no item (c)? Por que sim ou por que não?**"
      ]
    },
    {
      "cell_type": "markdown",
      "metadata": {
        "id": "IEwDn6AZG1mB",
        "colab_type": "text"
      },
      "source": [
        "Resposta: Não, pois com a oferta de 15K eu compraria o terreno e poderia vender para a pessoa que está disposto a pagar 16K e teria um lucro de 1K. Agora, caso a oferta de 16K fosse concorrente à minha de 15K eu poderia reduzir minha ofera ao menor valor possível, já que não teria como vencer a proposta concorrente."
      ]
    },
    {
      "cell_type": "markdown",
      "metadata": {
        "id": "K0fy77B7a4dr",
        "colab_type": "text"
      },
      "source": [
        "# Exercício 20"
      ]
    },
    {
      "cell_type": "markdown",
      "metadata": {
        "id": "Aqgnx_8BbcLF",
        "colab_type": "text"
      },
      "source": [
        "Em janeiro de 2003 o trabalhador norte-americano passou em média 77 horas conectado à Internet enquanto se encontrava no trabalho (CNBC, 15 de março de 2003). Suponha que a mé­dia populacional é 77 horas, que os tempos estejam normalmente distribuídos e que o desvio padrão seja de 20 horas."
      ]
    },
    {
      "cell_type": "markdown",
      "metadata": {
        "id": "jFc_7Oyhbkv4",
        "colab_type": "text"
      },
      "source": [
        "**a. Qual é a probabilidade de um trabalhador escolhido aleatoriamente ter passado menos de 50 horas conectado à Internet?**"
      ]
    },
    {
      "cell_type": "code",
      "metadata": {
        "id": "yKRydnjbhHe-",
        "colab_type": "code",
        "outputId": "ecc9df3f-4a05-49f5-a1bf-ed068648a1bb",
        "colab": {
          "base_uri": "https://localhost:8080/",
          "height": 34
        }
      },
      "source": [
        "x = 50 #variavel aleatoria\n",
        "mu = 77 #média\n",
        "sigma = 20 #desvio padrão\n",
        "z = (x-mu)/sigma\n",
        "z"
      ],
      "execution_count": 0,
      "outputs": [
        {
          "output_type": "execute_result",
          "data": {
            "text/plain": [
              "-1.35"
            ]
          },
          "metadata": {
            "tags": []
          },
          "execution_count": 8
        }
      ]
    },
    {
      "cell_type": "markdown",
      "metadata": {
        "id": "lYEOJwHVh8xm",
        "colab_type": "text"
      },
      "source": [
        "Resposta: Convertendo as 50h (variável aleatória normal) em uma variável aleatória padrão (z), chegamos à -1,35. Utilizando a tabela, chegamos ao valor da probabilidade que é: 0,0885 ou 8,85%."
      ]
    },
    {
      "cell_type": "markdown",
      "metadata": {
        "id": "YZrrXibijpe8",
        "colab_type": "text"
      },
      "source": [
        "**b. Qual porcentagem de trabalhadores passou mais de 100 horas conectados à Internet?**"
      ]
    },
    {
      "cell_type": "code",
      "metadata": {
        "id": "Nvx_lvLDcFF5",
        "colab_type": "code",
        "outputId": "44c67740-58de-4a49-ec4c-90f9a5ea1117",
        "colab": {
          "base_uri": "https://localhost:8080/",
          "height": 34
        }
      },
      "source": [
        "x = 100 #variavel aleatoria\n",
        "mu = 77 #média\n",
        "sigma = 20 #desvio padrão\n",
        "z = (x-mu)/sigma\n",
        "z"
      ],
      "execution_count": 0,
      "outputs": [
        {
          "output_type": "execute_result",
          "data": {
            "text/plain": [
              "1.15"
            ]
          },
          "metadata": {
            "tags": []
          },
          "execution_count": 9
        }
      ]
    },
    {
      "cell_type": "markdown",
      "metadata": {
        "id": "51kmUrWCkAI5",
        "colab_type": "text"
      },
      "source": [
        "Resposta: Como para 100h a probabilidade é de 0,8749 (utilizando p(15) e a tabela), para saber a porcentagem acima de 100h, temos 1 - 0,8749 ou 0,1251 ou 12,51%."
      ]
    },
    {
      "cell_type": "markdown",
      "metadata": {
        "id": "HvHQRLmOkoIy",
        "colab_type": "text"
      },
      "source": [
        "**c. Uma pessoa é classificada como usuário intensivo se estiver entre os 20% que fazem mais uso. Quantas horas um trabalhador deve se manter conectado àInternet para ser classificado como usuário intensivo?**"
      ]
    },
    {
      "cell_type": "markdown",
      "metadata": {
        "id": "Fd7mZv_rmfyN",
        "colab_type": "text"
      },
      "source": [
        "Como ele faz parte dos 20%, significa que ele deve usar mais do que 80% da população. Consultando a tabela tem-se que a probabilidade de 80% leva a um valode de z de 0,85. Com isso, é possível calcular o valor de x (variável aleatória - qtd de horas mínima):"
      ]
    },
    {
      "cell_type": "code",
      "metadata": {
        "id": "6wVQy_FSkRFl",
        "colab_type": "code",
        "outputId": "c632af4e-3c6a-4b84-faa3-5ea91243c53a",
        "colab": {
          "base_uri": "https://localhost:8080/",
          "height": 34
        }
      },
      "source": [
        "mu = 77\n",
        "z = 0.85\n",
        "x = (z * sigma) + mu\n",
        "x"
      ],
      "execution_count": 0,
      "outputs": [
        {
          "output_type": "execute_result",
          "data": {
            "text/plain": [
              "94.0"
            ]
          },
          "metadata": {
            "tags": []
          },
          "execution_count": 10
        }
      ]
    },
    {
      "cell_type": "markdown",
      "metadata": {
        "id": "beeIDr54nqRe",
        "colab_type": "text"
      },
      "source": [
        "Resposta: Precisa se manter conectado 94h para estar entre os 20% que mais fazem usos."
      ]
    },
    {
      "cell_type": "markdown",
      "metadata": {
        "id": "EaETQ4DQo4u0",
        "colab_type": "text"
      },
      "source": [
        "# Exercício 22"
      ]
    },
    {
      "cell_type": "markdown",
      "metadata": {
        "id": "BIMkbwsKo_mo",
        "colab_type": "text"
      },
      "source": [
        "O hábito de assistir à TV atingiu uma nova marca quando a Nielsen Company relatou um tem­po médio diário de 8,35 horas por espectador assistindo à TV (USA Today, 11 de novembro de 2009). Utilize uma distribuição de probabilidade normal com um desvio padrão de 2,5 horas para responder às seguintes perguntas sobre o tempo diário assistindo à TV para cada espectador."
      ]
    },
    {
      "cell_type": "markdown",
      "metadata": {
        "id": "e8R0guLEpIfP",
        "colab_type": "text"
      },
      "source": [
        "**a. Qual é a probabilidade de que um espectador assista àTV durante 5 a 1O horas por dia?**"
      ]
    },
    {
      "cell_type": "markdown",
      "metadata": {
        "id": "L3fjwwZ4p7IW",
        "colab_type": "text"
      },
      "source": [
        "Basta calcular a área da curva menor que 10h e subtrair da área da curva menor que 5h:"
      ]
    },
    {
      "cell_type": "code",
      "metadata": {
        "id": "9pUNiXCPk-HG",
        "colab_type": "code",
        "outputId": "f0760639-6f0f-4c6a-c2fd-8843f07cdc79",
        "colab": {
          "base_uri": "https://localhost:8080/"
        }
      },
      "source": [
        "x10 = 10 #variavel aleatoria\n",
        "mu = 8.35 #média\n",
        "sigma = 2.5 #desvio padrão\n",
        "z10 = (x10-mu)/sigma\n",
        "\n",
        "x5 = 5 #variavel aleatoria\n",
        "mu = 8.35 #média\n",
        "sigma = 2.5 #desvio padrão\n",
        "z5 = (x5-mu)/sigma\n",
        "\n",
        "print(z10)\n",
        "print(z5)"
      ],
      "execution_count": 0,
      "outputs": [
        {
          "output_type": "stream",
          "text": [
            "0.6600000000000001\n",
            "-1.3399999999999999\n"
          ],
          "name": "stdout"
        }
      ]
    },
    {
      "cell_type": "markdown",
      "metadata": {
        "id": "x6afTFaKqSnn",
        "colab_type": "text"
      },
      "source": [
        "Resposta: Consultando a tabela, tem-se que z10 - z5 = 0,7454 - 0,0901 = 0,6553 ou 65,53%"
      ]
    },
    {
      "cell_type": "markdown",
      "metadata": {
        "id": "gbwWO3eLqnfq",
        "colab_type": "text"
      },
      "source": [
        "**b. Por quantas horas um espectador deve assistir à TV para estar entre os 3% que mais assis­ tem TV dentre todos os espectadores?**"
      ]
    },
    {
      "cell_type": "markdown",
      "metadata": {
        "id": "AWZMi0ijqwgQ",
        "colab_type": "text"
      },
      "source": [
        "Como ele faz parte dos 3%, significa que ele deve usar mais do que 97% da população. Consultando a tabela tem-se que a probabilidade de 97% leva a um valor de de z de 1,88. Com isso, é possível calcular o valor de x (variável aleatória - qtd de horas mínima):"
      ]
    },
    {
      "cell_type": "code",
      "metadata": {
        "id": "inVxHXilp0kD",
        "colab_type": "code",
        "outputId": "cc7d559f-2ffc-43a1-e966-fd7bd5aedaea",
        "colab": {
          "base_uri": "https://localhost:8080/"
        }
      },
      "source": [
        "mu = 8.35\n",
        "z = 1.88\n",
        "sigma = 2.5\n",
        "x = (z * sigma) + mu\n",
        "x"
      ],
      "execution_count": 0,
      "outputs": [
        {
          "output_type": "execute_result",
          "data": {
            "text/plain": [
              "13.049999999999999"
            ]
          },
          "metadata": {
            "tags": []
          },
          "execution_count": 12
        }
      ]
    },
    {
      "cell_type": "markdown",
      "metadata": {
        "id": "p3yaFuljsOgr",
        "colab_type": "text"
      },
      "source": [
        "Resposta: Deve assistir pelo menos 13h05."
      ]
    },
    {
      "cell_type": "markdown",
      "metadata": {
        "id": "FHoc6NGUsWZy",
        "colab_type": "text"
      },
      "source": [
        "**c. Qual é a probabilidade de que um telespectador assista à TV por mais de 3 horas por dia?**"
      ]
    },
    {
      "cell_type": "code",
      "metadata": {
        "id": "cIMAq0d0rK7G",
        "colab_type": "code",
        "outputId": "39fafd73-0a8e-4c51-ba6c-5ec98d0c15ae",
        "colab": {
          "base_uri": "https://localhost:8080/"
        }
      },
      "source": [
        "x3 = 3 #variavel aleatoria\n",
        "mu = 8.35 #média\n",
        "sigma = 2.5 #desvio padrão\n",
        "z3 = (x3-mu)/sigma\n",
        "z3"
      ],
      "execution_count": 0,
      "outputs": [
        {
          "output_type": "execute_result",
          "data": {
            "text/plain": [
              "-2.1399999999999997"
            ]
          },
          "metadata": {
            "tags": []
          },
          "execution_count": 13
        }
      ]
    },
    {
      "cell_type": "markdown",
      "metadata": {
        "id": "Qy01jbnJsxzr",
        "colab_type": "text"
      },
      "source": [
        "Resposta: z(3) = -2,14. Consultando a tabela tem-se 1,62% Portanto 100 - 1,62 = 98,38%"
      ]
    },
    {
      "cell_type": "markdown",
      "metadata": {
        "id": "FQXIgCX4tM_n",
        "colab_type": "text"
      },
      "source": [
        "# Exercício 24"
      ]
    },
    {
      "cell_type": "markdown",
      "metadata": {
        "id": "PTn_KXKbtWJc",
        "colab_type": "text"
      },
      "source": [
        "O volume de negociações na Bolsa de Valores de Nova York é maior durante a primeira meia hora (no começo da manhã) e na última meia hora (no final da tarde) de um dia normal de ne­ gociação. Os volumes de negociação no começo da manhã (em milhões de ações) para 13 dias em janeiro e fevereiro são mostrados aqui (Barron's, 23 de janeiro de 2006; 13 de fevereiro de 2006; e 27 de fevereiro de 2006)."
      ]
    },
    {
      "cell_type": "markdown",
      "metadata": {
        "id": "SK_OuRcetn1y",
        "colab_type": "text"
      },
      "source": [
        "214 |\t163 |\t265 |\t194 |\t180\n",
        "--- | --- | --- | --- | ---\n",
        "202 | 198 | 212 | 201 |\n",
        "174 | 171| 211|211"
      ]
    },
    {
      "cell_type": "markdown",
      "metadata": {
        "id": "Laz0L-DZvzZD",
        "colab_type": "text"
      },
      "source": [
        "A distribuição de probabilidade do volume de negociação é aproximadamente normal."
      ]
    },
    {
      "cell_type": "markdown",
      "metadata": {
        "id": "EGNfSS9cv-ew",
        "colab_type": "text"
      },
      "source": [
        "**a.\tCalcule a média e o desvio padrão para utilizar como estimativas da média e do desvio padrão populacionais.**"
      ]
    },
    {
      "cell_type": "code",
      "metadata": {
        "id": "nJ02DRkosmN7",
        "colab_type": "code",
        "outputId": "fa395d04-140f-41a2-c7ea-7823625f4b13",
        "colab": {
          "base_uri": "https://localhost:8080/",
          "height": 51
        }
      },
      "source": [
        "dados = [214,163,265,194,180,202,198,212,201,174,171,211,211]\n",
        "print(np.mean(dados))\n",
        "print(np.std(dados))"
      ],
      "execution_count": 0,
      "outputs": [
        {
          "output_type": "stream",
          "text": [
            "199.69230769230768\n",
            "25.018099956707083\n"
          ],
          "name": "stdout"
        }
      ]
    },
    {
      "cell_type": "markdown",
      "metadata": {
        "id": "zhrSGaAKzlE-",
        "colab_type": "text"
      },
      "source": [
        "**b.\tQual é a probabilidade de que, em um dia escolhido aleatoriamente, o volume de negocia­ções no início da manhã seja menor do que 180 milhões de ações?**"
      ]
    },
    {
      "cell_type": "code",
      "metadata": {
        "id": "Zm_WZGJqyL8U",
        "colab_type": "code",
        "outputId": "f67ada26-3170-4400-9b2e-11e5e1844125",
        "colab": {
          "base_uri": "https://localhost:8080/",
          "height": 34
        }
      },
      "source": [
        "x = 180 #variavel aleatoria\n",
        "mu = np.mean(dados) #média\n",
        "sigma = np.std(dados) #desvio padrão\n",
        "z = (x-mu)/sigma\n",
        "z"
      ],
      "execution_count": 0,
      "outputs": [
        {
          "output_type": "execute_result",
          "data": {
            "text/plain": [
              "-0.7871224324143122"
            ]
          },
          "metadata": {
            "tags": []
          },
          "execution_count": 15
        }
      ]
    },
    {
      "cell_type": "markdown",
      "metadata": {
        "id": "09aZuxFP0U4A",
        "colab_type": "text"
      },
      "source": [
        "Resposta: Consultando a tabela para z = -0,78 tem-se que a probabilidade é de 21,77%"
      ]
    },
    {
      "cell_type": "markdown",
      "metadata": {
        "id": "i54dsJ206aW_",
        "colab_type": "text"
      },
      "source": [
        "**c.\tQual é a probabilidade de que, em um dia escolhido aleatoriamente, o volume de negocia­ções no início da manhã ultrapasse os 230 milhões de ações?**"
      ]
    },
    {
      "cell_type": "code",
      "metadata": {
        "id": "CRCHjLtbz5AL",
        "colab_type": "code",
        "outputId": "72b7ced3-f1a8-4654-8e9d-255b9d3b4a92",
        "colab": {
          "base_uri": "https://localhost:8080/",
          "height": 34
        }
      },
      "source": [
        "x = 230 #variavel aleatoria\n",
        "mu = 200 #média\n",
        "sigma = 26.04 #desvio padrão\n",
        "z = (x-mu)/sigma\n",
        "z"
      ],
      "execution_count": 0,
      "outputs": [
        {
          "output_type": "execute_result",
          "data": {
            "text/plain": [
              "1.1520737327188941"
            ]
          },
          "metadata": {
            "tags": []
          },
          "execution_count": 16
        }
      ]
    },
    {
      "cell_type": "markdown",
      "metadata": {
        "id": "rWRPSqsY6uKM",
        "colab_type": "text"
      },
      "source": [
        "Resposta: Consultando a tabela, para z = 1,15, tem-se que a probabilidade é de 87,49%. Como a pergunta é que seja maior que 230M, tem-se a probabilidade 100 - 88,69 e, portanto, 12,51%."
      ]
    },
    {
      "cell_type": "markdown",
      "metadata": {
        "id": "M9twkYjE8EI0",
        "colab_type": "text"
      },
      "source": [
        "**d.\tQuantas ações teriam de ser negociadas no começo da manhã de um determinado dia para que este dia esteja entre os 5% de dias mais agitados em termos de negociações?**"
      ]
    },
    {
      "cell_type": "markdown",
      "metadata": {
        "id": "OaMA-e9z8tcm",
        "colab_type": "text"
      },
      "source": [
        "Como ele faz parte dos 5%, significa que ele deve usar mais do que 95% da população. Consultando a tabela tem-se que a probabilidade de 95% leva a um valor de de z de 1,65. Com isso, é possível calcular o valor de x (variável aleatória - qtd mínima de ações):"
      ]
    },
    {
      "cell_type": "code",
      "metadata": {
        "id": "GOSTZOOs7LKm",
        "colab_type": "code",
        "outputId": "502e909b-108b-4cd5-c2e7-78f9f1686582",
        "colab": {
          "base_uri": "https://localhost:8080/",
          "height": 34
        }
      },
      "source": [
        "mu = 200\n",
        "z = 1.65\n",
        "sigma = 25.01\n",
        "x = (z * sigma) + mu\n",
        "x"
      ],
      "execution_count": 0,
      "outputs": [
        {
          "output_type": "execute_result",
          "data": {
            "text/plain": [
              "241.2665"
            ]
          },
          "metadata": {
            "tags": []
          },
          "execution_count": 17
        }
      ]
    },
    {
      "cell_type": "markdown",
      "metadata": {
        "id": "Z6e__nm89RXQ",
        "colab_type": "text"
      },
      "source": [
        "Resposta: São necessárias 241M de ações."
      ]
    },
    {
      "cell_type": "markdown",
      "metadata": {
        "id": "rD0iCTAwoH7A",
        "colab_type": "text"
      },
      "source": [
        "# Exercício 30"
      ]
    },
    {
      "cell_type": "markdown",
      "metadata": {
        "id": "q-3BcJWZo7-j",
        "colab_type": "text"
      },
      "source": [
        "Ao assinar um contrato de cartão de crédito você o lê cuidadosamente? Em uma pesquisa reali­zada pela FindLaw.com, foi feita a seguinte pergunta às pessoas: \"Quão minuciosamente você lê um contrato de cartão de crédito?\" (USA Today, 16 de outubro de 2003). As descobertas revelaram que 44% leem cada palavra, 33% leem o suficiente para entender o contrato, 11% dão apenas uma olhada e 4% não o leem."
      ]
    },
    {
      "cell_type": "markdown",
      "metadata": {
        "id": "MMDLwXSApHHA",
        "colab_type": "text"
      },
      "source": [
        "**a.\tEm relação a uma amostra de 500 pessoas, quantas você espera que diriam que leem cada palavra de um contrato de cartão de crédito?**"
      ]
    },
    {
      "cell_type": "code",
      "metadata": {
        "id": "rJ0vB2WxoK6R",
        "colab_type": "code",
        "outputId": "2ed80362-d9a8-4afc-f174-727ef1565f4d",
        "colab": {
          "base_uri": "https://localhost:8080/",
          "height": 34
        }
      },
      "source": [
        "n = 500 #número de ensaios, no caso a amostra\n",
        "p = 0.44#probabilidade\n",
        "mu = n*p # média ou, no caso, o valor esperado\n",
        "mu"
      ],
      "execution_count": 0,
      "outputs": [
        {
          "output_type": "execute_result",
          "data": {
            "text/plain": [
              "220.0"
            ]
          },
          "metadata": {
            "tags": []
          },
          "execution_count": 18
        }
      ]
    },
    {
      "cell_type": "markdown",
      "metadata": {
        "id": "pNW0ynZEp3OR",
        "colab_type": "text"
      },
      "source": [
        "Resposta: Como a probabilidade do universo é 44%, no caso de uma amostra de 500 pessoas o valor esperado é de 220 pessoas."
      ]
    },
    {
      "cell_type": "markdown",
      "metadata": {
        "id": "ZUArwQj-qh9S",
        "colab_type": "text"
      },
      "source": [
        "**b.\tEm relação a uma amostra de 500 pessoas, qual é a probabilidade de 200 ou menos dizerem que leem cada palavra de um contrato de cartão de crédito?**"
      ]
    },
    {
      "cell_type": "code",
      "metadata": {
        "id": "14hNOE8PpyA3",
        "colab_type": "code",
        "outputId": "461dedef-a08a-48c3-c9dd-edfbb0f8f2f9",
        "colab": {
          "base_uri": "https://localhost:8080/",
          "height": 34
        }
      },
      "source": [
        "sigma = ((n*p)*(1-p))**0.5 # desvio padrão\n",
        "sigma"
      ],
      "execution_count": 0,
      "outputs": [
        {
          "output_type": "execute_result",
          "data": {
            "text/plain": [
              "11.099549540409287"
            ]
          },
          "metadata": {
            "tags": []
          },
          "execution_count": 19
        }
      ]
    },
    {
      "cell_type": "code",
      "metadata": {
        "id": "6R-4sssdC9pP",
        "colab_type": "code",
        "outputId": "7d795ada-d21d-4791-b0e4-873041fffae6",
        "colab": {
          "base_uri": "https://localhost:8080/",
          "height": 34
        }
      },
      "source": [
        "x = 200.5 #variavel aleatoria - como é \"ou menos\" adiciona-se 0,5\n",
        "z200 = (x-mu)/sigma\n",
        "z200"
      ],
      "execution_count": 0,
      "outputs": [
        {
          "output_type": "execute_result",
          "data": {
            "text/plain": [
              "-1.75682805225634"
            ]
          },
          "metadata": {
            "tags": []
          },
          "execution_count": 20
        }
      ]
    },
    {
      "cell_type": "markdown",
      "metadata": {
        "id": "mdsnRTIHEb09",
        "colab_type": "text"
      },
      "source": [
        "Resposta: Para z = -1,76, a probabilidade acumulada é 0,0392 ou 3,92%."
      ]
    },
    {
      "cell_type": "markdown",
      "metadata": {
        "id": "CsgiIz0hF0jN",
        "colab_type": "text"
      },
      "source": [
        "**c. Em relação a uma amostra de 500 pessoas, qual é a probabilidade de pelo menos 15 dizerem que não leem os contratos de cartão de crédito?**"
      ]
    },
    {
      "cell_type": "code",
      "metadata": {
        "id": "Agd8q5dUDzEM",
        "colab_type": "code",
        "outputId": "7116d47c-a0c2-4d24-c069-10cd11126be0",
        "colab": {
          "base_uri": "https://localhost:8080/",
          "height": 34
        }
      },
      "source": [
        "n = 500 #número de ensaios, no caso a amostra\n",
        "p = 0.04 #probabilidade não leem\n",
        "mu = n*p # média ou, no caso, o valor esperado\n",
        "mu"
      ],
      "execution_count": 0,
      "outputs": [
        {
          "output_type": "execute_result",
          "data": {
            "text/plain": [
              "20.0"
            ]
          },
          "metadata": {
            "tags": []
          },
          "execution_count": 21
        }
      ]
    },
    {
      "cell_type": "code",
      "metadata": {
        "id": "9LtCCo7_GG6h",
        "colab_type": "code",
        "outputId": "b38bde89-4703-4772-f5f7-3a8e45f4e515",
        "colab": {
          "base_uri": "https://localhost:8080/",
          "height": 34
        }
      },
      "source": [
        "sigma = ((n*p)*(1-p))**0.5 # desvio padrão\n",
        "x = 14.5 #variavel aleatoria - como é 'pelo menos' subtrai-se 0,5\n",
        "z15 = (x-mu)/sigma\n",
        "z15"
      ],
      "execution_count": 0,
      "outputs": [
        {
          "output_type": "execute_result",
          "data": {
            "text/plain": [
              "-1.2551975276160057"
            ]
          },
          "metadata": {
            "tags": []
          },
          "execution_count": 22
        }
      ]
    },
    {
      "cell_type": "markdown",
      "metadata": {
        "id": "wouszsNrTds6",
        "colab_type": "text"
      },
      "source": [
        "Resposta: Para z = -1.26 tem-se a probabilidade 0,1038. Como busca-se pelo menos 15, então é 1 - 0,1038 = 0,8962 ou 89,62%"
      ]
    },
    {
      "cell_type": "markdown",
      "metadata": {
        "id": "0JcUuW3gUqI2",
        "colab_type": "text"
      },
      "source": [
        "# Exercício 31"
      ]
    },
    {
      "cell_type": "markdown",
      "metadata": {
        "id": "Gqr5WNUnUtzC",
        "colab_type": "text"
      },
      "source": [
        "Um estudo do Bureau of National Affairs descobriu que 79% das companhias, no feriado de Ação de Graças, proporcionam aos seus funcionários dois dias (quinta-feira  e  sexta-feira) de descanso remunerado (USA Today, 12 de novembro de 2009). Dezenove por cento das empresas, no feriado de Ação de Graças, oferecem aos seus funcionários um dia de descanso remunerado, e que 2% das empresas não dispensam de nenhuma maneira seus funcionários no Dia de Ação de Graças. Considere uma amostra de 120 companhias."
      ]
    },
    {
      "cell_type": "markdown",
      "metadata": {
        "id": "ZGvtcOMeVG2j",
        "colab_type": "text"
      },
      "source": [
        "**a. Qual é a probabilidade de que pelo menos 85 companhias ofereçam um descanso remune­rado de dois dias no feriado de Ação de Graças?**"
      ]
    },
    {
      "cell_type": "code",
      "metadata": {
        "id": "Dw4uiQHeKxqA",
        "colab_type": "code",
        "outputId": "9ecb1159-da0b-4441-c256-8afe7d7c9a68",
        "colab": {
          "base_uri": "https://localhost:8080/",
          "height": 34
        }
      },
      "source": [
        "n = 120 #número de ensaios, no caso a amostra\n",
        "p = 0.79 #probabilidade\n",
        "mu = n*p # média ou, no caso, o valor esperado\n",
        "mu"
      ],
      "execution_count": 0,
      "outputs": [
        {
          "output_type": "execute_result",
          "data": {
            "text/plain": [
              "94.80000000000001"
            ]
          },
          "metadata": {
            "tags": []
          },
          "execution_count": 23
        }
      ]
    },
    {
      "cell_type": "code",
      "metadata": {
        "id": "Nts7PdAhVir4",
        "colab_type": "code",
        "outputId": "46697c41-58b1-4390-a425-82008a5ada27",
        "colab": {
          "base_uri": "https://localhost:8080/",
          "height": 34
        }
      },
      "source": [
        "sigma = ((n*p)*(1-p))**0.5 # desvio padrão\n",
        "x = 87.5 #variavel aleatoria - como é 'pelo menos' subtrai-se 0,5\n",
        "z = (x-mu)/sigma\n",
        "z"
      ],
      "execution_count": 0,
      "outputs": [
        {
          "output_type": "execute_result",
          "data": {
            "text/plain": [
              "-1.6360969840966983"
            ]
          },
          "metadata": {
            "tags": []
          },
          "execution_count": 24
        }
      ]
    },
    {
      "cell_type": "markdown",
      "metadata": {
        "id": "NrfimypUWE8D",
        "colab_type": "text"
      },
      "source": [
        "Resposta: Para z = -1.64 tem-se a probabilidade 0,0505. Como busca-se pelo menos 85, então é 1 - 0,0505 = 0,9495 ou 94,95%"
      ]
    },
    {
      "cell_type": "markdown",
      "metadata": {
        "id": "TPvJWHddXVXC",
        "colab_type": "text"
      },
      "source": [
        "**b. Qual é a probabilidade de que entre 90 e 100 companhias ofereçam um descanso remune­rado de dois dias no feriado de Ação de Graças? Ou seja, qual é P(90 <= x <=\t100)?**"
      ]
    },
    {
      "cell_type": "code",
      "metadata": {
        "id": "Y2y2avpaWRS5",
        "colab_type": "code",
        "outputId": "d38982a6-54b7-4f6b-c9ac-cac4a715cd8e",
        "colab": {
          "base_uri": "https://localhost:8080/",
          "height": 34
        }
      },
      "source": [
        "sigma = ((n*p)*(1-p))**0.5 # desvio padrão\n",
        "x = 100.5 #variavel aleatoria - como é 'ou menos' adiciona-se 0,5\n",
        "z100 = (x-mu)/sigma\n",
        "z100"
      ],
      "execution_count": 0,
      "outputs": [
        {
          "output_type": "execute_result",
          "data": {
            "text/plain": [
              "1.277500384842623"
            ]
          },
          "metadata": {
            "tags": []
          },
          "execution_count": 25
        }
      ]
    },
    {
      "cell_type": "code",
      "metadata": {
        "id": "TH0dQwatYFUg",
        "colab_type": "code",
        "outputId": "bee96e2e-6a1f-4010-f2c9-f62fc5c9f5c0",
        "colab": {
          "base_uri": "https://localhost:8080/",
          "height": 34
        }
      },
      "source": [
        "sigma = ((n*p)*(1-p))**0.5 # desvio padrão\n",
        "x = 89.5 #variavel aleatoria - como é 'ou menos' subtrai-se 0,5\n",
        "z90 = (x-mu)/sigma\n",
        "z90"
      ],
      "execution_count": 0,
      "outputs": [
        {
          "output_type": "execute_result",
          "data": {
            "text/plain": [
              "-1.1878512350291104"
            ]
          },
          "metadata": {
            "tags": []
          },
          "execution_count": 26
        }
      ]
    },
    {
      "cell_type": "markdown",
      "metadata": {
        "id": "zFcRvGIOZTgZ",
        "colab_type": "text"
      },
      "source": [
        "Resposta: Estamos buscando probabilidade entre 90 e 100, ou z(100)-z(90) = 0,8980 - 0,1170 = 0,7810 ou 78,1%"
      ]
    },
    {
      "cell_type": "markdown",
      "metadata": {
        "id": "o_JBmuvUZ7bD",
        "colab_type": "text"
      },
      "source": [
        "**c.\tQual é a probabilidade de que menos de 20 companhias ofereçam um descanso remunerado de um dia no feriado de Ação de Graças?**"
      ]
    },
    {
      "cell_type": "code",
      "metadata": {
        "id": "6ayiyyRlZrf1",
        "colab_type": "code",
        "outputId": "024755f2-d0ff-4ad8-dd85-cfef4670251c",
        "colab": {
          "base_uri": "https://localhost:8080/",
          "height": 34
        }
      },
      "source": [
        "n = 120 #número de ensaios, no caso a amostra\n",
        "p = 0.19 #probabilidade para um dia de descanso\n",
        "mu = n*p # média ou, no caso, o valor esperado\n",
        "mu"
      ],
      "execution_count": 0,
      "outputs": [
        {
          "output_type": "execute_result",
          "data": {
            "text/plain": [
              "22.8"
            ]
          },
          "metadata": {
            "tags": []
          },
          "execution_count": 27
        }
      ]
    },
    {
      "cell_type": "code",
      "metadata": {
        "id": "WYdV4dlmaFcR",
        "colab_type": "code",
        "outputId": "01420b7e-8427-4eb6-fd82-b72756b361ec",
        "colab": {
          "base_uri": "https://localhost:8080/",
          "height": 34
        }
      },
      "source": [
        "sigma = ((n*p)*(1-p))**0.5 # desvio padrão\n",
        "x = 19.5 #variavel aleatoria - como é 'pelo menos' subtrai-se 0,5\n",
        "z20 = (x-mu)/sigma\n",
        "z20"
      ],
      "execution_count": 0,
      "outputs": [
        {
          "output_type": "execute_result",
          "data": {
            "text/plain": [
              "-0.7678988318681085"
            ]
          },
          "metadata": {
            "tags": []
          },
          "execution_count": 28
        }
      ]
    },
    {
      "cell_type": "markdown",
      "metadata": {
        "id": "0GU2ddvNaf7w",
        "colab_type": "text"
      },
      "source": [
        "Resposta: Estamos buscando probabilidade de pelo menos 20 cias. Como z(20) = -0,77 pela tabela temos: 0,2206. Como é pelo menos temos 1 - 0,2206 = 0,7794 ou 77,94%."
      ]
    },
    {
      "cell_type": "markdown",
      "metadata": {
        "id": "nVMDyo82bg41",
        "colab_type": "text"
      },
      "source": [
        "# Exercício 32"
      ]
    },
    {
      "cell_type": "markdown",
      "metadata": {
        "id": "xr4Zs8GXbjvD",
        "colab_type": "text"
      },
      "source": [
        "Considere a seguinte função densidade de probabilidade exponencial."
      ]
    },
    {
      "cell_type": "markdown",
      "metadata": {
        "id": "f-Vjy2rdb48Z",
        "colab_type": "text"
      },
      "source": [
        "## $f(x) = \\frac{1}{8}e^{-\\frac{x}{8}}$, sendo x>=0"
      ]
    },
    {
      "cell_type": "markdown",
      "metadata": {
        "id": "vSKgA9JXcBLl",
        "colab_type": "text"
      },
      "source": [
        "**a. Encontre p(x<=6)**"
      ]
    },
    {
      "cell_type": "code",
      "metadata": {
        "id": "KY_nnbXsbinc",
        "colab_type": "code",
        "outputId": "c0303082-5d1b-449b-d2f5-23ead2078bcf",
        "colab": {
          "base_uri": "https://localhost:8080/",
          "height": 34
        }
      },
      "source": [
        "e = 2.71828\n",
        "mu = 8\n",
        "x0=6\n",
        "p6 = 1 - e**(-x0/mu)\n",
        "p6"
      ],
      "execution_count": 0,
      "outputs": [
        {
          "output_type": "execute_result",
          "data": {
            "text/plain": [
              "0.5276332089549409"
            ]
          },
          "metadata": {
            "tags": []
          },
          "execution_count": 29
        }
      ]
    },
    {
      "cell_type": "markdown",
      "metadata": {
        "id": "6koqiNpXdgWr",
        "colab_type": "text"
      },
      "source": [
        "Resposta: p(x<=6) é igual a 0,5276"
      ]
    },
    {
      "cell_type": "markdown",
      "metadata": {
        "id": "xrotIyKxd40-",
        "colab_type": "text"
      },
      "source": [
        "**b. Encontre p(x<=4)**"
      ]
    },
    {
      "cell_type": "code",
      "metadata": {
        "id": "CoeEeBUFeG75",
        "colab_type": "code",
        "outputId": "663477ea-85ec-43aa-d026-aef964f597e5",
        "colab": {
          "base_uri": "https://localhost:8080/",
          "height": 34
        }
      },
      "source": [
        "e = 2.71828\n",
        "mu = 8\n",
        "x0=4\n",
        "p4 = 1 - e**(-x0/mu)\n",
        "p4"
      ],
      "execution_count": 0,
      "outputs": [
        {
          "output_type": "execute_result",
          "data": {
            "text/plain": [
              "0.39346913629508384"
            ]
          },
          "metadata": {
            "tags": []
          },
          "execution_count": 30
        }
      ]
    },
    {
      "cell_type": "markdown",
      "metadata": {
        "id": "GeBel3czeSDO",
        "colab_type": "text"
      },
      "source": [
        "Resposta: p(x<=4) é igual a 0,3935 ou 39,35%"
      ]
    },
    {
      "cell_type": "markdown",
      "metadata": {
        "id": "1Wp7h8U8efrj",
        "colab_type": "text"
      },
      "source": [
        "**c. Encontre p(x>=6)**"
      ]
    },
    {
      "cell_type": "code",
      "metadata": {
        "id": "TZkQzGRneKVW",
        "colab_type": "code",
        "outputId": "27a77502-d871-4ec6-dc1a-f1030251a168",
        "colab": {
          "base_uri": "https://localhost:8080/",
          "height": 34
        }
      },
      "source": [
        "1-p6"
      ],
      "execution_count": 0,
      "outputs": [
        {
          "output_type": "execute_result",
          "data": {
            "text/plain": [
              "0.4723667910450591"
            ]
          },
          "metadata": {
            "tags": []
          },
          "execution_count": 31
        }
      ]
    },
    {
      "cell_type": "markdown",
      "metadata": {
        "id": "jmLjhZDoetbE",
        "colab_type": "text"
      },
      "source": [
        "Resposta: A probabilidade de p(>=6) é igual a 1 - p(<=6) ou 47,24%."
      ]
    },
    {
      "cell_type": "markdown",
      "metadata": {
        "id": "CslobNE4e4nL",
        "colab_type": "text"
      },
      "source": [
        "**d. Encontre p(4<=x<=6)**"
      ]
    },
    {
      "cell_type": "code",
      "metadata": {
        "id": "WI8h8aY_ekRk",
        "colab_type": "code",
        "outputId": "e7cdeff3-75a8-41b2-98e4-82e4b1061386",
        "colab": {
          "base_uri": "https://localhost:8080/",
          "height": 34
        }
      },
      "source": [
        "p6-p4"
      ],
      "execution_count": 0,
      "outputs": [
        {
          "output_type": "execute_result",
          "data": {
            "text/plain": [
              "0.13416407265985708"
            ]
          },
          "metadata": {
            "tags": []
          },
          "execution_count": 32
        }
      ]
    },
    {
      "cell_type": "markdown",
      "metadata": {
        "id": "NGyrhQ9QfFUH",
        "colab_type": "text"
      },
      "source": [
        "Resposta: 13,41%"
      ]
    },
    {
      "cell_type": "markdown",
      "metadata": {
        "id": "SaRZEZpUfSGF",
        "colab_type": "text"
      },
      "source": [
        "#Exercício 35"
      ]
    },
    {
      "cell_type": "markdown",
      "metadata": {
        "id": "oFkYOYSbfpro",
        "colab_type": "text"
      },
      "source": [
        "O tempo entre a chegada dos veículos a determinado cruzamento segue uma distribuição de probabilidade exponencial, com uma média de 12 segundos."
      ]
    },
    {
      "cell_type": "markdown",
      "metadata": {
        "id": "SfgjR5kMfw3m",
        "colab_type": "text"
      },
      "source": [
        "**a.\tApresente um esboço dessa distribuição de probabilidade exponencial.**"
      ]
    },
    {
      "cell_type": "code",
      "metadata": {
        "id": "AaeJvmGkkXq5",
        "colab_type": "code",
        "outputId": "61e6926a-f50a-45fc-e891-dcc8f0280007",
        "colab": {
          "base_uri": "https://localhost:8080/",
          "height": 286
        }
      },
      "source": [
        "import matplotlib.pyplot as plt\n",
        "import numpy as np\n",
        "\n",
        "# 100 linearly spaced numbers\n",
        "x = np.linspace(0,24,100)\n",
        "\n",
        "# the function, which is y = x^2 here\n",
        "y = 1/12*e**(-x/12)\n",
        "\n",
        "# setting the axes at the centre\n",
        "fig = plt.figure()\n",
        "ax = fig.add_subplot(1, 1, 1)\n",
        "ax.spines['left'].set_position('zero')\n",
        "ax.spines['bottom'].set_position('zero')\n",
        "ax.spines['right'].set_color('none')\n",
        "ax.spines['top'].set_color('none')\n",
        "ax.xaxis.set_ticks_position('bottom')\n",
        "ax.yaxis.set_ticks_position('left')\n",
        "\n",
        "# plot the function\n",
        "plt.plot(x,y, 'r')\n",
        "\n",
        "# show the plot\n",
        "plt.show()"
      ],
      "execution_count": 0,
      "outputs": [
        {
          "output_type": "display_data",
          "data": {
            "image/png": "[encoded data removed]",
            "text/plain": [
              "<Figure size 432x288 with 1 Axes>"
            ]
          },
          "metadata": {
            "tags": [],
            "needs_background": "light"
          }
        }
      ]
    },
    {
      "cell_type": "markdown",
      "metadata": {
        "id": "yQLYBw4OkxwD",
        "colab_type": "text"
      },
      "source": [
        "**b.\tQual é a probabilidade de o tempo de chegada entre os veículos ser de 12 segundos ou menos?**"
      ]
    },
    {
      "cell_type": "code",
      "metadata": {
        "id": "tr43VPKYkbH_",
        "colab_type": "code",
        "outputId": "89539454-ae38-4858-aa6c-0b59e0cbe174",
        "colab": {
          "base_uri": "https://localhost:8080/",
          "height": 34
        }
      },
      "source": [
        "e = 2.71828\n",
        "mu = 12\n",
        "x12=12\n",
        "p12 = 1 - e**(-x12/mu)\n",
        "p12"
      ],
      "execution_count": 0,
      "outputs": [
        {
          "output_type": "execute_result",
          "data": {
            "text/plain": [
              "0.6321203113733684"
            ]
          },
          "metadata": {
            "tags": []
          },
          "execution_count": 34
        }
      ]
    },
    {
      "cell_type": "markdown",
      "metadata": {
        "id": "EPC3dqgglpmW",
        "colab_type": "text"
      },
      "source": [
        "Resposta: A probabilidade é 0,6321"
      ]
    },
    {
      "cell_type": "markdown",
      "metadata": {
        "id": "whpHG-5VlvJY",
        "colab_type": "text"
      },
      "source": [
        "**c.\tQual é a probabilidade de o tempo de chegada entre os veículos ser de 6 segundos ou menos?**"
      ]
    },
    {
      "cell_type": "code",
      "metadata": {
        "id": "XWRgeXdllGsB",
        "colab_type": "code",
        "outputId": "0caae2bd-8925-43d8-e52c-8be39c02cbc8",
        "colab": {
          "base_uri": "https://localhost:8080/",
          "height": 34
        }
      },
      "source": [
        "e = 2.71828\n",
        "mu = 12\n",
        "x6=6\n",
        "p6 = 1 - e**(-x6/mu)\n",
        "p6"
      ],
      "execution_count": 0,
      "outputs": [
        {
          "output_type": "execute_result",
          "data": {
            "text/plain": [
              "0.39346913629508384"
            ]
          },
          "metadata": {
            "tags": []
          },
          "execution_count": 35
        }
      ]
    },
    {
      "cell_type": "markdown",
      "metadata": {
        "id": "I--WOQ4El7Fb",
        "colab_type": "text"
      },
      "source": [
        "Resposta: A probabilidade é 0,3935"
      ]
    },
    {
      "cell_type": "markdown",
      "metadata": {
        "id": "8f3C3_TSmA4x",
        "colab_type": "text"
      },
      "source": [
        "**d. Qual é a probabilidade de transcorrer 30 segundos ou mais entre a chegada dos veículos?**"
      ]
    },
    {
      "cell_type": "code",
      "metadata": {
        "id": "Ku4RQK1Zl25B",
        "colab_type": "code",
        "outputId": "975ab6a7-cdfb-47c7-b299-bea8fa80fa26",
        "colab": {
          "base_uri": "https://localhost:8080/",
          "height": 34
        }
      },
      "source": [
        "e = 2.71828\n",
        "mu = 12\n",
        "x30 = 30\n",
        "p30 = 1 - e**(-x30/mu)\n",
        "1- p30"
      ],
      "execution_count": 0,
      "outputs": [
        {
          "output_type": "execute_result",
          "data": {
            "text/plain": [
              "0.08208513666075845"
            ]
          },
          "metadata": {
            "tags": []
          },
          "execution_count": 36
        }
      ]
    },
    {
      "cell_type": "markdown",
      "metadata": {
        "id": "O0EnQ7gEmPJc",
        "colab_type": "text"
      },
      "source": [
        "Resposta: A probabilidade é de 0,0821."
      ]
    },
    {
      "cell_type": "markdown",
      "metadata": {
        "id": "5CbZalr6maJs",
        "colab_type": "text"
      },
      "source": [
        "#Exercício 37"
      ]
    },
    {
      "cell_type": "markdown",
      "metadata": {
        "id": "jDU1gsZgmdPN",
        "colab_type": "text"
      },
      "source": [
        "O Collina's ltalian Café, em Houston, Texas, anuncia que leva cerca de 25 minutos para aten­der aos pedidos de seus clientes (site do Collina's, 27 de fevereiro de 2008). Suponha que o tempo necessário para que um pedido esteja pronto para retirada pelo cliente tenha uma distri­ buição exponencial com uma média de 25 minutos."
      ]
    },
    {
      "cell_type": "markdown",
      "metadata": {
        "id": "V2vNpfyjmmfM",
        "colab_type": "text"
      },
      "source": [
        "**a.\tQual é a probabilidade de que um pedido seja atendido dentro de 20 minutos?**"
      ]
    },
    {
      "cell_type": "code",
      "metadata": {
        "id": "vdCvDqGimMkf",
        "colab_type": "code",
        "outputId": "405a2b28-3fe4-4249-d5ac-2eedb04d956a",
        "colab": {
          "base_uri": "https://localhost:8080/",
          "height": 34
        }
      },
      "source": [
        "e = 2.71828\n",
        "mu = 25\n",
        "x20 = 20\n",
        "p20 = 1 - (e**(-x20/mu))\n",
        "p20"
      ],
      "execution_count": 0,
      "outputs": [
        {
          "output_type": "execute_result",
          "data": {
            "text/plain": [
              "0.5506707940888342"
            ]
          },
          "metadata": {
            "tags": []
          },
          "execution_count": 37
        }
      ]
    },
    {
      "cell_type": "markdown",
      "metadata": {
        "id": "RSRj9cTQpIqW",
        "colab_type": "text"
      },
      "source": [
        "Reposta: A probabilidade é de 55,07%."
      ]
    },
    {
      "cell_type": "markdown",
      "metadata": {
        "id": "dOoz_8mcpOXr",
        "colab_type": "text"
      },
      "source": [
        "**b.\tSe um cliente chegar 30 minutos depois de fazer seu pedido, qual é a probabilidade de que o pedido não esteja pronto?**"
      ]
    },
    {
      "cell_type": "code",
      "metadata": {
        "id": "YR9kLiiTm0mV",
        "colab_type": "code",
        "outputId": "87a8f352-957a-4688-ce08-0c5f5112c52c",
        "colab": {
          "base_uri": "https://localhost:8080/",
          "height": 34
        }
      },
      "source": [
        "e = 2.71828\n",
        "mu = 25\n",
        "x30 = 30\n",
        "p30 = 1 - (e**(-x30/mu))\n",
        "1-p30"
      ],
      "execution_count": 0,
      "outputs": [
        {
          "output_type": "execute_result",
          "data": {
            "text/plain": [
              "0.30119445503122655"
            ]
          },
          "metadata": {
            "tags": []
          },
          "execution_count": 38
        }
      ]
    },
    {
      "cell_type": "markdown",
      "metadata": {
        "id": "XWxpe6sGpi3l",
        "colab_type": "text"
      },
      "source": [
        "Resposta: A probabilidade é de 30,12%."
      ]
    },
    {
      "cell_type": "markdown",
      "metadata": {
        "id": "J4Wo0we7pyG2",
        "colab_type": "text"
      },
      "source": [
        "**c.\tUm determinado cliente mora a 15 minutos do Collina's ltalian Café. Se o cliente fizer um pedido por telefone às 17:20 horas, qual é a probabilidade de que o cliente vá de carro até o café, pegue seu pedido e esteja em casa às 18 horas?**"
      ]
    },
    {
      "cell_type": "code",
      "metadata": {
        "id": "b8IdtOXUpgZM",
        "colab_type": "code",
        "outputId": "fefb4681-f931-4d79-fd86-40d883cba1de",
        "colab": {
          "base_uri": "https://localhost:8080/",
          "height": 34
        }
      },
      "source": [
        "e = 2.71828\n",
        "mu = 25\n",
        "x10 = 10\n",
        "p10 = 1 - (e**(-x10/mu))\n",
        "p10"
      ],
      "execution_count": 0,
      "outputs": [
        {
          "output_type": "execute_result",
          "data": {
            "text/plain": [
              "0.32967977360729606"
            ]
          },
          "metadata": {
            "tags": []
          },
          "execution_count": 39
        }
      ]
    },
    {
      "cell_type": "markdown",
      "metadata": {
        "id": "Kaqps7qiqGTp",
        "colab_type": "text"
      },
      "source": [
        "Resposta: Ele leva 30min entre ir e voltar e o tempo total disponível é de 40min, portanto, ele deve esperar, no máximo, 10min. Ou seja, a aprobabilidade é de 32,97% dele conseguir voltar até às 18h."
      ]
    },
    {
      "cell_type": "markdown",
      "metadata": {
        "id": "k5g3FDU-qgFr",
        "colab_type": "text"
      },
      "source": [
        "#Exercício 38"
      ]
    },
    {
      "cell_type": "markdown",
      "metadata": {
        "id": "uGjxOJnHqnA2",
        "colab_type": "text"
      },
      "source": [
        "As interrupções que ocorrem enquanto você trabalha reduzem sua produtividade? De acordo com um estudo realizado pela University of California- lrvine, os profissionais de negócios são inter­ rompidos a uma taxa de aproximadamente 5½ vezes por hora (Fortune, 20 de março de 2006). Suponha que o número de interrupções siga uma distribuição de probabilidade de Poisson."
      ]
    },
    {
      "cell_type": "markdown",
      "metadata": {
        "id": "brjzmWDLq1WK",
        "colab_type": "text"
      },
      "source": [
        "a. Mostre a distribuição de probabilidade para o tempo entre as interrupções."
      ]
    },
    {
      "cell_type": "markdown",
      "metadata": {
        "id": "EPRTJH9Pro-G",
        "colab_type": "text"
      },
      "source": [
        "##$f(x) = 5,5^{x}e^{-5,5}$"
      ]
    },
    {
      "cell_type": "code",
      "metadata": {
        "id": "JI1be7OsqE_T",
        "colab_type": "code",
        "outputId": "01e51779-d511-4788-8423-6d97dd005de9",
        "colab": {
          "base_uri": "https://localhost:8080/",
          "height": 266
        }
      },
      "source": [
        "import matplotlib.pyplot as plt\n",
        "import numpy as np\n",
        "\n",
        "# 100 linearly spaced numbers\n",
        "x = np.linspace(0,13,20)\n",
        "\n",
        "# the function, which is y = x^2 here\n",
        "y = 5.5**x*e**-5.5\n",
        "\n",
        "# setting the axes at the centre\n",
        "fig = plt.figure()\n",
        "ax = fig.add_subplot(1, 1, 1)\n",
        "ax.spines['left'].set_position('zero')\n",
        "ax.spines['bottom'].set_position('zero')\n",
        "ax.spines['right'].set_color('none')\n",
        "ax.spines['top'].set_color('none')\n",
        "ax.xaxis.set_ticks_position('bottom')\n",
        "ax.yaxis.set_ticks_position('left')\n",
        "\n",
        "# plot the function\n",
        "plt.plot(x,y, 'r')\n",
        "\n",
        "# show the plot\n",
        "plt.show()"
      ],
      "execution_count": 0,
      "outputs": [
        {
          "output_type": "display_data",
          "data": {
            "image/png": "[encoded data removed]",
            "text/plain": [
              "<Figure size 432x288 with 1 Axes>"
            ]
          },
          "metadata": {
            "tags": [],
            "needs_background": "light"
          }
        }
      ]
    },
    {
      "cell_type": "markdown",
      "metadata": {
        "id": "uqNlG1lfsqi4",
        "colab_type": "text"
      },
      "source": [
        "**b.\tQual é a probabilidade de que um profissional de negócios não tenha interrupções durante um período de 15 minutos?**"
      ]
    },
    {
      "cell_type": "code",
      "metadata": {
        "id": "yOBXAcgQsUXS",
        "colab_type": "code",
        "outputId": "407faa45-eff3-4394-b345-b1860a6e766f",
        "colab": {
          "base_uri": "https://localhost:8080/",
          "height": 34
        }
      },
      "source": [
        "x = 0\n",
        "mu = 5.5*15/60\n",
        "#y = mu*e**(-mu*x)/math.factorial(x)\n",
        "y = 1/mu*e**(-x/mu)\n",
        "y"
      ],
      "execution_count": 0,
      "outputs": [
        {
          "output_type": "execute_result",
          "data": {
            "text/plain": [
              "0.7272727272727273"
            ]
          },
          "metadata": {
            "tags": []
          },
          "execution_count": 41
        }
      ]
    },
    {
      "cell_type": "markdown",
      "metadata": {
        "id": "do-izYm8tyb2",
        "colab_type": "text"
      },
      "source": [
        "**c.\tQual é a probabilidade de que a próxima interrupção ocorra dentro de 1O minutos para um determinado profissional de negócios?**"
      ]
    },
    {
      "cell_type": "code",
      "metadata": {
        "id": "CJetRw9Ks35l",
        "colab_type": "code",
        "outputId": "7446c63c-3d98-494d-8c27-038ef6cd171c",
        "colab": {
          "base_uri": "https://localhost:8080/",
          "height": 34
        }
      },
      "source": [
        "x = 10\n",
        "mu = (1/5.5)\n",
        "#y = mu*e**(-mu*x)/math.factorial(x)\n",
        "y = 1/mu*e**(-x/mu)\n",
        "y"
      ],
      "execution_count": 0,
      "outputs": [
        {
          "output_type": "execute_result",
          "data": {
            "text/plain": [
              "7.147962277943618e-24"
            ]
          },
          "metadata": {
            "tags": []
          },
          "execution_count": 42
        }
      ]
    },
    {
      "cell_type": "code",
      "metadata": {
        "id": "3-mpmk9Cxc3B",
        "colab_type": "code",
        "colab": {}
      },
      "source": [
        ""
      ],
      "execution_count": 0,
      "outputs": []
    }
  ]
}