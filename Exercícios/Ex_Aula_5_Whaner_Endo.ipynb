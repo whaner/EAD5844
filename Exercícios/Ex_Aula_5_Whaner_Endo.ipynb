{
  "nbformat": 4,
  "nbformat_minor": 0,
  "metadata": {
    "colab": {
      "name": "Ex Aula 5 - Whaner Endo.ipynb",
      "provenance": [],
      "collapsed_sections": [
        "c0RTh5oWikju",
        "CgHFXroQ2PVd",
        "e0SRTO-79Trl",
        "X68ITPN-DKTk",
        "GINwB8GOmG04",
        "rzTKH9YlKA8i",
        "quaYnWpkE0zO"
      ],
      "toc_visible": true,
      "authorship_tag": "ABX9TyOb730n4s7dPFsI+LPDMmmp",
      "include_colab_link": true
    },
    "kernelspec": {
      "name": "python3",
      "display_name": "Python 3"
    }
  },
  "cells": [
    {
      "cell_type": "markdown",
      "metadata": {
        "id": "view-in-github",
        "colab_type": "text"
      },
      "source": [
        "<a href=\"https://colab.research.google.com/github/whaner/EAD5844/blob/master/Exerc%C3%ADcios/Ex_Aula_5_Whaner_Endo.ipynb\" target=\"_parent\"><img src=\"https://colab.research.google.com/assets/colab-badge.svg\" alt=\"Open In Colab\"/></a>"
      ]
    },
    {
      "cell_type": "code",
      "metadata": {
        "id": "7dCFE9VZjH69",
        "colab_type": "code",
        "colab": {}
      },
      "source": [
        "import pandas as pd\n",
        "import numpy as np\n",
        "import matplotlib.pyplot as plt\n",
        "import math"
      ],
      "execution_count": 0,
      "outputs": []
    },
    {
      "cell_type": "markdown",
      "metadata": {
        "id": "c0RTh5oWikju",
        "colab_type": "text"
      },
      "source": [
        "## **Exercício 9**"
      ]
    },
    {
      "cell_type": "markdown",
      "metadata": {
        "id": "2G2oAP49i_gy",
        "colab_type": "text"
      },
      "source": [
        "Para as pessoas desempregadas nos Estados Unidos, a média dos meses de desemprego no final de dezembro de 2009 era de aproximadamente sete meses (Bureau of Labor Statistics, janeiro de 2010). Suponha que os dados a seguir se referem a uma região específica no in­terior do Estado de Nova York. Os valores na primeira coluna mostram o número de meses em desemprego e os valores na segunda coluna representam o número correspondente de pessoas desempregadas."
      ]
    },
    {
      "cell_type": "code",
      "metadata": {
        "id": "0TXM7D2vjWpy",
        "colab_type": "code",
        "colab": {}
      },
      "source": [
        "tabela = {\"Meses\": [1, 2, 3, 4, 5, 6, 7, 8, 9, 10],\n",
        "          \"Empregados\": [1029, 1686, 2269, 2675, 3487, 4652, 4145, 3587, 2325, 1120]}"
      ],
      "execution_count": 0,
      "outputs": []
    },
    {
      "cell_type": "code",
      "metadata": {
        "id": "5SphmDycj8QL",
        "colab_type": "code",
        "outputId": "289cbb58-6e40-4a22-e566-2df3efb1450c",
        "colab": {
          "base_uri": "https://localhost:8080/",
          "height": 359
        }
      },
      "source": [
        "df = pd.DataFrame(tabela)\n",
        "df"
      ],
      "execution_count": 0,
      "outputs": [
        {
          "output_type": "execute_result",
          "data": {
            "text/html": [
              "<div>\n",
              "<style scoped>\n",
              "    .dataframe tbody tr th:only-of-type {\n",
              "        vertical-align: middle;\n",
              "    }\n",
              "\n",
              "    .dataframe tbody tr th {\n",
              "        vertical-align: top;\n",
              "    }\n",
              "\n",
              "    .dataframe thead th {\n",
              "        text-align: right;\n",
              "    }\n",
              "</style>\n",
              "<table border=\"1\" class=\"dataframe\">\n",
              "  <thead>\n",
              "    <tr style=\"text-align: right;\">\n",
              "      <th></th>\n",
              "      <th>Meses</th>\n",
              "      <th>Empregados</th>\n",
              "    </tr>\n",
              "  </thead>\n",
              "  <tbody>\n",
              "    <tr>\n",
              "      <th>0</th>\n",
              "      <td>1</td>\n",
              "      <td>1029</td>\n",
              "    </tr>\n",
              "    <tr>\n",
              "      <th>1</th>\n",
              "      <td>2</td>\n",
              "      <td>1686</td>\n",
              "    </tr>\n",
              "    <tr>\n",
              "      <th>2</th>\n",
              "      <td>3</td>\n",
              "      <td>2269</td>\n",
              "    </tr>\n",
              "    <tr>\n",
              "      <th>3</th>\n",
              "      <td>4</td>\n",
              "      <td>2675</td>\n",
              "    </tr>\n",
              "    <tr>\n",
              "      <th>4</th>\n",
              "      <td>5</td>\n",
              "      <td>3487</td>\n",
              "    </tr>\n",
              "    <tr>\n",
              "      <th>5</th>\n",
              "      <td>6</td>\n",
              "      <td>4652</td>\n",
              "    </tr>\n",
              "    <tr>\n",
              "      <th>6</th>\n",
              "      <td>7</td>\n",
              "      <td>4145</td>\n",
              "    </tr>\n",
              "    <tr>\n",
              "      <th>7</th>\n",
              "      <td>8</td>\n",
              "      <td>3587</td>\n",
              "    </tr>\n",
              "    <tr>\n",
              "      <th>8</th>\n",
              "      <td>9</td>\n",
              "      <td>2325</td>\n",
              "    </tr>\n",
              "    <tr>\n",
              "      <th>9</th>\n",
              "      <td>10</td>\n",
              "      <td>1120</td>\n",
              "    </tr>\n",
              "  </tbody>\n",
              "</table>\n",
              "</div>"
            ],
            "text/plain": [
              "   Meses  Empregados\n",
              "0      1        1029\n",
              "1      2        1686\n",
              "2      3        2269\n",
              "3      4        2675\n",
              "4      5        3487\n",
              "5      6        4652\n",
              "6      7        4145\n",
              "7      8        3587\n",
              "8      9        2325\n",
              "9     10        1120"
            ]
          },
          "metadata": {
            "tags": []
          },
          "execution_count": 3
        }
      ]
    },
    {
      "cell_type": "markdown",
      "metadata": {
        "id": "NtHkBJvpkbHh",
        "colab_type": "text"
      },
      "source": [
        "Digamos que x seja uma variável aleatória indicando o número de meses que uma pessoa está desempregada."
      ]
    },
    {
      "cell_type": "markdown",
      "metadata": {
        "id": "3g388YhypgHJ",
        "colab_type": "text"
      },
      "source": [
        "**a.\tUse os dados para desenvolver uma distribuição de probabilidade para x.**"
      ]
    },
    {
      "cell_type": "code",
      "metadata": {
        "id": "l21-tutYkF1t",
        "colab_type": "code",
        "outputId": "499e5724-4e1f-4d6d-ee67-4253678590ec",
        "colab": {
          "base_uri": "https://localhost:8080/",
          "height": 68
        }
      },
      "source": [
        "total = df.sum() #calcula o total de empregados\n",
        "total"
      ],
      "execution_count": 0,
      "outputs": [
        {
          "output_type": "execute_result",
          "data": {
            "text/plain": [
              "Meses            55\n",
              "Empregados    26975\n",
              "dtype: int64"
            ]
          },
          "metadata": {
            "tags": []
          },
          "execution_count": 4
        }
      ]
    },
    {
      "cell_type": "code",
      "metadata": {
        "id": "1HP8wMtjkyEh",
        "colab_type": "code",
        "colab": {}
      },
      "source": [
        "df['probabilidade'] = df['Empregados']/26975 #cria a coluna probabilidade para cada mês"
      ],
      "execution_count": 0,
      "outputs": []
    },
    {
      "cell_type": "code",
      "metadata": {
        "id": "0MStbmg7qjpD",
        "colab_type": "code",
        "outputId": "25f27d27-6724-4172-d5ab-29c339afe342",
        "colab": {
          "base_uri": "https://localhost:8080/",
          "height": 359
        }
      },
      "source": [
        "df"
      ],
      "execution_count": 0,
      "outputs": [
        {
          "output_type": "execute_result",
          "data": {
            "text/html": [
              "<div>\n",
              "<style scoped>\n",
              "    .dataframe tbody tr th:only-of-type {\n",
              "        vertical-align: middle;\n",
              "    }\n",
              "\n",
              "    .dataframe tbody tr th {\n",
              "        vertical-align: top;\n",
              "    }\n",
              "\n",
              "    .dataframe thead th {\n",
              "        text-align: right;\n",
              "    }\n",
              "</style>\n",
              "<table border=\"1\" class=\"dataframe\">\n",
              "  <thead>\n",
              "    <tr style=\"text-align: right;\">\n",
              "      <th></th>\n",
              "      <th>Meses</th>\n",
              "      <th>Empregados</th>\n",
              "      <th>probabilidade</th>\n",
              "    </tr>\n",
              "  </thead>\n",
              "  <tbody>\n",
              "    <tr>\n",
              "      <th>0</th>\n",
              "      <td>1</td>\n",
              "      <td>1029</td>\n",
              "      <td>0.038146</td>\n",
              "    </tr>\n",
              "    <tr>\n",
              "      <th>1</th>\n",
              "      <td>2</td>\n",
              "      <td>1686</td>\n",
              "      <td>0.062502</td>\n",
              "    </tr>\n",
              "    <tr>\n",
              "      <th>2</th>\n",
              "      <td>3</td>\n",
              "      <td>2269</td>\n",
              "      <td>0.084115</td>\n",
              "    </tr>\n",
              "    <tr>\n",
              "      <th>3</th>\n",
              "      <td>4</td>\n",
              "      <td>2675</td>\n",
              "      <td>0.099166</td>\n",
              "    </tr>\n",
              "    <tr>\n",
              "      <th>4</th>\n",
              "      <td>5</td>\n",
              "      <td>3487</td>\n",
              "      <td>0.129268</td>\n",
              "    </tr>\n",
              "    <tr>\n",
              "      <th>5</th>\n",
              "      <td>6</td>\n",
              "      <td>4652</td>\n",
              "      <td>0.172456</td>\n",
              "    </tr>\n",
              "    <tr>\n",
              "      <th>6</th>\n",
              "      <td>7</td>\n",
              "      <td>4145</td>\n",
              "      <td>0.153661</td>\n",
              "    </tr>\n",
              "    <tr>\n",
              "      <th>7</th>\n",
              "      <td>8</td>\n",
              "      <td>3587</td>\n",
              "      <td>0.132975</td>\n",
              "    </tr>\n",
              "    <tr>\n",
              "      <th>8</th>\n",
              "      <td>9</td>\n",
              "      <td>2325</td>\n",
              "      <td>0.086191</td>\n",
              "    </tr>\n",
              "    <tr>\n",
              "      <th>9</th>\n",
              "      <td>10</td>\n",
              "      <td>1120</td>\n",
              "      <td>0.041520</td>\n",
              "    </tr>\n",
              "  </tbody>\n",
              "</table>\n",
              "</div>"
            ],
            "text/plain": [
              "   Meses  Empregados  probabilidade\n",
              "0      1        1029       0.038146\n",
              "1      2        1686       0.062502\n",
              "2      3        2269       0.084115\n",
              "3      4        2675       0.099166\n",
              "4      5        3487       0.129268\n",
              "5      6        4652       0.172456\n",
              "6      7        4145       0.153661\n",
              "7      8        3587       0.132975\n",
              "8      9        2325       0.086191\n",
              "9     10        1120       0.041520"
            ]
          },
          "metadata": {
            "tags": []
          },
          "execution_count": 6
        }
      ]
    },
    {
      "cell_type": "code",
      "metadata": {
        "id": "Ugzqo09grsD7",
        "colab_type": "code",
        "outputId": "8acbba18-9b77-4146-ab07-5994015364f3",
        "colab": {
          "base_uri": "https://localhost:8080/",
          "height": 85
        }
      },
      "source": [
        "df.sum() #confere se a somatória da coluna probabilidade é igual a 1.0, para validar uma das condições da distribuição discreta da probabilidade"
      ],
      "execution_count": 0,
      "outputs": [
        {
          "output_type": "execute_result",
          "data": {
            "text/plain": [
              "Meses               55.0\n",
              "Empregados       26975.0\n",
              "probabilidade        1.0\n",
              "dtype: float64"
            ]
          },
          "metadata": {
            "tags": []
          },
          "execution_count": 7
        }
      ]
    },
    {
      "cell_type": "code",
      "metadata": {
        "id": "4S62-zWrso8C",
        "colab_type": "code",
        "colab": {}
      },
      "source": [
        "y_axis = df['probabilidade']\n",
        "x_axis = df['Meses']"
      ],
      "execution_count": 0,
      "outputs": []
    },
    {
      "cell_type": "code",
      "metadata": {
        "id": "PC1TXPpbtECR",
        "colab_type": "code",
        "outputId": "a8030b46-b81a-4d4e-d9d6-f3363d6906cc",
        "colab": {
          "base_uri": "https://localhost:8080/",
          "height": 265
        }
      },
      "source": [
        "plt.bar(x_axis, y_axis)\n",
        "plt.show()"
      ],
      "execution_count": 0,
      "outputs": [
        {
          "output_type": "display_data",
          "data": {
            "image/png": "[encoded data removed]",
            "text/plain": [
              "<Figure size 432x288 with 1 Axes>"
            ]
          },
          "metadata": {
            "tags": []
          }
        }
      ]
    },
    {
      "cell_type": "markdown",
      "metadata": {
        "id": "T93dsI1NvFXi",
        "colab_type": "text"
      },
      "source": [
        "**b. Mostre que sua distribuição de probabilidade satisfaz as condições para uma distribuição discreta de probabilidade válida.**"
      ]
    },
    {
      "cell_type": "markdown",
      "metadata": {
        "id": "aaWYzwgOvtn1",
        "colab_type": "text"
      },
      "source": [
        "Considerando f(x) = m/e, onde m = No. de meses e e = total de empregados, verificamos que a função é válida, já que f(x) é maior ou igual a 0 e a somatória é igual a um (vide confirmação acima), portanto, a distribuição é discreta e a probabilidade válida."
      ]
    },
    {
      "cell_type": "markdown",
      "metadata": {
        "id": "uULJ5xdXw9fS",
        "colab_type": "text"
      },
      "source": [
        "**c.\tQual é a probabilidade de que uma pessoa esteja desempregada por dois meses ou menos? E desempregada por mais de dois meses?**"
      ]
    },
    {
      "cell_type": "code",
      "metadata": {
        "id": "gTGwZ6vb02Dj",
        "colab_type": "code",
        "outputId": "33bdd3ea-9692-42cd-a8c7-ccf87db712f9",
        "colab": {
          "base_uri": "https://localhost:8080/",
          "height": 34
        }
      },
      "source": [
        "df['probabilidade'].iloc[0:2].sum() #soma apenas algumas linhas - até a de índice 2 (exclusive)"
      ],
      "execution_count": 0,
      "outputs": [
        {
          "output_type": "execute_result",
          "data": {
            "text/plain": [
              "0.10064874884151992"
            ]
          },
          "metadata": {
            "tags": []
          },
          "execution_count": 10
        }
      ]
    },
    {
      "cell_type": "markdown",
      "metadata": {
        "id": "fyKPhWChzdiN",
        "colab_type": "text"
      },
      "source": [
        "Para verificar a probabilidade da pessoa estar desempregada por 2 meses ou menos basta somar as probabiblidade existentes na tabela acima, para 1 e 2 meses, ou seja, 0.100648 ou 10,1%. <p>\n",
        "Para saber a probabilidade de estar desempregada por mais de 2 meses, basta subtrair de 1 o 10,1% já que a distribuição é discreta e válida, portanto a resposta é 89,9%."
      ]
    },
    {
      "cell_type": "markdown",
      "metadata": {
        "id": "MdJr4Iaz0UVo",
        "colab_type": "text"
      },
      "source": [
        "**d. Qual é a probabilidade de que uma pessoa esteja desempregada por mais de seis meses?**"
      ]
    },
    {
      "cell_type": "code",
      "metadata": {
        "id": "4VgraErd1Ijn",
        "colab_type": "code",
        "outputId": "a8150894-ff91-4f81-e8cf-455564058880",
        "colab": {
          "base_uri": "https://localhost:8080/",
          "height": 34
        }
      },
      "source": [
        "df['probabilidade'].iloc[6:].sum() #soma todas as linhas a partir da de índice 6, ou seja, o mês sete."
      ],
      "execution_count": 0,
      "outputs": [
        {
          "output_type": "execute_result",
          "data": {
            "text/plain": [
              "0.4143466172381835"
            ]
          },
          "metadata": {
            "tags": []
          },
          "execution_count": 11
        }
      ]
    },
    {
      "cell_type": "markdown",
      "metadata": {
        "id": "DOUh0fMF0Xg1",
        "colab_type": "text"
      },
      "source": [
        "Resposta: Como explicado na pergunta anterior, basta somar os meses 7, 8, 9 e 10. Portanto, igual a 41,4%"
      ]
    },
    {
      "cell_type": "markdown",
      "metadata": {
        "id": "CgHFXroQ2PVd",
        "colab_type": "text"
      },
      "source": [
        "## **Exercício 12**"
      ]
    },
    {
      "cell_type": "markdown",
      "metadata": {
        "id": "kLaggPc25lp5",
        "colab_type": "text"
      },
      "source": [
        "12.\tAs duas maiores fornecedoras de comunicações a cabo são Comcast Cable Communications, com 21,5 milhões de assinantes, e Time Warner Cable, com 11,0 milhões de assinantes (The New York Times Almanac, 2007). Suponha que a administração da Time Warner Cable avalie subjetivamente uma distribuição de probabilidade para o número de novos assinantes no pró­ ximo ano, no Estado de Nova York, como se segue."
      ]
    },
    {
      "cell_type": "code",
      "metadata": {
        "id": "3ziBqj0M6C_H",
        "colab_type": "code",
        "colab": {}
      },
      "source": [
        "dadosex12 = {\"x\": [100000,200000,300000,400000,500000,600000],\n",
        "             \"f(x)\": [0.10,0.20,0.25,0.30,0.10,0.05]}"
      ],
      "execution_count": 0,
      "outputs": []
    },
    {
      "cell_type": "code",
      "metadata": {
        "id": "zZQ1-hFp6eAR",
        "colab_type": "code",
        "colab": {}
      },
      "source": [
        "df12 = pd.DataFrame(dadosex12)"
      ],
      "execution_count": 0,
      "outputs": []
    },
    {
      "cell_type": "code",
      "metadata": {
        "id": "C_P447K_6uLu",
        "colab_type": "code",
        "outputId": "b0ef3a9a-3bce-4959-d087-469a11d8f675",
        "colab": {
          "base_uri": "https://localhost:8080/",
          "height": 235
        }
      },
      "source": [
        "df12"
      ],
      "execution_count": 0,
      "outputs": [
        {
          "output_type": "execute_result",
          "data": {
            "text/html": [
              "<div>\n",
              "<style scoped>\n",
              "    .dataframe tbody tr th:only-of-type {\n",
              "        vertical-align: middle;\n",
              "    }\n",
              "\n",
              "    .dataframe tbody tr th {\n",
              "        vertical-align: top;\n",
              "    }\n",
              "\n",
              "    .dataframe thead th {\n",
              "        text-align: right;\n",
              "    }\n",
              "</style>\n",
              "<table border=\"1\" class=\"dataframe\">\n",
              "  <thead>\n",
              "    <tr style=\"text-align: right;\">\n",
              "      <th></th>\n",
              "      <th>x</th>\n",
              "      <th>f(x)</th>\n",
              "    </tr>\n",
              "  </thead>\n",
              "  <tbody>\n",
              "    <tr>\n",
              "      <th>0</th>\n",
              "      <td>100000</td>\n",
              "      <td>0.10</td>\n",
              "    </tr>\n",
              "    <tr>\n",
              "      <th>1</th>\n",
              "      <td>200000</td>\n",
              "      <td>0.20</td>\n",
              "    </tr>\n",
              "    <tr>\n",
              "      <th>2</th>\n",
              "      <td>300000</td>\n",
              "      <td>0.25</td>\n",
              "    </tr>\n",
              "    <tr>\n",
              "      <th>3</th>\n",
              "      <td>400000</td>\n",
              "      <td>0.30</td>\n",
              "    </tr>\n",
              "    <tr>\n",
              "      <th>4</th>\n",
              "      <td>500000</td>\n",
              "      <td>0.10</td>\n",
              "    </tr>\n",
              "    <tr>\n",
              "      <th>5</th>\n",
              "      <td>600000</td>\n",
              "      <td>0.05</td>\n",
              "    </tr>\n",
              "  </tbody>\n",
              "</table>\n",
              "</div>"
            ],
            "text/plain": [
              "        x  f(x)\n",
              "0  100000  0.10\n",
              "1  200000  0.20\n",
              "2  300000  0.25\n",
              "3  400000  0.30\n",
              "4  500000  0.10\n",
              "5  600000  0.05"
            ]
          },
          "metadata": {
            "tags": []
          },
          "execution_count": 14
        }
      ]
    },
    {
      "cell_type": "markdown",
      "metadata": {
        "id": "QyIq-SEW7Mde",
        "colab_type": "text"
      },
      "source": [
        "**a.\tEsta é uma distribuição de probabilidade válida? Explique.**"
      ]
    },
    {
      "cell_type": "markdown",
      "metadata": {
        "id": "3RzE0yKL7QYm",
        "colab_type": "text"
      },
      "source": [
        "Resposta: Sim, pois a f(x) é maior que zero e a somatória é igual a 1."
      ]
    },
    {
      "cell_type": "markdown",
      "metadata": {
        "id": "4Nykhioh7sG7",
        "colab_type": "text"
      },
      "source": [
        "**b.\tQual é a probabilidade de que a Time Wamer venha a obter mais de 400.000 novos assinantes?**"
      ]
    },
    {
      "cell_type": "code",
      "metadata": {
        "id": "uWXS4e5Q6z-6",
        "colab_type": "code",
        "outputId": "1126b295-cf1a-44f1-ba4a-01be646c0ef3",
        "colab": {
          "base_uri": "https://localhost:8080/",
          "height": 34
        }
      },
      "source": [
        "df12['f(x)'].iloc[4:].sum()"
      ],
      "execution_count": 0,
      "outputs": [
        {
          "output_type": "execute_result",
          "data": {
            "text/plain": [
              "0.15000000000000002"
            ]
          },
          "metadata": {
            "tags": []
          },
          "execution_count": 15
        }
      ]
    },
    {
      "cell_type": "markdown",
      "metadata": {
        "id": "96CcWKMI78GE",
        "colab_type": "text"
      },
      "source": [
        "Resposta: A probabilidade da Time Warner obter **mais de** 400K novos assinantes é de 15%."
      ]
    },
    {
      "cell_type": "markdown",
      "metadata": {
        "id": "LOnVA0Ir8TDL",
        "colab_type": "text"
      },
      "source": [
        "**c.\tQual é a probabilidade de que a Time Wamer venha a obter mais de 200.000 novos assinantes?**"
      ]
    },
    {
      "cell_type": "code",
      "metadata": {
        "id": "6wo-KY0V76if",
        "colab_type": "code",
        "outputId": "dfeaa6ed-8ba2-4ee5-8292-24b6d450fdfb",
        "colab": {
          "base_uri": "https://localhost:8080/",
          "height": 34
        }
      },
      "source": [
        "df12['f(x)'].iloc[2:].sum()"
      ],
      "execution_count": 0,
      "outputs": [
        {
          "output_type": "execute_result",
          "data": {
            "text/plain": [
              "0.7000000000000001"
            ]
          },
          "metadata": {
            "tags": []
          },
          "execution_count": 16
        }
      ]
    },
    {
      "cell_type": "markdown",
      "metadata": {
        "id": "0ou-262j8euK",
        "colab_type": "text"
      },
      "source": [
        "Resposta: A probabilidade da Time Warner obter **mais de** 200K novos assinantes é de 70%."
      ]
    },
    {
      "cell_type": "markdown",
      "metadata": {
        "id": "e0SRTO-79Trl",
        "colab_type": "text"
      },
      "source": [
        "## **Exercício 14**"
      ]
    },
    {
      "cell_type": "markdown",
      "metadata": {
        "id": "_agMLQbM-NaK",
        "colab_type": "text"
      },
      "source": [
        "A tabela a seguir é uma distribuição de probabilidade parcial referente ao lucro projetado da MRA Company (x = lucro em milhares de dólares) para o primeiro ano de operação (o valor negativo denota um prejuízo)."
      ]
    },
    {
      "cell_type": "code",
      "metadata": {
        "id": "j9io3DLT9X7K",
        "colab_type": "code",
        "colab": {}
      },
      "source": [
        "dadosex14 = {\"x\": [-100,0,50,100,150,200],\n",
        "             \"f(x)\": [0.10,0.20,0.30,0.25,0.10,'NaN']}"
      ],
      "execution_count": 0,
      "outputs": []
    },
    {
      "cell_type": "code",
      "metadata": {
        "id": "0Ee0MXot-iwR",
        "colab_type": "code",
        "colab": {}
      },
      "source": [
        "df14 = pd.DataFrame(dadosex14)"
      ],
      "execution_count": 0,
      "outputs": []
    },
    {
      "cell_type": "code",
      "metadata": {
        "id": "i3ULJ5H7-lhQ",
        "colab_type": "code",
        "outputId": "c8f44a7a-7b3b-40b5-aa9e-95cf883e2d85",
        "colab": {
          "base_uri": "https://localhost:8080/",
          "height": 235
        }
      },
      "source": [
        "df14"
      ],
      "execution_count": 0,
      "outputs": [
        {
          "output_type": "execute_result",
          "data": {
            "text/html": [
              "<div>\n",
              "<style scoped>\n",
              "    .dataframe tbody tr th:only-of-type {\n",
              "        vertical-align: middle;\n",
              "    }\n",
              "\n",
              "    .dataframe tbody tr th {\n",
              "        vertical-align: top;\n",
              "    }\n",
              "\n",
              "    .dataframe thead th {\n",
              "        text-align: right;\n",
              "    }\n",
              "</style>\n",
              "<table border=\"1\" class=\"dataframe\">\n",
              "  <thead>\n",
              "    <tr style=\"text-align: right;\">\n",
              "      <th></th>\n",
              "      <th>x</th>\n",
              "      <th>f(x)</th>\n",
              "    </tr>\n",
              "  </thead>\n",
              "  <tbody>\n",
              "    <tr>\n",
              "      <th>0</th>\n",
              "      <td>-100</td>\n",
              "      <td>0.1</td>\n",
              "    </tr>\n",
              "    <tr>\n",
              "      <th>1</th>\n",
              "      <td>0</td>\n",
              "      <td>0.2</td>\n",
              "    </tr>\n",
              "    <tr>\n",
              "      <th>2</th>\n",
              "      <td>50</td>\n",
              "      <td>0.3</td>\n",
              "    </tr>\n",
              "    <tr>\n",
              "      <th>3</th>\n",
              "      <td>100</td>\n",
              "      <td>0.25</td>\n",
              "    </tr>\n",
              "    <tr>\n",
              "      <th>4</th>\n",
              "      <td>150</td>\n",
              "      <td>0.1</td>\n",
              "    </tr>\n",
              "    <tr>\n",
              "      <th>5</th>\n",
              "      <td>200</td>\n",
              "      <td>NaN</td>\n",
              "    </tr>\n",
              "  </tbody>\n",
              "</table>\n",
              "</div>"
            ],
            "text/plain": [
              "     x  f(x)\n",
              "0 -100   0.1\n",
              "1    0   0.2\n",
              "2   50   0.3\n",
              "3  100  0.25\n",
              "4  150   0.1\n",
              "5  200   NaN"
            ]
          },
          "metadata": {
            "tags": []
          },
          "execution_count": 19
        }
      ]
    },
    {
      "cell_type": "markdown",
      "metadata": {
        "colab_type": "text",
        "id": "e21QC2vR_wpB"
      },
      "source": [
        "**a.\tQual é o valor adequado para.f(200)? Qual é a sua interpretação desse valor?**"
      ]
    },
    {
      "cell_type": "code",
      "metadata": {
        "id": "gaqfXdT7-_ap",
        "colab_type": "code",
        "colab": {}
      },
      "source": [
        "f200 = 1 - df12['f(x)'].iloc[:5].sum()"
      ],
      "execution_count": 0,
      "outputs": []
    },
    {
      "cell_type": "code",
      "metadata": {
        "id": "PPiaKV4a_DOw",
        "colab_type": "code",
        "outputId": "b52fc7f9-a5fc-46a5-e03b-04264b630f8c",
        "colab": {
          "base_uri": "https://localhost:8080/",
          "height": 34
        }
      },
      "source": [
        "f200"
      ],
      "execution_count": 0,
      "outputs": [
        {
          "output_type": "execute_result",
          "data": {
            "text/plain": [
              "0.04999999999999993"
            ]
          },
          "metadata": {
            "tags": []
          },
          "execution_count": 21
        }
      ]
    },
    {
      "cell_type": "markdown",
      "metadata": {
        "id": "3AghztonADc3",
        "colab_type": "text"
      },
      "source": [
        "Resposta: O valor de f(200) é 0,05. Isso significa que a probabilidade de que a MRA tenha um lucro de 200K dólares é de 5%."
      ]
    },
    {
      "cell_type": "markdown",
      "metadata": {
        "id": "ht5QmLTuAXhY",
        "colab_type": "text"
      },
      "source": [
        "**b.\tQual é a probabilidade de a MRA ser rentável?**"
      ]
    },
    {
      "cell_type": "markdown",
      "metadata": {
        "id": "Dp2E4HlrAfaU",
        "colab_type": "text"
      },
      "source": [
        "Resposta: Como existe 10% de probabilidade dela ter prejuízo de 100K e 20% dela não ter nem lucro nem prejuizo, totalizando 30%, a diferença para 100% é a probabilidade dela ser rentável, ou seja, 70%."
      ]
    },
    {
      "cell_type": "markdown",
      "metadata": {
        "id": "neliu6qnBMja",
        "colab_type": "text"
      },
      "source": [
        "**c.\tQual é a probabilidade de a MRA alcançar pelo menos $ 100 mil?**"
      ]
    },
    {
      "cell_type": "markdown",
      "metadata": {
        "id": "5oe83wyZBVRr",
        "colab_type": "text"
      },
      "source": [
        "Resposta: É a somatória entre: 25%, 10% e 5% (f(200), calculado em a.), ou seja, 40%."
      ]
    },
    {
      "cell_type": "markdown",
      "metadata": {
        "id": "X68ITPN-DKTk",
        "colab_type": "text"
      },
      "source": [
        "## **Exercício 17**"
      ]
    },
    {
      "cell_type": "markdown",
      "metadata": {
        "id": "LVexdfmrRLiB",
        "colab_type": "text"
      },
      "source": [
        "O número de estudantes que realiza o teste SAT atingiu o recorde de mais de 1,5 milhão (College Board, 26 de agosto de 2008). Os estudantes puderam repetir o teste na esperança de melhorar a pontuação que é enviada para os escritórios de admissão de faculdades e universi­ dades. O número de vezes que o SAT foi realizado e o número de estudantes estão a seguir."
      ]
    },
    {
      "cell_type": "code",
      "metadata": {
        "id": "TQI5JKF2DOoo",
        "colab_type": "code",
        "colab": {}
      },
      "source": [
        "dadosex17 = {\"Número de Vezes\": [1,2,3,4,5],\n",
        "             \"NoEstudantes\": [721769, 601325, 166736, 22299, 6730]}"
      ],
      "execution_count": 0,
      "outputs": []
    },
    {
      "cell_type": "code",
      "metadata": {
        "id": "w8TNpfyfRoFm",
        "colab_type": "code",
        "colab": {}
      },
      "source": [
        "df17 = pd.DataFrame(dadosex17)"
      ],
      "execution_count": 0,
      "outputs": []
    },
    {
      "cell_type": "code",
      "metadata": {
        "id": "dmAdWQ5yRvtP",
        "colab_type": "code",
        "outputId": "0aba0571-5f0d-40a0-db07-52ea7d2d9497",
        "colab": {
          "base_uri": "https://localhost:8080/",
          "height": 204
        }
      },
      "source": [
        "df17"
      ],
      "execution_count": 0,
      "outputs": [
        {
          "output_type": "execute_result",
          "data": {
            "text/html": [
              "<div>\n",
              "<style scoped>\n",
              "    .dataframe tbody tr th:only-of-type {\n",
              "        vertical-align: middle;\n",
              "    }\n",
              "\n",
              "    .dataframe tbody tr th {\n",
              "        vertical-align: top;\n",
              "    }\n",
              "\n",
              "    .dataframe thead th {\n",
              "        text-align: right;\n",
              "    }\n",
              "</style>\n",
              "<table border=\"1\" class=\"dataframe\">\n",
              "  <thead>\n",
              "    <tr style=\"text-align: right;\">\n",
              "      <th></th>\n",
              "      <th>Número de Vezes</th>\n",
              "      <th>NoEstudantes</th>\n",
              "    </tr>\n",
              "  </thead>\n",
              "  <tbody>\n",
              "    <tr>\n",
              "      <th>0</th>\n",
              "      <td>1</td>\n",
              "      <td>721769</td>\n",
              "    </tr>\n",
              "    <tr>\n",
              "      <th>1</th>\n",
              "      <td>2</td>\n",
              "      <td>601325</td>\n",
              "    </tr>\n",
              "    <tr>\n",
              "      <th>2</th>\n",
              "      <td>3</td>\n",
              "      <td>166736</td>\n",
              "    </tr>\n",
              "    <tr>\n",
              "      <th>3</th>\n",
              "      <td>4</td>\n",
              "      <td>22299</td>\n",
              "    </tr>\n",
              "    <tr>\n",
              "      <th>4</th>\n",
              "      <td>5</td>\n",
              "      <td>6730</td>\n",
              "    </tr>\n",
              "  </tbody>\n",
              "</table>\n",
              "</div>"
            ],
            "text/plain": [
              "   Número de Vezes  NoEstudantes\n",
              "0                1        721769\n",
              "1                2        601325\n",
              "2                3        166736\n",
              "3                4         22299\n",
              "4                5          6730"
            ]
          },
          "metadata": {
            "tags": []
          },
          "execution_count": 24
        }
      ]
    },
    {
      "cell_type": "markdown",
      "metadata": {
        "colab_type": "text",
        "id": "rxUBx6v2ewHU"
      },
      "source": [
        "**a.\tSeja x uma variável aleatória indicando o número de vezes que um estudante realiza o teste SAT. Mostre a distribuição de probabilidade para esta variável aleatória.**"
      ]
    },
    {
      "cell_type": "code",
      "metadata": {
        "id": "TTvd450ZYxMb",
        "colab_type": "code",
        "colab": {}
      },
      "source": [
        "# Calcula o valor de f(x)\n",
        "for ind, row in df17.iterrows():\n",
        "  df17.loc[ind,\"f(x)\"] = row['NoEstudantes'] / df17['NoEstudantes'].sum()"
      ],
      "execution_count": 0,
      "outputs": []
    },
    {
      "cell_type": "code",
      "metadata": {
        "id": "QzGn2IgDZP9A",
        "colab_type": "code",
        "outputId": "d3aed9ea-fcb4-4234-bc51-2f4dbd021931",
        "colab": {
          "base_uri": "https://localhost:8080/",
          "height": 204
        }
      },
      "source": [
        "df17"
      ],
      "execution_count": 0,
      "outputs": [
        {
          "output_type": "execute_result",
          "data": {
            "text/html": [
              "<div>\n",
              "<style scoped>\n",
              "    .dataframe tbody tr th:only-of-type {\n",
              "        vertical-align: middle;\n",
              "    }\n",
              "\n",
              "    .dataframe tbody tr th {\n",
              "        vertical-align: top;\n",
              "    }\n",
              "\n",
              "    .dataframe thead th {\n",
              "        text-align: right;\n",
              "    }\n",
              "</style>\n",
              "<table border=\"1\" class=\"dataframe\">\n",
              "  <thead>\n",
              "    <tr style=\"text-align: right;\">\n",
              "      <th></th>\n",
              "      <th>Número de Vezes</th>\n",
              "      <th>NoEstudantes</th>\n",
              "      <th>f(x)</th>\n",
              "    </tr>\n",
              "  </thead>\n",
              "  <tbody>\n",
              "    <tr>\n",
              "      <th>0</th>\n",
              "      <td>1</td>\n",
              "      <td>721769</td>\n",
              "      <td>0.475205</td>\n",
              "    </tr>\n",
              "    <tr>\n",
              "      <th>1</th>\n",
              "      <td>2</td>\n",
              "      <td>601325</td>\n",
              "      <td>0.395906</td>\n",
              "    </tr>\n",
              "    <tr>\n",
              "      <th>2</th>\n",
              "      <td>3</td>\n",
              "      <td>166736</td>\n",
              "      <td>0.109777</td>\n",
              "    </tr>\n",
              "    <tr>\n",
              "      <th>3</th>\n",
              "      <td>4</td>\n",
              "      <td>22299</td>\n",
              "      <td>0.014681</td>\n",
              "    </tr>\n",
              "    <tr>\n",
              "      <th>4</th>\n",
              "      <td>5</td>\n",
              "      <td>6730</td>\n",
              "      <td>0.004431</td>\n",
              "    </tr>\n",
              "  </tbody>\n",
              "</table>\n",
              "</div>"
            ],
            "text/plain": [
              "   Número de Vezes  NoEstudantes      f(x)\n",
              "0                1        721769  0.475205\n",
              "1                2        601325  0.395906\n",
              "2                3        166736  0.109777\n",
              "3                4         22299  0.014681\n",
              "4                5          6730  0.004431"
            ]
          },
          "metadata": {
            "tags": []
          },
          "execution_count": 26
        }
      ]
    },
    {
      "cell_type": "code",
      "metadata": {
        "id": "QufUZpGMaDhg",
        "colab_type": "code",
        "outputId": "d7dc2855-8852-4db1-fc6e-a9bd40934739",
        "colab": {
          "base_uri": "https://localhost:8080/",
          "height": 265
        }
      },
      "source": [
        "y_axis = df17['f(x)']\n",
        "x_axis = df17['Número de Vezes']\n",
        "plt.bar(x_axis, y_axis)\n",
        "plt.show()"
      ],
      "execution_count": 0,
      "outputs": [
        {
          "output_type": "display_data",
          "data": {
            "image/png": "[encoded data removed]",
            "text/plain": [
              "<Figure size 432x288 with 1 Axes>"
            ]
          },
          "metadata": {
            "tags": []
          }
        }
      ]
    },
    {
      "cell_type": "markdown",
      "metadata": {
        "id": "r9kfjm5Bawu8",
        "colab_type": "text"
      },
      "source": [
        "**b.\tQual é a probabilidade de que um estudante realize o teste SAT mais de uma vez?**"
      ]
    },
    {
      "cell_type": "code",
      "metadata": {
        "id": "Du4SkqdVa7pX",
        "colab_type": "code",
        "outputId": "436f8268-e048-4208-9b74-6387fef54672",
        "colab": {
          "base_uri": "https://localhost:8080/",
          "height": 34
        }
      },
      "source": [
        "df17['f(x)'].iloc[1:].sum()"
      ],
      "execution_count": 0,
      "outputs": [
        {
          "output_type": "execute_result",
          "data": {
            "text/plain": [
              "0.5247952574926309"
            ]
          },
          "metadata": {
            "tags": []
          },
          "execution_count": 28
        }
      ]
    },
    {
      "cell_type": "markdown",
      "metadata": {
        "id": "ij-8uibxbS-1",
        "colab_type": "text"
      },
      "source": [
        "Resposta: A probabilidade do estudante realizar o SAT mais de uma vez é de 52,48%."
      ]
    },
    {
      "cell_type": "markdown",
      "metadata": {
        "id": "SyiBuA5QblYX",
        "colab_type": "text"
      },
      "source": [
        "**c.\tQual é a probabilidade de que um estudante realize o teste SAT três vezes ou mais?**"
      ]
    },
    {
      "cell_type": "code",
      "metadata": {
        "id": "QyigDNpxbDrc",
        "colab_type": "code",
        "outputId": "6d3655b4-d5aa-4f8b-e4c9-ac9d458653d3",
        "colab": {
          "base_uri": "https://localhost:8080/",
          "height": 34
        }
      },
      "source": [
        "df17['f(x)'].iloc[2:].sum()"
      ],
      "execution_count": 0,
      "outputs": [
        {
          "output_type": "execute_result",
          "data": {
            "text/plain": [
              "0.1288895150899458"
            ]
          },
          "metadata": {
            "tags": []
          },
          "execution_count": 29
        }
      ]
    },
    {
      "cell_type": "markdown",
      "metadata": {
        "id": "29mCghXXbzGv",
        "colab_type": "text"
      },
      "source": [
        "Resposta: A probabilidade do estudante realizar o SAT 3 vezes ou mais é de 12,89%."
      ]
    },
    {
      "cell_type": "markdown",
      "metadata": {
        "id": "9EfX3G2fb89q",
        "colab_type": "text"
      },
      "source": [
        "**d.\tQual é o valor esperado para o número de vezes que o SAT é realizado? Qual é sua inter­pretação para o valor esperado?**"
      ]
    },
    {
      "cell_type": "code",
      "metadata": {
        "id": "eQLQ5QHDdfy_",
        "colab_type": "code",
        "colab": {}
      },
      "source": [
        "# Cria a coluna xf(x) \n",
        "for ind, row in df17.iterrows():\n",
        "  df17.loc[ind,\"xf(x)\"] = row['Número de Vezes'] * row['f(x)']"
      ],
      "execution_count": 0,
      "outputs": []
    },
    {
      "cell_type": "code",
      "metadata": {
        "id": "ly8B4lWHd9Gv",
        "colab_type": "code",
        "outputId": "ba283506-3d22-4c63-d847-44edce7c6074",
        "colab": {
          "base_uri": "https://localhost:8080/",
          "height": 204
        }
      },
      "source": [
        "df17"
      ],
      "execution_count": 0,
      "outputs": [
        {
          "output_type": "execute_result",
          "data": {
            "text/html": [
              "<div>\n",
              "<style scoped>\n",
              "    .dataframe tbody tr th:only-of-type {\n",
              "        vertical-align: middle;\n",
              "    }\n",
              "\n",
              "    .dataframe tbody tr th {\n",
              "        vertical-align: top;\n",
              "    }\n",
              "\n",
              "    .dataframe thead th {\n",
              "        text-align: right;\n",
              "    }\n",
              "</style>\n",
              "<table border=\"1\" class=\"dataframe\">\n",
              "  <thead>\n",
              "    <tr style=\"text-align: right;\">\n",
              "      <th></th>\n",
              "      <th>Número de Vezes</th>\n",
              "      <th>NoEstudantes</th>\n",
              "      <th>f(x)</th>\n",
              "      <th>xf(x)</th>\n",
              "    </tr>\n",
              "  </thead>\n",
              "  <tbody>\n",
              "    <tr>\n",
              "      <th>0</th>\n",
              "      <td>1</td>\n",
              "      <td>721769</td>\n",
              "      <td>0.475205</td>\n",
              "      <td>0.475205</td>\n",
              "    </tr>\n",
              "    <tr>\n",
              "      <th>1</th>\n",
              "      <td>2</td>\n",
              "      <td>601325</td>\n",
              "      <td>0.395906</td>\n",
              "      <td>0.791811</td>\n",
              "    </tr>\n",
              "    <tr>\n",
              "      <th>2</th>\n",
              "      <td>3</td>\n",
              "      <td>166736</td>\n",
              "      <td>0.109777</td>\n",
              "      <td>0.329331</td>\n",
              "    </tr>\n",
              "    <tr>\n",
              "      <th>3</th>\n",
              "      <td>4</td>\n",
              "      <td>22299</td>\n",
              "      <td>0.014681</td>\n",
              "      <td>0.058726</td>\n",
              "    </tr>\n",
              "    <tr>\n",
              "      <th>4</th>\n",
              "      <td>5</td>\n",
              "      <td>6730</td>\n",
              "      <td>0.004431</td>\n",
              "      <td>0.022155</td>\n",
              "    </tr>\n",
              "  </tbody>\n",
              "</table>\n",
              "</div>"
            ],
            "text/plain": [
              "   Número de Vezes  NoEstudantes      f(x)     xf(x)\n",
              "0                1        721769  0.475205  0.475205\n",
              "1                2        601325  0.395906  0.791811\n",
              "2                3        166736  0.109777  0.329331\n",
              "3                4         22299  0.014681  0.058726\n",
              "4                5          6730  0.004431  0.022155"
            ]
          },
          "metadata": {
            "tags": []
          },
          "execution_count": 31
        }
      ]
    },
    {
      "cell_type": "code",
      "metadata": {
        "id": "zrIoZfGKd-4e",
        "colab_type": "code",
        "outputId": "47d21a49-8881-4bc3-f98e-56ab5a9042f0",
        "colab": {
          "base_uri": "https://localhost:8080/",
          "height": 34
        }
      },
      "source": [
        "mu = df17['xf(x)'].sum()\n",
        "mu"
      ],
      "execution_count": 0,
      "outputs": [
        {
          "output_type": "execute_result",
          "data": {
            "text/plain": [
              "1.6772281034645085"
            ]
          },
          "metadata": {
            "tags": []
          },
          "execution_count": 32
        }
      ]
    },
    {
      "cell_type": "markdown",
      "metadata": {
        "id": "9-xstG7tePLi",
        "colab_type": "text"
      },
      "source": [
        "Resposta: O valor esperado para o número de vezes que o SAT é realizado é de 1,68, ou seja, na média, um estudante realiza 1,68 vezes o SAT."
      ]
    },
    {
      "cell_type": "markdown",
      "metadata": {
        "id": "dncN9rmZfyy_",
        "colab_type": "text"
      },
      "source": [
        "**e. Qual é a variância e o desvio padrão para o número de vezes que o SAT é realizado?**"
      ]
    },
    {
      "cell_type": "code",
      "metadata": {
        "id": "K8E59tArgYnf",
        "colab_type": "code",
        "colab": {}
      },
      "source": [
        "# Cria a coluna x-mu \n",
        "for ind, row in df17.iterrows():\n",
        "  df17.loc[ind,\"x-mu\"] = row['Número de Vezes'] - mu"
      ],
      "execution_count": 0,
      "outputs": []
    },
    {
      "cell_type": "code",
      "metadata": {
        "id": "VTZWRDGNgfqN",
        "colab_type": "code",
        "outputId": "c96529ed-4b8b-41f3-de05-96f408065fec",
        "colab": {
          "base_uri": "https://localhost:8080/",
          "height": 204
        }
      },
      "source": [
        "df17"
      ],
      "execution_count": 0,
      "outputs": [
        {
          "output_type": "execute_result",
          "data": {
            "text/html": [
              "<div>\n",
              "<style scoped>\n",
              "    .dataframe tbody tr th:only-of-type {\n",
              "        vertical-align: middle;\n",
              "    }\n",
              "\n",
              "    .dataframe tbody tr th {\n",
              "        vertical-align: top;\n",
              "    }\n",
              "\n",
              "    .dataframe thead th {\n",
              "        text-align: right;\n",
              "    }\n",
              "</style>\n",
              "<table border=\"1\" class=\"dataframe\">\n",
              "  <thead>\n",
              "    <tr style=\"text-align: right;\">\n",
              "      <th></th>\n",
              "      <th>Número de Vezes</th>\n",
              "      <th>NoEstudantes</th>\n",
              "      <th>f(x)</th>\n",
              "      <th>xf(x)</th>\n",
              "      <th>x-mu</th>\n",
              "    </tr>\n",
              "  </thead>\n",
              "  <tbody>\n",
              "    <tr>\n",
              "      <th>0</th>\n",
              "      <td>1</td>\n",
              "      <td>721769</td>\n",
              "      <td>0.475205</td>\n",
              "      <td>0.475205</td>\n",
              "      <td>-0.677228</td>\n",
              "    </tr>\n",
              "    <tr>\n",
              "      <th>1</th>\n",
              "      <td>2</td>\n",
              "      <td>601325</td>\n",
              "      <td>0.395906</td>\n",
              "      <td>0.791811</td>\n",
              "      <td>0.322772</td>\n",
              "    </tr>\n",
              "    <tr>\n",
              "      <th>2</th>\n",
              "      <td>3</td>\n",
              "      <td>166736</td>\n",
              "      <td>0.109777</td>\n",
              "      <td>0.329331</td>\n",
              "      <td>1.322772</td>\n",
              "    </tr>\n",
              "    <tr>\n",
              "      <th>3</th>\n",
              "      <td>4</td>\n",
              "      <td>22299</td>\n",
              "      <td>0.014681</td>\n",
              "      <td>0.058726</td>\n",
              "      <td>2.322772</td>\n",
              "    </tr>\n",
              "    <tr>\n",
              "      <th>4</th>\n",
              "      <td>5</td>\n",
              "      <td>6730</td>\n",
              "      <td>0.004431</td>\n",
              "      <td>0.022155</td>\n",
              "      <td>3.322772</td>\n",
              "    </tr>\n",
              "  </tbody>\n",
              "</table>\n",
              "</div>"
            ],
            "text/plain": [
              "   Número de Vezes  NoEstudantes      f(x)     xf(x)      x-mu\n",
              "0                1        721769  0.475205  0.475205 -0.677228\n",
              "1                2        601325  0.395906  0.791811  0.322772\n",
              "2                3        166736  0.109777  0.329331  1.322772\n",
              "3                4         22299  0.014681  0.058726  2.322772\n",
              "4                5          6730  0.004431  0.022155  3.322772"
            ]
          },
          "metadata": {
            "tags": []
          },
          "execution_count": 34
        }
      ]
    },
    {
      "cell_type": "code",
      "metadata": {
        "id": "DRIarZIZg8C6",
        "colab_type": "code",
        "colab": {}
      },
      "source": [
        "# Cria a coluna (x-mu)ˆ2 \n",
        "for ind, row in df17.iterrows():\n",
        "  df17.loc[ind,\"(x-mu)ˆ2\"] = row['x-mu'] ** 2"
      ],
      "execution_count": 0,
      "outputs": []
    },
    {
      "cell_type": "code",
      "metadata": {
        "id": "F29yAk7khWY2",
        "colab_type": "code",
        "outputId": "515d9138-1b92-4e90-f54a-9783851442f7",
        "colab": {
          "base_uri": "https://localhost:8080/",
          "height": 204
        }
      },
      "source": [
        "df17"
      ],
      "execution_count": 0,
      "outputs": [
        {
          "output_type": "execute_result",
          "data": {
            "text/html": [
              "<div>\n",
              "<style scoped>\n",
              "    .dataframe tbody tr th:only-of-type {\n",
              "        vertical-align: middle;\n",
              "    }\n",
              "\n",
              "    .dataframe tbody tr th {\n",
              "        vertical-align: top;\n",
              "    }\n",
              "\n",
              "    .dataframe thead th {\n",
              "        text-align: right;\n",
              "    }\n",
              "</style>\n",
              "<table border=\"1\" class=\"dataframe\">\n",
              "  <thead>\n",
              "    <tr style=\"text-align: right;\">\n",
              "      <th></th>\n",
              "      <th>Número de Vezes</th>\n",
              "      <th>NoEstudantes</th>\n",
              "      <th>f(x)</th>\n",
              "      <th>xf(x)</th>\n",
              "      <th>x-mu</th>\n",
              "      <th>(x-mu)ˆ2</th>\n",
              "    </tr>\n",
              "  </thead>\n",
              "  <tbody>\n",
              "    <tr>\n",
              "      <th>0</th>\n",
              "      <td>1</td>\n",
              "      <td>721769</td>\n",
              "      <td>0.475205</td>\n",
              "      <td>0.475205</td>\n",
              "      <td>-0.677228</td>\n",
              "      <td>0.458638</td>\n",
              "    </tr>\n",
              "    <tr>\n",
              "      <th>1</th>\n",
              "      <td>2</td>\n",
              "      <td>601325</td>\n",
              "      <td>0.395906</td>\n",
              "      <td>0.791811</td>\n",
              "      <td>0.322772</td>\n",
              "      <td>0.104182</td>\n",
              "    </tr>\n",
              "    <tr>\n",
              "      <th>2</th>\n",
              "      <td>3</td>\n",
              "      <td>166736</td>\n",
              "      <td>0.109777</td>\n",
              "      <td>0.329331</td>\n",
              "      <td>1.322772</td>\n",
              "      <td>1.749725</td>\n",
              "    </tr>\n",
              "    <tr>\n",
              "      <th>3</th>\n",
              "      <td>4</td>\n",
              "      <td>22299</td>\n",
              "      <td>0.014681</td>\n",
              "      <td>0.058726</td>\n",
              "      <td>2.322772</td>\n",
              "      <td>5.395269</td>\n",
              "    </tr>\n",
              "    <tr>\n",
              "      <th>4</th>\n",
              "      <td>5</td>\n",
              "      <td>6730</td>\n",
              "      <td>0.004431</td>\n",
              "      <td>0.022155</td>\n",
              "      <td>3.322772</td>\n",
              "      <td>11.040813</td>\n",
              "    </tr>\n",
              "  </tbody>\n",
              "</table>\n",
              "</div>"
            ],
            "text/plain": [
              "   Número de Vezes  NoEstudantes      f(x)     xf(x)      x-mu   (x-mu)ˆ2\n",
              "0                1        721769  0.475205  0.475205 -0.677228   0.458638\n",
              "1                2        601325  0.395906  0.791811  0.322772   0.104182\n",
              "2                3        166736  0.109777  0.329331  1.322772   1.749725\n",
              "3                4         22299  0.014681  0.058726  2.322772   5.395269\n",
              "4                5          6730  0.004431  0.022155  3.322772  11.040813"
            ]
          },
          "metadata": {
            "tags": []
          },
          "execution_count": 36
        }
      ]
    },
    {
      "cell_type": "code",
      "metadata": {
        "id": "3J3n2Z2PhvTt",
        "colab_type": "code",
        "colab": {}
      },
      "source": [
        "# Cria a coluna (x-mu)ˆ2 * f(x)\n",
        "for ind, row in df17.iterrows():\n",
        "  df17.loc[ind,\"(x-mu)ˆ2 * f(x)\"] = (row['x-mu'] ** 2)*row['f(x)']"
      ],
      "execution_count": 0,
      "outputs": []
    },
    {
      "cell_type": "code",
      "metadata": {
        "id": "8P5e1fQEiDPp",
        "colab_type": "code",
        "outputId": "618a68e7-1434-4c07-92ec-9f63cc3dc3d5",
        "colab": {
          "base_uri": "https://localhost:8080/",
          "height": 204
        }
      },
      "source": [
        "df17"
      ],
      "execution_count": 0,
      "outputs": [
        {
          "output_type": "execute_result",
          "data": {
            "text/html": [
              "<div>\n",
              "<style scoped>\n",
              "    .dataframe tbody tr th:only-of-type {\n",
              "        vertical-align: middle;\n",
              "    }\n",
              "\n",
              "    .dataframe tbody tr th {\n",
              "        vertical-align: top;\n",
              "    }\n",
              "\n",
              "    .dataframe thead th {\n",
              "        text-align: right;\n",
              "    }\n",
              "</style>\n",
              "<table border=\"1\" class=\"dataframe\">\n",
              "  <thead>\n",
              "    <tr style=\"text-align: right;\">\n",
              "      <th></th>\n",
              "      <th>Número de Vezes</th>\n",
              "      <th>NoEstudantes</th>\n",
              "      <th>f(x)</th>\n",
              "      <th>xf(x)</th>\n",
              "      <th>x-mu</th>\n",
              "      <th>(x-mu)ˆ2</th>\n",
              "      <th>(x-mu)ˆ2 * f(x)</th>\n",
              "    </tr>\n",
              "  </thead>\n",
              "  <tbody>\n",
              "    <tr>\n",
              "      <th>0</th>\n",
              "      <td>1</td>\n",
              "      <td>721769</td>\n",
              "      <td>0.475205</td>\n",
              "      <td>0.475205</td>\n",
              "      <td>-0.677228</td>\n",
              "      <td>0.458638</td>\n",
              "      <td>0.217947</td>\n",
              "    </tr>\n",
              "    <tr>\n",
              "      <th>1</th>\n",
              "      <td>2</td>\n",
              "      <td>601325</td>\n",
              "      <td>0.395906</td>\n",
              "      <td>0.791811</td>\n",
              "      <td>0.322772</td>\n",
              "      <td>0.104182</td>\n",
              "      <td>0.041246</td>\n",
              "    </tr>\n",
              "    <tr>\n",
              "      <th>2</th>\n",
              "      <td>3</td>\n",
              "      <td>166736</td>\n",
              "      <td>0.109777</td>\n",
              "      <td>0.329331</td>\n",
              "      <td>1.322772</td>\n",
              "      <td>1.749725</td>\n",
              "      <td>0.192080</td>\n",
              "    </tr>\n",
              "    <tr>\n",
              "      <th>3</th>\n",
              "      <td>4</td>\n",
              "      <td>22299</td>\n",
              "      <td>0.014681</td>\n",
              "      <td>0.058726</td>\n",
              "      <td>2.322772</td>\n",
              "      <td>5.395269</td>\n",
              "      <td>0.079210</td>\n",
              "    </tr>\n",
              "    <tr>\n",
              "      <th>4</th>\n",
              "      <td>5</td>\n",
              "      <td>6730</td>\n",
              "      <td>0.004431</td>\n",
              "      <td>0.022155</td>\n",
              "      <td>3.322772</td>\n",
              "      <td>11.040813</td>\n",
              "      <td>0.048921</td>\n",
              "    </tr>\n",
              "  </tbody>\n",
              "</table>\n",
              "</div>"
            ],
            "text/plain": [
              "   Número de Vezes  NoEstudantes  ...   (x-mu)ˆ2  (x-mu)ˆ2 * f(x)\n",
              "0                1        721769  ...   0.458638         0.217947\n",
              "1                2        601325  ...   0.104182         0.041246\n",
              "2                3        166736  ...   1.749725         0.192080\n",
              "3                4         22299  ...   5.395269         0.079210\n",
              "4                5          6730  ...  11.040813         0.048921\n",
              "\n",
              "[5 rows x 7 columns]"
            ]
          },
          "metadata": {
            "tags": []
          },
          "execution_count": 38
        }
      ]
    },
    {
      "cell_type": "code",
      "metadata": {
        "id": "bIuxMb4ciEfW",
        "colab_type": "code",
        "outputId": "817db184-ce74-4ddb-e6e4-93f6f60d4167",
        "colab": {
          "base_uri": "https://localhost:8080/",
          "height": 34
        }
      },
      "source": [
        "var = df17['(x-mu)ˆ2 * f(x)'].sum()\n",
        "var"
      ],
      "execution_count": 0,
      "outputs": [
        {
          "output_type": "execute_result",
          "data": {
            "text/plain": [
              "0.5794044684746629"
            ]
          },
          "metadata": {
            "tags": []
          },
          "execution_count": 39
        }
      ]
    },
    {
      "cell_type": "code",
      "metadata": {
        "id": "5h38AfROifna",
        "colab_type": "code",
        "outputId": "4230a849-a811-4c38-b3de-27524aec73ae",
        "colab": {
          "base_uri": "https://localhost:8080/",
          "height": 34
        }
      },
      "source": [
        "dp = var ** 0.5\n",
        "dp"
      ],
      "execution_count": 0,
      "outputs": [
        {
          "output_type": "execute_result",
          "data": {
            "text/plain": [
              "0.7611862245696929"
            ]
          },
          "metadata": {
            "tags": []
          },
          "execution_count": 40
        }
      ]
    },
    {
      "cell_type": "markdown",
      "metadata": {
        "id": "uXsZ2OjhkBO0",
        "colab_type": "text"
      },
      "source": [
        "Resposta: A variância (mu) é igual à 0,58 e o desvio padrão, 0,76."
      ]
    },
    {
      "cell_type": "markdown",
      "metadata": {
        "id": "GINwB8GOmG04",
        "colab_type": "text"
      },
      "source": [
        "## **Exercício 20**"
      ]
    },
    {
      "cell_type": "markdown",
      "metadata": {
        "id": "2poW6JLumwx0",
        "colab_type": "text"
      },
      "source": [
        "A distribuição de probabilidade das indenizações pagas em seguros de colisão pela Newton Automobile Insurance Company é mostrada a seguir."
      ]
    },
    {
      "cell_type": "code",
      "metadata": {
        "id": "1MIogWcImLFw",
        "colab_type": "code",
        "colab": {}
      },
      "source": [
        "dados3x20 = {'Pagamento ($)': [0,500,1000,3000,5000,8000,10000],\n",
        "             'Probabilidade': [0.85, 0.04, 0.04, 0.03, 0.02, 0.01, 0.01]}"
      ],
      "execution_count": 0,
      "outputs": []
    },
    {
      "cell_type": "code",
      "metadata": {
        "id": "Z4nrAcCInMZw",
        "colab_type": "code",
        "colab": {}
      },
      "source": [
        "df20 = pd.DataFrame(dados3x20)"
      ],
      "execution_count": 0,
      "outputs": []
    },
    {
      "cell_type": "code",
      "metadata": {
        "id": "RR6YpwPonQdm",
        "colab_type": "code",
        "outputId": "68644aca-9c6f-43c5-a31f-54311a7f8178",
        "colab": {
          "base_uri": "https://localhost:8080/",
          "height": 266
        }
      },
      "source": [
        "df20"
      ],
      "execution_count": 0,
      "outputs": [
        {
          "output_type": "execute_result",
          "data": {
            "text/html": [
              "<div>\n",
              "<style scoped>\n",
              "    .dataframe tbody tr th:only-of-type {\n",
              "        vertical-align: middle;\n",
              "    }\n",
              "\n",
              "    .dataframe tbody tr th {\n",
              "        vertical-align: top;\n",
              "    }\n",
              "\n",
              "    .dataframe thead th {\n",
              "        text-align: right;\n",
              "    }\n",
              "</style>\n",
              "<table border=\"1\" class=\"dataframe\">\n",
              "  <thead>\n",
              "    <tr style=\"text-align: right;\">\n",
              "      <th></th>\n",
              "      <th>Pagamento ($)</th>\n",
              "      <th>Probabilidade</th>\n",
              "    </tr>\n",
              "  </thead>\n",
              "  <tbody>\n",
              "    <tr>\n",
              "      <th>0</th>\n",
              "      <td>0</td>\n",
              "      <td>0.85</td>\n",
              "    </tr>\n",
              "    <tr>\n",
              "      <th>1</th>\n",
              "      <td>500</td>\n",
              "      <td>0.04</td>\n",
              "    </tr>\n",
              "    <tr>\n",
              "      <th>2</th>\n",
              "      <td>1000</td>\n",
              "      <td>0.04</td>\n",
              "    </tr>\n",
              "    <tr>\n",
              "      <th>3</th>\n",
              "      <td>3000</td>\n",
              "      <td>0.03</td>\n",
              "    </tr>\n",
              "    <tr>\n",
              "      <th>4</th>\n",
              "      <td>5000</td>\n",
              "      <td>0.02</td>\n",
              "    </tr>\n",
              "    <tr>\n",
              "      <th>5</th>\n",
              "      <td>8000</td>\n",
              "      <td>0.01</td>\n",
              "    </tr>\n",
              "    <tr>\n",
              "      <th>6</th>\n",
              "      <td>10000</td>\n",
              "      <td>0.01</td>\n",
              "    </tr>\n",
              "  </tbody>\n",
              "</table>\n",
              "</div>"
            ],
            "text/plain": [
              "   Pagamento ($)  Probabilidade\n",
              "0              0           0.85\n",
              "1            500           0.04\n",
              "2           1000           0.04\n",
              "3           3000           0.03\n",
              "4           5000           0.02\n",
              "5           8000           0.01\n",
              "6          10000           0.01"
            ]
          },
          "metadata": {
            "tags": []
          },
          "execution_count": 43
        }
      ]
    },
    {
      "cell_type": "markdown",
      "metadata": {
        "id": "qh3TfYlxnZoO",
        "colab_type": "text"
      },
      "source": [
        "**a.\tUse o pagamento esperado de indenização por colisão para determinar o prêmio de seguro de colisão que possibilitaria à empresa não ter lucro nem prejuízo.**"
      ]
    },
    {
      "cell_type": "code",
      "metadata": {
        "id": "_sAngcjHnRLA",
        "colab_type": "code",
        "outputId": "bf6213a6-9db5-412a-f9ff-04644e4e77e2",
        "colab": {
          "base_uri": "https://localhost:8080/",
          "height": 266
        }
      },
      "source": [
        "# Cria a coluna xf(x) \n",
        "for ind, row in df20.iterrows():\n",
        "  df20.loc[ind,\"xf(x)\"] = row['Pagamento ($)'] * row['Probabilidade']\n",
        "\n",
        "df20"
      ],
      "execution_count": 0,
      "outputs": [
        {
          "output_type": "execute_result",
          "data": {
            "text/html": [
              "<div>\n",
              "<style scoped>\n",
              "    .dataframe tbody tr th:only-of-type {\n",
              "        vertical-align: middle;\n",
              "    }\n",
              "\n",
              "    .dataframe tbody tr th {\n",
              "        vertical-align: top;\n",
              "    }\n",
              "\n",
              "    .dataframe thead th {\n",
              "        text-align: right;\n",
              "    }\n",
              "</style>\n",
              "<table border=\"1\" class=\"dataframe\">\n",
              "  <thead>\n",
              "    <tr style=\"text-align: right;\">\n",
              "      <th></th>\n",
              "      <th>Pagamento ($)</th>\n",
              "      <th>Probabilidade</th>\n",
              "      <th>xf(x)</th>\n",
              "    </tr>\n",
              "  </thead>\n",
              "  <tbody>\n",
              "    <tr>\n",
              "      <th>0</th>\n",
              "      <td>0</td>\n",
              "      <td>0.85</td>\n",
              "      <td>0.0</td>\n",
              "    </tr>\n",
              "    <tr>\n",
              "      <th>1</th>\n",
              "      <td>500</td>\n",
              "      <td>0.04</td>\n",
              "      <td>20.0</td>\n",
              "    </tr>\n",
              "    <tr>\n",
              "      <th>2</th>\n",
              "      <td>1000</td>\n",
              "      <td>0.04</td>\n",
              "      <td>40.0</td>\n",
              "    </tr>\n",
              "    <tr>\n",
              "      <th>3</th>\n",
              "      <td>3000</td>\n",
              "      <td>0.03</td>\n",
              "      <td>90.0</td>\n",
              "    </tr>\n",
              "    <tr>\n",
              "      <th>4</th>\n",
              "      <td>5000</td>\n",
              "      <td>0.02</td>\n",
              "      <td>100.0</td>\n",
              "    </tr>\n",
              "    <tr>\n",
              "      <th>5</th>\n",
              "      <td>8000</td>\n",
              "      <td>0.01</td>\n",
              "      <td>80.0</td>\n",
              "    </tr>\n",
              "    <tr>\n",
              "      <th>6</th>\n",
              "      <td>10000</td>\n",
              "      <td>0.01</td>\n",
              "      <td>100.0</td>\n",
              "    </tr>\n",
              "  </tbody>\n",
              "</table>\n",
              "</div>"
            ],
            "text/plain": [
              "   Pagamento ($)  Probabilidade  xf(x)\n",
              "0              0           0.85    0.0\n",
              "1            500           0.04   20.0\n",
              "2           1000           0.04   40.0\n",
              "3           3000           0.03   90.0\n",
              "4           5000           0.02  100.0\n",
              "5           8000           0.01   80.0\n",
              "6          10000           0.01  100.0"
            ]
          },
          "metadata": {
            "tags": []
          },
          "execution_count": 44
        }
      ]
    },
    {
      "cell_type": "code",
      "metadata": {
        "id": "LeSnlq4Up1k4",
        "colab_type": "code",
        "outputId": "62c1829e-8b83-472f-fe58-be9cd980ffbe",
        "colab": {
          "base_uri": "https://localhost:8080/",
          "height": 34
        }
      },
      "source": [
        "mu20 = df20['xf(x)'].sum()\n",
        "mu20"
      ],
      "execution_count": 0,
      "outputs": [
        {
          "output_type": "execute_result",
          "data": {
            "text/plain": [
              "430.0"
            ]
          },
          "metadata": {
            "tags": []
          },
          "execution_count": 45
        }
      ]
    },
    {
      "cell_type": "markdown",
      "metadata": {
        "id": "Du_fvsw-qa0l",
        "colab_type": "text"
      },
      "source": [
        "Resposta: O valor do prêmio de seguro deveria ser $430 para que a empresa não tenha lucro nem prejuízo."
      ]
    },
    {
      "cell_type": "markdown",
      "metadata": {
        "id": "-gvtfT7HqwgG",
        "colab_type": "text"
      },
      "source": [
        "**b.\tA companhia de seguros cobra uma taxa anual de $ 520 para a cobertura de colisão. Qual é o valor esperado da apólice de seguro contra colisão para o proprietário da apólice? (Dica: Esse valor é o pagamento esperado de indenização da companhia menos o custo de cobertura.) Por que o proprietário da apólice compra uma apólice de colisão com esse valor esperado?**"
      ]
    },
    {
      "cell_type": "code",
      "metadata": {
        "id": "uFh6ut3tHYpv",
        "colab_type": "code",
        "outputId": "16ed6f2d-05db-45dd-8b7f-b492d1e494d6",
        "colab": {
          "base_uri": "https://localhost:8080/",
          "height": 34
        }
      },
      "source": [
        "apolice = mu20 - 520\n",
        "apolice"
      ],
      "execution_count": 0,
      "outputs": [
        {
          "output_type": "execute_result",
          "data": {
            "text/plain": [
              "-90.0"
            ]
          },
          "metadata": {
            "tags": []
          },
          "execution_count": 46
        }
      ]
    },
    {
      "cell_type": "markdown",
      "metadata": {
        "id": "UO9Y35iRJEgp",
        "colab_type": "text"
      },
      "source": [
        "O valor esperado da apólice é de -$90. Porque ele imagina despesas maiores do que o da taxa anual."
      ]
    },
    {
      "cell_type": "markdown",
      "metadata": {
        "id": "rzTKH9YlKA8i",
        "colab_type": "text"
      },
      "source": [
        "## **Exercício 21**"
      ]
    },
    {
      "cell_type": "markdown",
      "metadata": {
        "id": "o6wY0x2CKcB2",
        "colab_type": "text"
      },
      "source": [
        "As seguintes pontuações de satisfação no trabalho referentes a uma amostra de executivos seniores de sistemas de informação e de gerentes intermediários de sistemas de informação variam de 1 (muito insatisfeito) a 5 (muito satisfeito)."
      ]
    },
    {
      "cell_type": "markdown",
      "metadata": {
        "id": "vwzUmanvLMSV",
        "colab_type": "text"
      },
      "source": [
        "**pontuacao** = Pontuação quanto à satisfação no trabalho<p>**executivos** = Executivos seniores de sistemas de informação<p>\n",
        "**gerentes** = Gerentes intermediáriosde sistemas de informação"
      ]
    },
    {
      "cell_type": "code",
      "metadata": {
        "id": "L8QTqN9JKFyQ",
        "colab_type": "code",
        "colab": {}
      },
      "source": [
        "dadosex21 = {\"pontuacao\": [1,2,3,4,5],\n",
        "             \"executivos\": [0.05,0.09,0.03,0.42,0.41],\n",
        "             \"gerentes\": [0.04,0.1,0.12,0.46,0.28]}"
      ],
      "execution_count": 0,
      "outputs": []
    },
    {
      "cell_type": "code",
      "metadata": {
        "id": "Cfh-aN-QK_Dh",
        "colab_type": "code",
        "colab": {}
      },
      "source": [
        "df21 = pd.DataFrame(dadosex21)"
      ],
      "execution_count": 0,
      "outputs": []
    },
    {
      "cell_type": "code",
      "metadata": {
        "id": "c1li-RChLE4G",
        "colab_type": "code",
        "outputId": "36c73197-1beb-4a73-eb9a-09263b341553",
        "colab": {
          "base_uri": "https://localhost:8080/",
          "height": 204
        }
      },
      "source": [
        "df21"
      ],
      "execution_count": 0,
      "outputs": [
        {
          "output_type": "execute_result",
          "data": {
            "text/html": [
              "<div>\n",
              "<style scoped>\n",
              "    .dataframe tbody tr th:only-of-type {\n",
              "        vertical-align: middle;\n",
              "    }\n",
              "\n",
              "    .dataframe tbody tr th {\n",
              "        vertical-align: top;\n",
              "    }\n",
              "\n",
              "    .dataframe thead th {\n",
              "        text-align: right;\n",
              "    }\n",
              "</style>\n",
              "<table border=\"1\" class=\"dataframe\">\n",
              "  <thead>\n",
              "    <tr style=\"text-align: right;\">\n",
              "      <th></th>\n",
              "      <th>pontuacao</th>\n",
              "      <th>executivos</th>\n",
              "      <th>gerentes</th>\n",
              "    </tr>\n",
              "  </thead>\n",
              "  <tbody>\n",
              "    <tr>\n",
              "      <th>0</th>\n",
              "      <td>1</td>\n",
              "      <td>0.05</td>\n",
              "      <td>0.04</td>\n",
              "    </tr>\n",
              "    <tr>\n",
              "      <th>1</th>\n",
              "      <td>2</td>\n",
              "      <td>0.09</td>\n",
              "      <td>0.10</td>\n",
              "    </tr>\n",
              "    <tr>\n",
              "      <th>2</th>\n",
              "      <td>3</td>\n",
              "      <td>0.03</td>\n",
              "      <td>0.12</td>\n",
              "    </tr>\n",
              "    <tr>\n",
              "      <th>3</th>\n",
              "      <td>4</td>\n",
              "      <td>0.42</td>\n",
              "      <td>0.46</td>\n",
              "    </tr>\n",
              "    <tr>\n",
              "      <th>4</th>\n",
              "      <td>5</td>\n",
              "      <td>0.41</td>\n",
              "      <td>0.28</td>\n",
              "    </tr>\n",
              "  </tbody>\n",
              "</table>\n",
              "</div>"
            ],
            "text/plain": [
              "   pontuacao  executivos  gerentes\n",
              "0          1        0.05      0.04\n",
              "1          2        0.09      0.10\n",
              "2          3        0.03      0.12\n",
              "3          4        0.42      0.46\n",
              "4          5        0.41      0.28"
            ]
          },
          "metadata": {
            "tags": []
          },
          "execution_count": 49
        }
      ]
    },
    {
      "cell_type": "markdown",
      "metadata": {
        "id": "bWjXIlj6Lqmr",
        "colab_type": "text"
      },
      "source": [
        "**a.\tQual é o valor esperado da pontuação de satisfação no trabalho para os executivos seniores?**"
      ]
    },
    {
      "cell_type": "code",
      "metadata": {
        "id": "0lM0Oz08LFrZ",
        "colab_type": "code",
        "outputId": "dd3cb6bd-7290-4094-a544-e2b5b8bcba5e",
        "colab": {
          "base_uri": "https://localhost:8080/",
          "height": 204
        }
      },
      "source": [
        "for ind, row in df21.iterrows():\n",
        "  df21.loc[ind,\"xf(x)_executivos\"] = row['pontuacao'] * row['executivos']\n",
        "df21"
      ],
      "execution_count": 0,
      "outputs": [
        {
          "output_type": "execute_result",
          "data": {
            "text/html": [
              "<div>\n",
              "<style scoped>\n",
              "    .dataframe tbody tr th:only-of-type {\n",
              "        vertical-align: middle;\n",
              "    }\n",
              "\n",
              "    .dataframe tbody tr th {\n",
              "        vertical-align: top;\n",
              "    }\n",
              "\n",
              "    .dataframe thead th {\n",
              "        text-align: right;\n",
              "    }\n",
              "</style>\n",
              "<table border=\"1\" class=\"dataframe\">\n",
              "  <thead>\n",
              "    <tr style=\"text-align: right;\">\n",
              "      <th></th>\n",
              "      <th>pontuacao</th>\n",
              "      <th>executivos</th>\n",
              "      <th>gerentes</th>\n",
              "      <th>xf(x)_executivos</th>\n",
              "    </tr>\n",
              "  </thead>\n",
              "  <tbody>\n",
              "    <tr>\n",
              "      <th>0</th>\n",
              "      <td>1</td>\n",
              "      <td>0.05</td>\n",
              "      <td>0.04</td>\n",
              "      <td>0.05</td>\n",
              "    </tr>\n",
              "    <tr>\n",
              "      <th>1</th>\n",
              "      <td>2</td>\n",
              "      <td>0.09</td>\n",
              "      <td>0.10</td>\n",
              "      <td>0.18</td>\n",
              "    </tr>\n",
              "    <tr>\n",
              "      <th>2</th>\n",
              "      <td>3</td>\n",
              "      <td>0.03</td>\n",
              "      <td>0.12</td>\n",
              "      <td>0.09</td>\n",
              "    </tr>\n",
              "    <tr>\n",
              "      <th>3</th>\n",
              "      <td>4</td>\n",
              "      <td>0.42</td>\n",
              "      <td>0.46</td>\n",
              "      <td>1.68</td>\n",
              "    </tr>\n",
              "    <tr>\n",
              "      <th>4</th>\n",
              "      <td>5</td>\n",
              "      <td>0.41</td>\n",
              "      <td>0.28</td>\n",
              "      <td>2.05</td>\n",
              "    </tr>\n",
              "  </tbody>\n",
              "</table>\n",
              "</div>"
            ],
            "text/plain": [
              "   pontuacao  executivos  gerentes  xf(x)_executivos\n",
              "0          1        0.05      0.04              0.05\n",
              "1          2        0.09      0.10              0.18\n",
              "2          3        0.03      0.12              0.09\n",
              "3          4        0.42      0.46              1.68\n",
              "4          5        0.41      0.28              2.05"
            ]
          },
          "metadata": {
            "tags": []
          },
          "execution_count": 50
        }
      ]
    },
    {
      "cell_type": "code",
      "metadata": {
        "id": "zOnTP9-wMDi5",
        "colab_type": "code",
        "outputId": "3bf1ab48-0ee0-49a4-d6a6-74ad96cde4ec",
        "colab": {
          "base_uri": "https://localhost:8080/",
          "height": 34
        }
      },
      "source": [
        "mu_executivos = df21[\"xf(x)_executivos\"].sum()\n",
        "mu_executivos"
      ],
      "execution_count": 0,
      "outputs": [
        {
          "output_type": "execute_result",
          "data": {
            "text/plain": [
              "4.05"
            ]
          },
          "metadata": {
            "tags": []
          },
          "execution_count": 51
        }
      ]
    },
    {
      "cell_type": "markdown",
      "metadata": {
        "id": "gMPXWjgrMnb-",
        "colab_type": "text"
      },
      "source": [
        "Resposta: O valor esperado é de 4,05 para os executivos seniores."
      ]
    },
    {
      "cell_type": "markdown",
      "metadata": {
        "id": "83m6O0O7Mwe9",
        "colab_type": "text"
      },
      "source": [
        "**b.\tQual é o valor esperado da pontuação de satisfação no trabalho para os gerentes inter­mediários?**"
      ]
    },
    {
      "cell_type": "code",
      "metadata": {
        "id": "OOIx6oh8MaaA",
        "colab_type": "code",
        "outputId": "bb0ba303-dabb-48ae-9e84-c58df53c5a00",
        "colab": {
          "base_uri": "https://localhost:8080/",
          "height": 204
        }
      },
      "source": [
        "for ind, row in df21.iterrows():\n",
        "  df21.loc[ind,\"xf(x)_gerentes\"] = row['pontuacao'] * row['gerentes']\n",
        "df21"
      ],
      "execution_count": 0,
      "outputs": [
        {
          "output_type": "execute_result",
          "data": {
            "text/html": [
              "<div>\n",
              "<style scoped>\n",
              "    .dataframe tbody tr th:only-of-type {\n",
              "        vertical-align: middle;\n",
              "    }\n",
              "\n",
              "    .dataframe tbody tr th {\n",
              "        vertical-align: top;\n",
              "    }\n",
              "\n",
              "    .dataframe thead th {\n",
              "        text-align: right;\n",
              "    }\n",
              "</style>\n",
              "<table border=\"1\" class=\"dataframe\">\n",
              "  <thead>\n",
              "    <tr style=\"text-align: right;\">\n",
              "      <th></th>\n",
              "      <th>pontuacao</th>\n",
              "      <th>executivos</th>\n",
              "      <th>gerentes</th>\n",
              "      <th>xf(x)_executivos</th>\n",
              "      <th>xf(x)_gerentes</th>\n",
              "    </tr>\n",
              "  </thead>\n",
              "  <tbody>\n",
              "    <tr>\n",
              "      <th>0</th>\n",
              "      <td>1</td>\n",
              "      <td>0.05</td>\n",
              "      <td>0.04</td>\n",
              "      <td>0.05</td>\n",
              "      <td>0.04</td>\n",
              "    </tr>\n",
              "    <tr>\n",
              "      <th>1</th>\n",
              "      <td>2</td>\n",
              "      <td>0.09</td>\n",
              "      <td>0.10</td>\n",
              "      <td>0.18</td>\n",
              "      <td>0.20</td>\n",
              "    </tr>\n",
              "    <tr>\n",
              "      <th>2</th>\n",
              "      <td>3</td>\n",
              "      <td>0.03</td>\n",
              "      <td>0.12</td>\n",
              "      <td>0.09</td>\n",
              "      <td>0.36</td>\n",
              "    </tr>\n",
              "    <tr>\n",
              "      <th>3</th>\n",
              "      <td>4</td>\n",
              "      <td>0.42</td>\n",
              "      <td>0.46</td>\n",
              "      <td>1.68</td>\n",
              "      <td>1.84</td>\n",
              "    </tr>\n",
              "    <tr>\n",
              "      <th>4</th>\n",
              "      <td>5</td>\n",
              "      <td>0.41</td>\n",
              "      <td>0.28</td>\n",
              "      <td>2.05</td>\n",
              "      <td>1.40</td>\n",
              "    </tr>\n",
              "  </tbody>\n",
              "</table>\n",
              "</div>"
            ],
            "text/plain": [
              "   pontuacao  executivos  gerentes  xf(x)_executivos  xf(x)_gerentes\n",
              "0          1        0.05      0.04              0.05            0.04\n",
              "1          2        0.09      0.10              0.18            0.20\n",
              "2          3        0.03      0.12              0.09            0.36\n",
              "3          4        0.42      0.46              1.68            1.84\n",
              "4          5        0.41      0.28              2.05            1.40"
            ]
          },
          "metadata": {
            "tags": []
          },
          "execution_count": 52
        }
      ]
    },
    {
      "cell_type": "code",
      "metadata": {
        "id": "xROshF0JM50y",
        "colab_type": "code",
        "outputId": "87480f82-2d23-464f-fa6e-e0257261a607",
        "colab": {
          "base_uri": "https://localhost:8080/",
          "height": 34
        }
      },
      "source": [
        "mu_gerentes = df21[\"xf(x)_gerentes\"].sum()\n",
        "mu_gerentes"
      ],
      "execution_count": 0,
      "outputs": [
        {
          "output_type": "execute_result",
          "data": {
            "text/plain": [
              "3.84"
            ]
          },
          "metadata": {
            "tags": []
          },
          "execution_count": 53
        }
      ]
    },
    {
      "cell_type": "markdown",
      "metadata": {
        "id": "bFdJSOoCNHRg",
        "colab_type": "text"
      },
      "source": [
        "Resposta: O valor esperado é de 3,84 para os gerentes intermediários."
      ]
    },
    {
      "cell_type": "markdown",
      "metadata": {
        "id": "PM1wzQ_MNRfY",
        "colab_type": "text"
      },
      "source": [
        "**c. Calcule a variância das pontuações de satisfação no trabalho para os executivos e os geren­tes intermediários.**"
      ]
    },
    {
      "cell_type": "code",
      "metadata": {
        "id": "EQNHnZRzNCup",
        "colab_type": "code",
        "colab": {}
      },
      "source": [
        "for ind, row in df21.iterrows():\n",
        "  df21.loc[ind,\"x-mu_executivos\"] = row['pontuacao'] - mu_executivos"
      ],
      "execution_count": 0,
      "outputs": []
    },
    {
      "cell_type": "code",
      "metadata": {
        "id": "D5c8S9tuOTLZ",
        "colab_type": "code",
        "colab": {}
      },
      "source": [
        "for ind, row in df21.iterrows():\n",
        "  df21.loc[ind,\"x-mu_gerentes\"] = row['pontuacao'] - mu_gerentes"
      ],
      "execution_count": 0,
      "outputs": []
    },
    {
      "cell_type": "code",
      "metadata": {
        "id": "PRVz-G3eN7Wy",
        "colab_type": "code",
        "colab": {}
      },
      "source": [
        "for ind, row in df21.iterrows():\n",
        "  df21.loc[ind,\"(x-mu_executivos)ˆ2\"] = row['x-mu_executivos'] ** 2"
      ],
      "execution_count": 0,
      "outputs": []
    },
    {
      "cell_type": "code",
      "metadata": {
        "id": "6v6clhYLOhx2",
        "colab_type": "code",
        "colab": {}
      },
      "source": [
        "for ind, row in df21.iterrows():\n",
        "  df21.loc[ind,\"(x-mu_gerentes)ˆ2\"] = row['x-mu_gerentes'] ** 2"
      ],
      "execution_count": 0,
      "outputs": []
    },
    {
      "cell_type": "code",
      "metadata": {
        "id": "j7f5FbyrOxmH",
        "colab_type": "code",
        "colab": {}
      },
      "source": [
        "for ind, row in df21.iterrows():\n",
        "  df21.loc[ind,\"(x-mu_executivos)ˆ2 * f(x)\"] = (row['x-mu_executivos'] ** 2)*row['executivos']"
      ],
      "execution_count": 0,
      "outputs": []
    },
    {
      "cell_type": "code",
      "metadata": {
        "id": "5R1nedI4PIET",
        "colab_type": "code",
        "colab": {}
      },
      "source": [
        "for ind, row in df21.iterrows():\n",
        "  df21.loc[ind,\"(x-mu_gerentes)ˆ2 * f(x)\"] = (row['x-mu_gerentes'] ** 2)*row['gerentes']"
      ],
      "execution_count": 0,
      "outputs": []
    },
    {
      "cell_type": "code",
      "metadata": {
        "id": "NTvsP50nONEc",
        "colab_type": "code",
        "outputId": "c3633319-a7ab-441e-f5c3-a402f66d808f",
        "colab": {
          "base_uri": "https://localhost:8080/",
          "height": 258
        }
      },
      "source": [
        "df21"
      ],
      "execution_count": 0,
      "outputs": [
        {
          "output_type": "execute_result",
          "data": {
            "text/html": [
              "<div>\n",
              "<style scoped>\n",
              "    .dataframe tbody tr th:only-of-type {\n",
              "        vertical-align: middle;\n",
              "    }\n",
              "\n",
              "    .dataframe tbody tr th {\n",
              "        vertical-align: top;\n",
              "    }\n",
              "\n",
              "    .dataframe thead th {\n",
              "        text-align: right;\n",
              "    }\n",
              "</style>\n",
              "<table border=\"1\" class=\"dataframe\">\n",
              "  <thead>\n",
              "    <tr style=\"text-align: right;\">\n",
              "      <th></th>\n",
              "      <th>pontuacao</th>\n",
              "      <th>executivos</th>\n",
              "      <th>gerentes</th>\n",
              "      <th>xf(x)_executivos</th>\n",
              "      <th>xf(x)_gerentes</th>\n",
              "      <th>x-mu_executivos</th>\n",
              "      <th>x-mu_gerentes</th>\n",
              "      <th>(x-mu_executivos)ˆ2</th>\n",
              "      <th>(x-mu_gerentes)ˆ2</th>\n",
              "      <th>(x-mu_executivos)ˆ2 * f(x)</th>\n",
              "      <th>(x-mu_gerentes)ˆ2 * f(x)</th>\n",
              "    </tr>\n",
              "  </thead>\n",
              "  <tbody>\n",
              "    <tr>\n",
              "      <th>0</th>\n",
              "      <td>1</td>\n",
              "      <td>0.05</td>\n",
              "      <td>0.04</td>\n",
              "      <td>0.05</td>\n",
              "      <td>0.04</td>\n",
              "      <td>-3.05</td>\n",
              "      <td>-2.84</td>\n",
              "      <td>9.3025</td>\n",
              "      <td>8.0656</td>\n",
              "      <td>0.465125</td>\n",
              "      <td>0.322624</td>\n",
              "    </tr>\n",
              "    <tr>\n",
              "      <th>1</th>\n",
              "      <td>2</td>\n",
              "      <td>0.09</td>\n",
              "      <td>0.10</td>\n",
              "      <td>0.18</td>\n",
              "      <td>0.20</td>\n",
              "      <td>-2.05</td>\n",
              "      <td>-1.84</td>\n",
              "      <td>4.2025</td>\n",
              "      <td>3.3856</td>\n",
              "      <td>0.378225</td>\n",
              "      <td>0.338560</td>\n",
              "    </tr>\n",
              "    <tr>\n",
              "      <th>2</th>\n",
              "      <td>3</td>\n",
              "      <td>0.03</td>\n",
              "      <td>0.12</td>\n",
              "      <td>0.09</td>\n",
              "      <td>0.36</td>\n",
              "      <td>-1.05</td>\n",
              "      <td>-0.84</td>\n",
              "      <td>1.1025</td>\n",
              "      <td>0.7056</td>\n",
              "      <td>0.033075</td>\n",
              "      <td>0.084672</td>\n",
              "    </tr>\n",
              "    <tr>\n",
              "      <th>3</th>\n",
              "      <td>4</td>\n",
              "      <td>0.42</td>\n",
              "      <td>0.46</td>\n",
              "      <td>1.68</td>\n",
              "      <td>1.84</td>\n",
              "      <td>-0.05</td>\n",
              "      <td>0.16</td>\n",
              "      <td>0.0025</td>\n",
              "      <td>0.0256</td>\n",
              "      <td>0.001050</td>\n",
              "      <td>0.011776</td>\n",
              "    </tr>\n",
              "    <tr>\n",
              "      <th>4</th>\n",
              "      <td>5</td>\n",
              "      <td>0.41</td>\n",
              "      <td>0.28</td>\n",
              "      <td>2.05</td>\n",
              "      <td>1.40</td>\n",
              "      <td>0.95</td>\n",
              "      <td>1.16</td>\n",
              "      <td>0.9025</td>\n",
              "      <td>1.3456</td>\n",
              "      <td>0.370025</td>\n",
              "      <td>0.376768</td>\n",
              "    </tr>\n",
              "  </tbody>\n",
              "</table>\n",
              "</div>"
            ],
            "text/plain": [
              "   pontuacao  executivos  ...  (x-mu_executivos)ˆ2 * f(x)  (x-mu_gerentes)ˆ2 * f(x)\n",
              "0          1        0.05  ...                    0.465125                  0.322624\n",
              "1          2        0.09  ...                    0.378225                  0.338560\n",
              "2          3        0.03  ...                    0.033075                  0.084672\n",
              "3          4        0.42  ...                    0.001050                  0.011776\n",
              "4          5        0.41  ...                    0.370025                  0.376768\n",
              "\n",
              "[5 rows x 11 columns]"
            ]
          },
          "metadata": {
            "tags": []
          },
          "execution_count": 60
        }
      ]
    },
    {
      "cell_type": "code",
      "metadata": {
        "id": "ovXKeVjkON-r",
        "colab_type": "code",
        "outputId": "accd2f00-8c86-4552-9236-3e71e1f6533a",
        "colab": {
          "base_uri": "https://localhost:8080/",
          "height": 34
        }
      },
      "source": [
        "var_executivo = df21['(x-mu_executivos)ˆ2 * f(x)'].sum()\n",
        "var_executivo"
      ],
      "execution_count": 0,
      "outputs": [
        {
          "output_type": "execute_result",
          "data": {
            "text/plain": [
              "1.2475"
            ]
          },
          "metadata": {
            "tags": []
          },
          "execution_count": 61
        }
      ]
    },
    {
      "cell_type": "code",
      "metadata": {
        "id": "jQzzUlv5Pcro",
        "colab_type": "code",
        "outputId": "6aa6df4b-f57d-4b4b-ce7f-a21f8c9ff601",
        "colab": {
          "base_uri": "https://localhost:8080/",
          "height": 34
        }
      },
      "source": [
        "var_gerentes = df21['(x-mu_gerentes)ˆ2 * f(x)'].sum()\n",
        "var_gerentes"
      ],
      "execution_count": 0,
      "outputs": [
        {
          "output_type": "execute_result",
          "data": {
            "text/plain": [
              "1.1344"
            ]
          },
          "metadata": {
            "tags": []
          },
          "execution_count": 62
        }
      ]
    },
    {
      "cell_type": "markdown",
      "metadata": {
        "id": "NF1hdbLdP0Ui",
        "colab_type": "text"
      },
      "source": [
        "Resposta: As variâncias das pontuações são: Executivo Senior: 1,24 e Gerente Intermediário: 1,13"
      ]
    },
    {
      "cell_type": "markdown",
      "metadata": {
        "id": "eKZpwi1gQFXA",
        "colab_type": "text"
      },
      "source": [
        "**d.\tCalcule o desvio padrão das pontuações de satisfação no trabalho para ambas as distribui­ções de probabilidade.**"
      ]
    },
    {
      "cell_type": "code",
      "metadata": {
        "id": "PVdZRvGcPxf4",
        "colab_type": "code",
        "outputId": "a1930246-1bca-446f-bced-3276f2758ef6",
        "colab": {
          "base_uri": "https://localhost:8080/",
          "height": 34
        }
      },
      "source": [
        "dp_executivos = var_executivo ** 0.5\n",
        "dp_executivos"
      ],
      "execution_count": 0,
      "outputs": [
        {
          "output_type": "execute_result",
          "data": {
            "text/plain": [
              "1.116915395184434"
            ]
          },
          "metadata": {
            "tags": []
          },
          "execution_count": 63
        }
      ]
    },
    {
      "cell_type": "code",
      "metadata": {
        "id": "WM_KApIUQUK7",
        "colab_type": "code",
        "outputId": "bd5a7951-3383-4183-a364-6ca08108ba0b",
        "colab": {
          "base_uri": "https://localhost:8080/",
          "height": 34
        }
      },
      "source": [
        "dp_gerentes = var_gerentes ** 0.5\n",
        "dp_gerentes"
      ],
      "execution_count": 0,
      "outputs": [
        {
          "output_type": "execute_result",
          "data": {
            "text/plain": [
              "1.065082156455548"
            ]
          },
          "metadata": {
            "tags": []
          },
          "execution_count": 64
        }
      ]
    },
    {
      "cell_type": "markdown",
      "metadata": {
        "id": "xzRKulySQmsC",
        "colab_type": "text"
      },
      "source": [
        "Respostas: Os desvios padrões são: Executivo: 1,12 e Gerentes: 1,07."
      ]
    },
    {
      "cell_type": "markdown",
      "metadata": {
        "id": "Cbg5BVKnWec7",
        "colab_type": "text"
      },
      "source": [
        "**e. Compare a satisfação global no trabalho dos executivos seniores e dos gerentes inter­mediários.**"
      ]
    },
    {
      "cell_type": "markdown",
      "metadata": {
        "id": "4qrTn8wWWwDy",
        "colab_type": "text"
      },
      "source": [
        "Resposta: Os exeutivos têm uma satisfação global maior (4,05) do que os gerentes (3,84), mas o desvio padrão dos executivos é um pouco maior (1,12) do que o dos gerentes (1,07), ou seja, a variabilidade entre os executivos é maior."
      ]
    },
    {
      "cell_type": "markdown",
      "metadata": {
        "id": "9YLTZu4c-T_s",
        "colab_type": "text"
      },
      "source": [
        "## **Exercício 31**"
      ]
    },
    {
      "cell_type": "markdown",
      "metadata": {
        "id": "JwnWEnQhEu85",
        "colab_type": "text"
      },
      "source": [
        "Uma pesquisa efetuada pela Randstad/Harris Interactive relatou que 25% dos funcionários disseram que suas empresas são leais a eles (USA Today, 11 de novembro de 2009). Suponha que 10 funcionários sejam selecionados aleatoriamente e entrevistados quanto à lealdade da companhia."
      ]
    },
    {
      "cell_type": "markdown",
      "metadata": {
        "id": "qsGJiR3OE3Fk",
        "colab_type": "text"
      },
      "source": [
        "**a. A seleção de 10 funcionários é um experimento binomial? Explique.**"
      ]
    },
    {
      "cell_type": "markdown",
      "metadata": {
        "id": "4IS7rnUCFOcb",
        "colab_type": "text"
      },
      "source": [
        "Resposta: Sim, é um experimento binomial, pois ele é uma sequência de ensaios, só são possíveis dois resultados (leal e não-leal), a probabilidade p (0.25) é constante e eles são independentes."
      ]
    },
    {
      "cell_type": "markdown",
      "metadata": {
        "id": "5MJxRNW8GfUv",
        "colab_type": "text"
      },
      "source": [
        "**b. Qual é a probabilidade de que nenhum dos 10 funcionários diga que sua empresa é leal a ele?**"
      ]
    },
    {
      "cell_type": "code",
      "metadata": {
        "id": "DZF-XITl-YRA",
        "colab_type": "code",
        "outputId": "7963278b-14d1-483f-c18f-074b2cf50083",
        "colab": {
          "base_uri": "https://localhost:8080/",
          "height": 34
        }
      },
      "source": [
        "n = 10 #defina o número de ensaios\n",
        "x = 0 #defina o número de sucesso\n",
        "p = 0.25 #defina o valor da probabilidade de um sucesso no ensaio\n",
        "f = (math.factorial(n)/(math.factorial(x)*math.factorial(n-x)))*p**x*(1-p)**(n-x) #f que é f(x) = a probabilidade de x sucessos em n ensaios\n",
        "f"
      ],
      "execution_count": 0,
      "outputs": [
        {
          "output_type": "execute_result",
          "data": {
            "text/plain": [
              "0.056313514709472656"
            ]
          },
          "metadata": {
            "tags": []
          },
          "execution_count": 67
        }
      ]
    },
    {
      "cell_type": "markdown",
      "metadata": {
        "id": "3aG99ATfHMIM",
        "colab_type": "text"
      },
      "source": [
        "Resposta: A probablidade de que nenhum dos 10 funcionários diga que sua empresa é leal a ele é de 5,6%."
      ]
    },
    {
      "cell_type": "markdown",
      "metadata": {
        "id": "6kK-Ffn5HaAy",
        "colab_type": "text"
      },
      "source": [
        "**c. Qual é a probabilidade de que 4 dos 10 funcionários digam que sua empresa é leal a eles?**"
      ]
    },
    {
      "cell_type": "code",
      "metadata": {
        "id": "vFQlJ0ALHEI5",
        "colab_type": "code",
        "outputId": "29c3b22f-11d6-497b-fd95-e41c9d7293ed",
        "colab": {
          "base_uri": "https://localhost:8080/",
          "height": 34
        }
      },
      "source": [
        "n = 10 #defina o número de ensaios\n",
        "x = 4 #defina o número de sucesso\n",
        "p = 0.25 #defina o valor da probabilidade de um sucesso no ensaio\n",
        "f = (math.factorial(n)/(math.factorial(x)*math.factorial(n-x)))*p**x*(1-p)**(n-x) #f que é f(x) = a probabilidade de x sucessos em n ensaios\n",
        "f"
      ],
      "execution_count": 0,
      "outputs": [
        {
          "output_type": "execute_result",
          "data": {
            "text/plain": [
              "0.1459980010986328"
            ]
          },
          "metadata": {
            "tags": []
          },
          "execution_count": 107
        }
      ]
    },
    {
      "cell_type": "markdown",
      "metadata": {
        "id": "ziZFECwxHfTp",
        "colab_type": "text"
      },
      "source": [
        "Resposta: A probabilidade de que 4 dos 10 funcionários digam que sua empresa é leal a eles é de 14,6%"
      ]
    },
    {
      "cell_type": "code",
      "metadata": {
        "id": "X_wcxSKWHo6D",
        "colab_type": "code",
        "colab": {}
      },
      "source": [
        ""
      ],
      "execution_count": 0,
      "outputs": []
    },
    {
      "cell_type": "markdown",
      "metadata": {
        "id": "o02lT2OgHwQ8",
        "colab_type": "text"
      },
      "source": [
        "**d. Qual é a probabilidade de que pelo menos 2 dos 10 funcionários diga que sua empresa é leal a eles?**"
      ]
    },
    {
      "cell_type": "code",
      "metadata": {
        "id": "yZ0OrX8THz4n",
        "colab_type": "code",
        "outputId": "b71754d2-a3e4-473c-cac0-8c06c9b6ff09",
        "colab": {
          "base_uri": "https://localhost:8080/",
          "height": 34
        }
      },
      "source": [
        "n = 10 #defina o número de ensaios\n",
        "p = 0.25 #defina o valor da probabilidade de um sucesso no ensaio\n",
        "facumulada = 0 # probabilidade acumulada\n",
        "for x in range(2,11):\n",
        " f = (math.factorial(n)/(math.factorial(x)*math.factorial(n-x)))*p**x*(1-p)**(n-x) #f que é f(x) = a probabilidade de x sucessos em n ensaios\n",
        " facumulada += f\n",
        "print(facumulada)"
      ],
      "execution_count": 0,
      "outputs": [
        {
          "output_type": "stream",
          "text": [
            "0.7559747695922852\n"
          ],
          "name": "stdout"
        }
      ]
    },
    {
      "cell_type": "markdown",
      "metadata": {
        "id": "jrK1qJWNLuis",
        "colab_type": "text"
      },
      "source": [
        "Resposta: A probabilidade de que pelo menos 2 dos 10 funcionários diga que sua empresa é leal a eles é de 75,6%"
      ]
    },
    {
      "cell_type": "markdown",
      "metadata": {
        "id": "TMVHoBpBL_Hf",
        "colab_type": "text"
      },
      "source": [
        "## **Exercício 32**"
      ]
    },
    {
      "cell_type": "markdown",
      "metadata": {
        "id": "s58Rs8ZIMU8J",
        "colab_type": "text"
      },
      "source": [
        "Os sistemas militares de radar e de mísseis são concebidos para um país se precaver de ataques inimigos. Uma questão de confiabilidade é se um sistema de detecção será capaz de identificar um ataque e disparar um alarme. Considere que um determinado sistema de detecção tenha uma probabilidade de 0,90 de detectar um ataque de mísseis. Use a distribuição de probabili­dade binomial para responder às seguintes questões:"
      ]
    },
    {
      "cell_type": "markdown",
      "metadata": {
        "id": "nK1qUzu6MZKz",
        "colab_type": "text"
      },
      "source": [
        "**a. Qual é a probabilidade de um único sistema de detecção detectar um ataque?**"
      ]
    },
    {
      "cell_type": "markdown",
      "metadata": {
        "id": "5GClafJDMxk_",
        "colab_type": "text"
      },
      "source": [
        "Resposta: a probabilidade é de 90%."
      ]
    },
    {
      "cell_type": "markdown",
      "metadata": {
        "id": "7_j4lptlNCpq",
        "colab_type": "text"
      },
      "source": [
        "**b. Se dois sistemas de detecção estão instalados na mesma área e operam independentemente, qual é a probabilidade de pelo menos um dos sistemas detectar o ataque?**"
      ]
    },
    {
      "cell_type": "code",
      "metadata": {
        "id": "XXs-e_MnME4j",
        "colab_type": "code",
        "outputId": "b0e531af-9841-4107-d573-232dee2612a2",
        "colab": {
          "base_uri": "https://localhost:8080/",
          "height": 34
        }
      },
      "source": [
        "n = 2 #defina o número de ensaios\n",
        "p = 0.9 #defina o valor da probabilidade de um sucesso no ensaio\n",
        "facumulada = 0 # probabilidade acumulada\n",
        "for x in range(1,3):\n",
        " f = (math.factorial(n)/(math.factorial(x)*math.factorial(n-x)))*p**x*(1-p)**(n-x) #f que é f(x) = a probabilidade de x sucessos em n ensaios\n",
        " facumulada += f\n",
        "print(facumulada)"
      ],
      "execution_count": 9,
      "outputs": [
        {
          "output_type": "stream",
          "text": [
            "0.99\n"
          ],
          "name": "stdout"
        }
      ]
    },
    {
      "cell_type": "markdown",
      "metadata": {
        "id": "HI-5nPsJOD4X",
        "colab_type": "text"
      },
      "source": [
        "Resposta: Se dois sistemas de detecção estão instalados na mesma área e operam independentemente, a probabilidade de pelo menos um dos sistemas detectar o ataque é de 99%."
      ]
    },
    {
      "cell_type": "markdown",
      "metadata": {
        "id": "j_L2_aucOKU6",
        "colab_type": "text"
      },
      "source": [
        "**c. Se três sistemas estão instalados, qual é a probabilidade de pelo menos um dos sistemas detectar o ataque?**"
      ]
    },
    {
      "cell_type": "code",
      "metadata": {
        "id": "zQllYL3jM92T",
        "colab_type": "code",
        "outputId": "4034231a-628b-4990-d73b-faefeb507615",
        "colab": {
          "base_uri": "https://localhost:8080/",
          "height": 34
        }
      },
      "source": [
        "n = 3 #defina o número de ensaios\n",
        "p = 0.9 #defina o valor da probabilidade de um sucesso no ensaio\n",
        "facumulada = 0 # probabilidade acumulada\n",
        "for x in range(1,4):\n",
        " f = (math.factorial(n)/(math.factorial(x)*math.factorial(n-x)))*p**x*(1-p)**(n-x) #f que é f(x) = a probabilidade de x sucessos em n ensaios\n",
        " facumulada += f\n",
        "print(facumulada)"
      ],
      "execution_count": 0,
      "outputs": [
        {
          "output_type": "stream",
          "text": [
            "0.9990000000000001\n"
          ],
          "name": "stdout"
        }
      ]
    },
    {
      "cell_type": "markdown",
      "metadata": {
        "id": "vw9NyCp5OTD7",
        "colab_type": "text"
      },
      "source": [
        "Resposta: Se três sistemas estão instalados, a probabilidade de pelo menos um dos sistemas detectar o ataque é de 99,9%."
      ]
    },
    {
      "cell_type": "markdown",
      "metadata": {
        "id": "2fTUFk3ZOpOU",
        "colab_type": "text"
      },
      "source": [
        "**d. Você recomendaria o uso de vários sistemas de detecção? Explique.**"
      ]
    },
    {
      "cell_type": "code",
      "metadata": {
        "id": "vge7DiC9PEUi",
        "colab_type": "code",
        "outputId": "aaf03424-d76f-4ef7-b20c-971b570fa2ae",
        "colab": {
          "base_uri": "https://localhost:8080/",
          "height": 34
        }
      },
      "source": [
        "n = 4 #defina o número de ensaios\n",
        "p = 0.9 #defina o valor da probabilidade de um sucesso no ensaio\n",
        "facumulada = 0 # probabilidade acumulada\n",
        "for x in range(1,5):\n",
        " f = (math.factorial(n)/(math.factorial(x)*math.factorial(n-x)))*p**x*(1-p)**(n-x) #f que é f(x) = a probabilidade de x sucessos em n ensaios\n",
        " facumulada += f\n",
        "print(facumulada)"
      ],
      "execution_count": 0,
      "outputs": [
        {
          "output_type": "stream",
          "text": [
            "0.9999\n"
          ],
          "name": "stdout"
        }
      ]
    },
    {
      "cell_type": "markdown",
      "metadata": {
        "id": "nrOHmifeOtY2",
        "colab_type": "text"
      },
      "source": [
        "Eu recomendaria o uso de, no máximo, três sistema, já que entre o uso de um e o uso de dois existe uma melhora de 10%. A partir daí, o aumento de sistemas (e o seu custo) não traria uma melhora na probabilidade de acerto que justificaria o aumento de custo, vide simulação acima, com 4 sistemas."
      ]
    },
    {
      "cell_type": "markdown",
      "metadata": {
        "id": "YJsLdHSHUaxr",
        "colab_type": "text"
      },
      "source": [
        "## **Exercício 33**"
      ]
    },
    {
      "cell_type": "markdown",
      "metadata": {
        "id": "bP_aSWwrVN-S",
        "colab_type": "text"
      },
      "source": [
        "Doze dos 20 principais finalistas no PGA Championship de 2009, na Hazeltine National Golf Club, em Chaska, Minnesota, utilizaram uma bola de golfe da marca Titleist (site da Golf­ BallTest, 12 de novembro de 2009). Suponha que esses resultados sejam representativos para a probabilidade de um jogador do PGA Tour selecionado aleatoriamente utilizar uma bola de golfe da marca Titleist. Para uma amostra de 15 jogadores faça os seguintes cálculos."
      ]
    },
    {
      "cell_type": "markdown",
      "metadata": {
        "id": "rxibbw1kVUuW",
        "colab_type": "text"
      },
      "source": [
        "**a. Calcule a probabilidade de que exatamente 10 dos 15 jogadores do PGA Tour utilizem uma bola de golfe Titleist.**"
      ]
    },
    {
      "cell_type": "code",
      "metadata": {
        "id": "kgy876Tg3jkN",
        "colab_type": "code",
        "colab": {
          "base_uri": "https://localhost:8080/",
          "height": 34
        },
        "outputId": "8979df90-e7b1-46b6-9f82-15ab039e7ef2"
      },
      "source": [
        "n = 15 #defina o número de ensaios\n",
        "x = 10 #defina o número de sucesso\n",
        "p = 12/20 #defina o valor da probabilidade de um sucesso no ensaio\n",
        "f = (math.factorial(n)/(math.factorial(x)*math.factorial(n-x)))*p**x*(1-p)**(n-x) #f que é f(x) = a probabilidade de x sucessos em n ensaios\n",
        "f"
      ],
      "execution_count": 8,
      "outputs": [
        {
          "output_type": "execute_result",
          "data": {
            "text/plain": [
              "0.18593784476467198"
            ]
          },
          "metadata": {
            "tags": []
          },
          "execution_count": 8
        }
      ]
    },
    {
      "cell_type": "markdown",
      "metadata": {
        "id": "LQKs3ISH38Wy",
        "colab_type": "text"
      },
      "source": [
        "Resposta: A probabilidade de que exatamente 10 dos 15 jogadores do PGA Tour utilizem uma bola de golfe Titleist é de 18,6%."
      ]
    },
    {
      "cell_type": "markdown",
      "metadata": {
        "id": "eZ2JZ3d14gEN",
        "colab_type": "text"
      },
      "source": [
        "**b. Calcule a probabilidade de que mais de 10 dos jogadores do PGA Tour utilizem uma bola de golfe Titleist.**"
      ]
    },
    {
      "cell_type": "code",
      "metadata": {
        "id": "8OmAKcvp5Vn6",
        "colab_type": "code",
        "colab": {
          "base_uri": "https://localhost:8080/",
          "height": 34
        },
        "outputId": "5b3f59ed-6f0e-4b0a-9b75-f768b5b41cc2"
      },
      "source": [
        "n = 15 #defina o número de ensaios\n",
        "p = 12/20 #defina o valor da probabilidade de um sucesso no ensaio\n",
        "facumulada = 0 # probabilidade acumulada\n",
        "for x in range(11,16):\n",
        " f = (math.factorial(n)/(math.factorial(x)*math.factorial(n-x)))*p**x*(1-p)**(n-x) #f que é f(x) = a probabilidade de x sucessos em n ensaios\n",
        " facumulada += f\n",
        "print(facumulada)"
      ],
      "execution_count": 18,
      "outputs": [
        {
          "output_type": "stream",
          "text": [
            "0.21727770565017596\n"
          ],
          "name": "stdout"
        }
      ]
    },
    {
      "cell_type": "markdown",
      "metadata": {
        "id": "1gfLiDfe8InP",
        "colab_type": "text"
      },
      "source": [
        "Resposta: A probabilidade de que mais de 10 dos jogadores do PGA Tour utilizem uma bola de golfe Titleist é de 21,7%\n",
        "\n"
      ]
    },
    {
      "cell_type": "markdown",
      "metadata": {
        "id": "VnfgR0Nf_s8D",
        "colab_type": "text"
      },
      "source": [
        "**c. Para uma amostra de 15 jogadores do PGA Tour, calcule o número esperado de jogadores que utilizam uma bola de golfe Titleist.**"
      ]
    },
    {
      "cell_type": "code",
      "metadata": {
        "id": "i8Dz0lKi8QPg",
        "colab_type": "code",
        "colab": {
          "base_uri": "https://localhost:8080/",
          "height": 34
        },
        "outputId": "5a53adcc-6ac9-4cc9-83f2-c7fc021ca89f"
      },
      "source": [
        "n = 15 #número de ensaios\n",
        "p = 12/20 #probabilidade de sucesso\n",
        "mu = n * p\n",
        "mu"
      ],
      "execution_count": 22,
      "outputs": [
        {
          "output_type": "execute_result",
          "data": {
            "text/plain": [
              "9.0"
            ]
          },
          "metadata": {
            "tags": []
          },
          "execution_count": 22
        }
      ]
    },
    {
      "cell_type": "markdown",
      "metadata": {
        "id": "WHzmAYt1AUP9",
        "colab_type": "text"
      },
      "source": [
        "Resposta: Para uma amostra de 15 jogadores do PGA Tour, o número esperado de jogadores que utilizam uma bola de golfe Titleist é de 9 jogadores."
      ]
    },
    {
      "cell_type": "markdown",
      "metadata": {
        "id": "yBRY7NRSAluh",
        "colab_type": "text"
      },
      "source": [
        "**d.\tPara uma amostra de 15 jogadores do PGA Tour, calcule a variância e o desvio padrão do número de jogadores que utilizam uma bola de golfe Titleist.**"
      ]
    },
    {
      "cell_type": "code",
      "metadata": {
        "id": "kDFzOHlPAH1q",
        "colab_type": "code",
        "colab": {
          "base_uri": "https://localhost:8080/",
          "height": 51
        },
        "outputId": "dc4c83bc-bd92-410c-8d8a-78cd34eb5282"
      },
      "source": [
        "Var = mu*(1-p)\n",
        "stdev = Var ** 0.5\n",
        "print(Var)\n",
        "print(stdev)"
      ],
      "execution_count": 24,
      "outputs": [
        {
          "output_type": "stream",
          "text": [
            "3.6\n",
            "1.8973665961010275\n"
          ],
          "name": "stdout"
        }
      ]
    },
    {
      "cell_type": "markdown",
      "metadata": {
        "id": "9Cj2mcm_BNR1",
        "colab_type": "text"
      },
      "source": [
        "Resposta: A variância é 3,6 e o desvio padrão, 1,9."
      ]
    },
    {
      "cell_type": "markdown",
      "metadata": {
        "id": "btiqw--LBu-4",
        "colab_type": "text"
      },
      "source": [
        "## **Exercício 34**"
      ]
    },
    {
      "cell_type": "markdown",
      "metadata": {
        "id": "vqskHVq8CAJF",
        "colab_type": "text"
      },
      "source": [
        "Um Estudo da População Atual do Toe Census Bureau mostra que 28% dos indivíduos, com idade de 25 ou mais, concluíram quatro anos de faculdade (The New York Times Almanac, 2006). Para uma amostra de 15 indivíduos, com idade de 25 ou mais, responda às seguintes questões:"
      ]
    },
    {
      "cell_type": "markdown",
      "metadata": {
        "id": "IJ1nn08WCGRx",
        "colab_type": "text"
      },
      "source": [
        "**a. Qual é a probabilidade de que quatro indivíduos tenham concluído quatro anos de faculdade?**"
      ]
    },
    {
      "cell_type": "code",
      "metadata": {
        "id": "fQS4gzo0BzyC",
        "colab_type": "code",
        "colab": {
          "base_uri": "https://localhost:8080/",
          "height": 34
        },
        "outputId": "f28aa800-445e-4af1-a055-ed707f33d640"
      },
      "source": [
        "n = 15 #defina o número de ensaios\n",
        "x = 4 #defina o número de sucesso\n",
        "p = 0.28 #defina o valor da probabilidade de um sucesso no ensaio\n",
        "f = (math.factorial(n)/(math.factorial(x)*math.factorial(n-x)))*p**x*(1-p)**(n-x) #f que é f(x) = a probabilidade de x sucessos em n ensaios\n",
        "f"
      ],
      "execution_count": 25,
      "outputs": [
        {
          "output_type": "execute_result",
          "data": {
            "text/plain": [
              "0.22616335471765717"
            ]
          },
          "metadata": {
            "tags": []
          },
          "execution_count": 25
        }
      ]
    },
    {
      "cell_type": "markdown",
      "metadata": {
        "id": "R7CkpK4mCZf9",
        "colab_type": "text"
      },
      "source": [
        "Resposta: A probabilidade de que quatro indivíduos tenham concluído quatro anos de faculdade é de 22,6%."
      ]
    },
    {
      "cell_type": "markdown",
      "metadata": {
        "id": "DChFbUeVCkPu",
        "colab_type": "text"
      },
      "source": [
        "**b. Qual é a probabilidade de que três indivíduos ou mais tenham concluído quatro anos de faculdade?**"
      ]
    },
    {
      "cell_type": "code",
      "metadata": {
        "id": "RZbhIOvjCXTT",
        "colab_type": "code",
        "colab": {
          "base_uri": "https://localhost:8080/",
          "height": 34
        },
        "outputId": "587fc38d-329c-4f94-af25-92fe4052e25f"
      },
      "source": [
        "n = 15 #defina o número de ensaios\n",
        "p = 0.28 #defina o valor da probabilidade de um sucesso no ensaio\n",
        "facumulada = 0 # probabilidade acumulada\n",
        "for x in range(3,16):\n",
        " f = (math.factorial(n)/(math.factorial(x)*math.factorial(n-x)))*p**x*(1-p)**(n-x) #f que é f(x) = a probabilidade de x sucessos em n ensaios\n",
        " facumulada += f\n",
        "print(facumulada)"
      ],
      "execution_count": 26,
      "outputs": [
        {
          "output_type": "stream",
          "text": [
            "0.8354638847772572\n"
          ],
          "name": "stdout"
        }
      ]
    },
    {
      "cell_type": "markdown",
      "metadata": {
        "id": "xJw-PLheC76v",
        "colab_type": "text"
      },
      "source": [
        "Resposta: A probabilidade de que três indivíduos ou mais tenham concluído quatro anos de faculdade é de 83,6%"
      ]
    },
    {
      "cell_type": "markdown",
      "metadata": {
        "id": "quaYnWpkE0zO",
        "colab_type": "text"
      },
      "source": [
        "## **Exercício 37**"
      ]
    },
    {
      "cell_type": "markdown",
      "metadata": {
        "colab_type": "text",
        "id": "LXcwiWNiEw-3"
      },
      "source": [
        "Vinte em três por cento dos automóveis não têm cobertura de seguros (CNN, 23 de fevereiro de 2006). Em um determinado fim de semana, 35 automóveis são envolvidos em acidentes de tráfego."
      ]
    },
    {
      "cell_type": "markdown",
      "metadata": {
        "colab_type": "text",
        "id": "SDnjg_tpEw-3"
      },
      "source": [
        "**a.\tQual é o número esperado desses automóveis que não estão cobertos por seguro?**"
      ]
    },
    {
      "cell_type": "code",
      "metadata": {
        "colab_type": "code",
        "outputId": "ea1f3baa-cc49-4f09-9c92-20366390d7ca",
        "id": "NdSLb1L9Ew-4",
        "colab": {
          "base_uri": "https://localhost:8080/",
          "height": 34
        }
      },
      "source": [
        "n = 35 #número de ensaios\n",
        "p = 0.23 #probabilidade de sucesso\n",
        "mu = n * p\n",
        "mu"
      ],
      "execution_count": 0,
      "outputs": [
        {
          "output_type": "execute_result",
          "data": {
            "text/plain": [
              "8.05"
            ]
          },
          "metadata": {
            "tags": []
          },
          "execution_count": 27
        }
      ]
    },
    {
      "cell_type": "markdown",
      "metadata": {
        "colab_type": "text",
        "id": "4ut2lOoTEw-8"
      },
      "source": [
        "Resposta: O número esperado desses automóveis que não estão cobertos por seguro é de 8 veículos."
      ]
    },
    {
      "cell_type": "markdown",
      "metadata": {
        "colab_type": "text",
        "id": "fgJrtikiEw-8"
      },
      "source": [
        "**b.\tCalcule a variância e o desvio padrão do número de automóveis sem cobertura de seguro.**"
      ]
    },
    {
      "cell_type": "code",
      "metadata": {
        "colab_type": "code",
        "outputId": "24fff437-ff6b-469f-94dc-4524beeded19",
        "id": "ZtfE_61eEw-9",
        "colab": {
          "base_uri": "https://localhost:8080/",
          "height": 51
        }
      },
      "source": [
        "Var = mu*(1-p)\n",
        "stdev = Var ** 0.5\n",
        "print(Var)\n",
        "print(stdev)"
      ],
      "execution_count": 0,
      "outputs": [
        {
          "output_type": "stream",
          "text": [
            "6.198500000000001\n",
            "2.4896786941290237\n"
          ],
          "name": "stdout"
        }
      ]
    },
    {
      "cell_type": "markdown",
      "metadata": {
        "colab_type": "text",
        "id": "UIoKF6OiEw--"
      },
      "source": [
        "A variância e o desvio padrão do número de automóveis sem cobertura de seguro são iguais a 6,2 e 2,5, respectivamente."
      ]
    },
    {
      "cell_type": "markdown",
      "metadata": {
        "id": "8HI3o4HeFGQl",
        "colab_type": "text"
      },
      "source": [
        "## **Exercício 42**"
      ]
    },
    {
      "cell_type": "markdown",
      "metadata": {
        "id": "dREm_qzgMCn1",
        "colab_type": "text"
      },
      "source": [
        "Os estabelecimentos da Bed & Breakfast (B&B) registraram a estada de mais de 50 milhões de hóspedes todos os anos. Os atrativos mostrados no site da Bed and Breakfast Inns of North America, o qual tem uma média de aproximadamente sete visitas por minuto, possibilitam a muitos estabelecimentos da B&B atraírem hóspedes (Time, setembro de 2001)."
      ]
    },
    {
      "cell_type": "markdown",
      "metadata": {
        "id": "RLoE-1q8MMUR",
        "colab_type": "text"
      },
      "source": [
        "**a.\tCalcule a probabilidade de não haver nenhuma visita ao site no período de um minuto.**"
      ]
    },
    {
      "cell_type": "code",
      "metadata": {
        "id": "ftAceaCPFJBv",
        "colab_type": "code",
        "colab": {
          "base_uri": "https://localhost:8080/",
          "height": 34
        },
        "outputId": "3b84c690-c2f2-4a61-cf8d-98ffe6113dbc"
      },
      "source": [
        "e = 2.71828\n",
        "x = 0 # número de ocorrências\n",
        "mu = 7 # valor esperado\n",
        "f = ((mu ** x)*(e**(-mu)))/(math.factorial(x)) # Probabilidade de 0 ocorrências em um minuto\n",
        "f"
      ],
      "execution_count": 49,
      "outputs": [
        {
          "output_type": "execute_result",
          "data": {
            "text/plain": [
              "0.000911886259223803"
            ]
          },
          "metadata": {
            "tags": []
          },
          "execution_count": 49
        }
      ]
    },
    {
      "cell_type": "markdown",
      "metadata": {
        "id": "HAsXcDJNNnn5",
        "colab_type": "text"
      },
      "source": [
        "Resposta: A probabilidade de não haver nenhuma visita ao site no período de um minuto é de 0,009%"
      ]
    },
    {
      "cell_type": "markdown",
      "metadata": {
        "id": "lyQzhenBOM55",
        "colab_type": "text"
      },
      "source": [
        "**b.\tCalcule a probabilidade de haver duas ou mais visitas ao site no período de um minuto.**"
      ]
    },
    {
      "cell_type": "code",
      "metadata": {
        "id": "uDS6LRm4NEm5",
        "colab_type": "code",
        "colab": {
          "base_uri": "https://localhost:8080/",
          "height": 34
        },
        "outputId": "2bcf6fa4-5f69-44a5-811a-66693539f6f4"
      },
      "source": [
        "e = 2.71828\n",
        "x = 1 # número de ocorrências\n",
        "mu = 7 # valor esperado\n",
        "f = ((mu ** x)*(e**(-mu)))/(math.factorial(x)) # Probabilidade de 1 ocorrências em um intervalo\n",
        "f"
      ],
      "execution_count": 39,
      "outputs": [
        {
          "output_type": "execute_result",
          "data": {
            "text/plain": [
              "0.006383203814566621"
            ]
          },
          "metadata": {
            "tags": []
          },
          "execution_count": 39
        }
      ]
    },
    {
      "cell_type": "code",
      "metadata": {
        "id": "NsBM3_-EOWUQ",
        "colab_type": "code",
        "colab": {
          "base_uri": "https://localhost:8080/",
          "height": 34
        },
        "outputId": "074a736e-9b57-4429-fae4-2819d61d21ca"
      },
      "source": [
        "prob = 1-(0.000911886259223803+0.006383203814566621) # 100% menos a probabilidade de 0 e 1 visitas\n",
        "prob"
      ],
      "execution_count": 41,
      "outputs": [
        {
          "output_type": "execute_result",
          "data": {
            "text/plain": [
              "0.9927049099262095"
            ]
          },
          "metadata": {
            "tags": []
          },
          "execution_count": 41
        }
      ]
    },
    {
      "cell_type": "markdown",
      "metadata": {
        "id": "Tb460n03RKBM",
        "colab_type": "text"
      },
      "source": [
        "Resposta: A probabilidade de haver duas ou mais visitas ao site no período de um minuto é de 99,3%"
      ]
    },
    {
      "cell_type": "markdown",
      "metadata": {
        "id": "IspuAQxwX3wB",
        "colab_type": "text"
      },
      "source": [
        "**c. Calcule a probabilidade de haver uma ou mais visitas ao site em um período de 30 segundos.**"
      ]
    },
    {
      "cell_type": "code",
      "metadata": {
        "id": "3UcDqO_iRB0H",
        "colab_type": "code",
        "colab": {
          "base_uri": "https://localhost:8080/",
          "height": 51
        },
        "outputId": "765a3c34-eada-42d9-cb21-94ab012c38d0"
      },
      "source": [
        "e = 2.71828\n",
        "x = 0 # número de ocorrências\n",
        "mu = 7/2 # valor esperado a cada 30s\n",
        "f = ((mu ** x)*(e**(-mu)))/(math.factorial(x)) # Probabilidade de 0 ocorrências em um intervalo\n",
        "print(f)\n",
        "prob30 = 1 - f\n",
        "print(prob30)"
      ],
      "execution_count": 45,
      "outputs": [
        {
          "output_type": "stream",
          "text": [
            "0.03019745451563431\n",
            "0.9698025454843657\n"
          ],
          "name": "stdout"
        }
      ]
    },
    {
      "cell_type": "markdown",
      "metadata": {
        "id": "wv83OEAOYpjH",
        "colab_type": "text"
      },
      "source": [
        "Resposta: A probabilidade de haver uma ou mais visitas ao site em um período de 30 segundos é de 96,98%"
      ]
    },
    {
      "cell_type": "markdown",
      "metadata": {
        "id": "5rfUPNJ0ZOeZ",
        "colab_type": "text"
      },
      "source": [
        "**d. Calcule a probabilidade de haver cinco ou mais visitas ao site no período de um minuto.**"
      ]
    },
    {
      "cell_type": "code",
      "metadata": {
        "id": "7XHQ-f4QZSXn",
        "colab_type": "code",
        "colab": {
          "base_uri": "https://localhost:8080/",
          "height": 34
        },
        "outputId": "8b95ec8c-d0db-4ad5-b73c-2435bdabfbaa"
      },
      "source": [
        "e = 2.71828\n",
        "# x = número de ocorrências\n",
        "mu = 7 # valor esperado\n",
        "facumulada = 0 # probabilidade acumulada\n",
        "for x in range(0,5):\n",
        "  #print(x)\n",
        "  f = ((mu ** x)*(e**(-mu)))/(math.factorial(x)) # Probabilidade de x ocorrências em um intervalo\n",
        "  #print(f)\n",
        "  facumulada += f\n",
        "#print(facumulada)\n",
        "prob5 = 1 - facumulada # 100% - somatoria das probabilidades de 0 a 4.\n",
        "print(prob5)\n"
      ],
      "execution_count": 63,
      "outputs": [
        {
          "output_type": "stream",
          "text": [
            "0.8270075775730843\n"
          ],
          "name": "stdout"
        }
      ]
    },
    {
      "cell_type": "markdown",
      "metadata": {
        "id": "ZbEGzQwNdkRI",
        "colab_type": "text"
      },
      "source": [
        "Resposta: A probabilidade de haver cinco ou mais visitas ao site no período de um minuto é de 82,7%."
      ]
    },
    {
      "cell_type": "markdown",
      "metadata": {
        "id": "H4kuls80eF49",
        "colab_type": "text"
      },
      "source": [
        "## **Exercício 43**"
      ]
    },
    {
      "cell_type": "markdown",
      "metadata": {
        "id": "xQUXiyELeLK1",
        "colab_type": "text"
      },
      "source": [
        "Os passageiros de uma empresa aérea chegam aleatória e independentemente ao balcão de controle de passageiros de um importante aeroporto internacional. A taxa média de chegada é de 10 passageiros por minuto."
      ]
    },
    {
      "cell_type": "markdown",
      "metadata": {
        "id": "U7U1v-RHeSTN",
        "colab_type": "text"
      },
      "source": [
        "**a.\tCalcule a probabilidade de ninguém chegar no período de um minuto.**"
      ]
    },
    {
      "cell_type": "code",
      "metadata": {
        "id": "6VYOEzKAeJkZ",
        "colab_type": "code",
        "colab": {
          "base_uri": "https://localhost:8080/",
          "height": 34
        },
        "outputId": "3c72726a-78dd-4461-ebec-81f7b85dbea2"
      },
      "source": [
        "e = 2.71828\n",
        "x = 0 # número de ocorrências\n",
        "mu = 10 # valor esperado\n",
        "f = ((mu ** x)*(e**(-mu)))/(math.factorial(x)) # Probabilidade de 0 ocorrências em um minuto\n",
        "f"
      ],
      "execution_count": 64,
      "outputs": [
        {
          "output_type": "execute_result",
          "data": {
            "text/plain": [
              "4.540023514737345e-05"
            ]
          },
          "metadata": {
            "tags": []
          },
          "execution_count": 64
        }
      ]
    },
    {
      "cell_type": "markdown",
      "metadata": {
        "id": "eVMF0FPQetNP",
        "colab_type": "text"
      },
      "source": [
        "Resposta: Praticamente zero."
      ]
    },
    {
      "cell_type": "markdown",
      "metadata": {
        "id": "An1KYG2LeWM3",
        "colab_type": "text"
      },
      "source": [
        "**b.\tCalcule a probabilidade de três ou menos passageiros chegarem no período de um minuto.**"
      ]
    },
    {
      "cell_type": "code",
      "metadata": {
        "id": "MqtWvSYheXo4",
        "colab_type": "code",
        "colab": {
          "base_uri": "https://localhost:8080/",
          "height": 34
        },
        "outputId": "bdc946ea-ef96-4c7b-ec43-881dde0c20ea"
      },
      "source": [
        "e = 2.71828\n",
        "# x = número de ocorrências\n",
        "mu = 10 # valor esperado\n",
        "facumulada = 0 # probabilidade acumulada\n",
        "for x in range(0,4):\n",
        "  #print(x)\n",
        "  f = ((mu ** x)*(e**(-mu)))/(math.factorial(x)) # Probabilidade de x ocorrências em um intervalo\n",
        "  #print(f)\n",
        "  facumulada += f\n",
        "print(facumulada)\n",
        "#prob5 = 1 - facumulada # 100% - somatoria das probabilidades de 0 a 4.\n",
        "#print(prob5)"
      ],
      "execution_count": 70,
      "outputs": [
        {
          "output_type": "stream",
          "text": [
            "0.010336120201885355\n"
          ],
          "name": "stdout"
        }
      ]
    },
    {
      "cell_type": "markdown",
      "metadata": {
        "id": "yRsN1Wp9fOIf",
        "colab_type": "text"
      },
      "source": [
        "Resposta: A probabilidade de três ou menos passageiros chegarem no período de um minuto é de 1,03%"
      ]
    },
    {
      "cell_type": "markdown",
      "metadata": {
        "id": "eNmDutLxeYHz",
        "colab_type": "text"
      },
      "source": [
        "**c.\tCalcule a probabilidade de ninguém chegar em um período de 15 segundos.**"
      ]
    },
    {
      "cell_type": "code",
      "metadata": {
        "id": "YXkG0F3FeZAi",
        "colab_type": "code",
        "colab": {
          "base_uri": "https://localhost:8080/",
          "height": 34
        },
        "outputId": "d3811f97-8a06-4ff3-eee6-dec2bcdb2bcd"
      },
      "source": [
        "e = 2.71828\n",
        "x = 0 # número de ocorrências\n",
        "mu = 10/4 # valor esperado em 15s\n",
        "f = ((mu ** x)*(e**(-mu)))/(math.factorial(x)) # Probabilidade de 0 ocorrências em um minuto\n",
        "f"
      ],
      "execution_count": 71,
      "outputs": [
        {
          "output_type": "execute_result",
          "data": {
            "text/plain": [
              "0.08208513666075844"
            ]
          },
          "metadata": {
            "tags": []
          },
          "execution_count": 71
        }
      ]
    },
    {
      "cell_type": "markdown",
      "metadata": {
        "id": "P8AP1ug0gIx8",
        "colab_type": "text"
      },
      "source": [
        "Resposta: A probabilidade de ninguém chegar em um período de 15 segundos é de 8,21%"
      ]
    },
    {
      "cell_type": "markdown",
      "metadata": {
        "id": "kqPui1MBf-jP",
        "colab_type": "text"
      },
      "source": [
        "**d.\tCalcule a probabilidade de pelo menos um passageiro chegar em um período de 15 segundos.**"
      ]
    },
    {
      "cell_type": "code",
      "metadata": {
        "id": "hxLdX1qZf_qr",
        "colab_type": "code",
        "colab": {
          "base_uri": "https://localhost:8080/",
          "height": 34
        },
        "outputId": "757a70cd-7a34-47b5-86ce-7dcfeee8530c"
      },
      "source": [
        "prob15 = 1 - f # 100% - probabiliadade de ninguém chegar\n",
        "prob15"
      ],
      "execution_count": 73,
      "outputs": [
        {
          "output_type": "execute_result",
          "data": {
            "text/plain": [
              "0.9179148633392415"
            ]
          },
          "metadata": {
            "tags": []
          },
          "execution_count": 73
        }
      ]
    },
    {
      "cell_type": "markdown",
      "metadata": {
        "id": "xv_D37Vmgkcz",
        "colab_type": "text"
      },
      "source": [
        "Resposta: A probabilidade de pelo menos um passageiro chegar em um período de 15 segundos é de 91,79%."
      ]
    },
    {
      "cell_type": "markdown",
      "metadata": {
        "id": "JunGKCxWhBR8",
        "colab_type": "text"
      },
      "source": [
        "### **Exercício 49**"
      ]
    },
    {
      "cell_type": "markdown",
      "metadata": {
        "id": "2ZGbDj8lhgQF",
        "colab_type": "text"
      },
      "source": [
        "O blackjack, ou vinte-e-um, como é frequentemente chamado, é um jogo de azar popular prati­ cado nos cassinos de Las Vegas. O jogador recebe duas cartas. As cartas da corte (valete, dama e rei) e o dez vale dez pontos. O ás vale 1 ou 11 pontos. Um baralho de 52 cartas contém 16 cartas que valem dez pontos (valete, rei, dama e dez) e quatro ases."
      ]
    },
    {
      "cell_type": "markdown",
      "metadata": {
        "id": "3Dpb7eMYhmr5",
        "colab_type": "text"
      },
      "source": [
        "**a.\tQual é a probabilidade de ambas as cartas tiradas serem ases ou cartas de dez pontos?**"
      ]
    },
    {
      "cell_type": "code",
      "metadata": {
        "id": "0N1b2w4Yg-7P",
        "colab_type": "code",
        "colab": {}
      },
      "source": [
        "  x = 2 #número de sucesso\n",
        "  n = 2 #número de ensaios\n",
        "  N = 52 #número de elementos na população\n",
        "  r = 20 #número de sucessos na  população\n",
        "  #fx = a probabilidade de x sucessos em n ensaios\n",
        "\n",
        "  fx = ((math.factorial(r)/(math.factorial(x)*math.factorial(r-x)))*(math.factorial(N-r)/(math.factorial(n-x)*math.factorial((N-r)-(n-x)))))/(math.factorial(N)/(math.factorial(n)*math.factorial(N-n)))"
      ],
      "execution_count": 0,
      "outputs": []
    },
    {
      "cell_type": "code",
      "metadata": {
        "id": "zdY4oEywkkL4",
        "colab_type": "code",
        "colab": {
          "base_uri": "https://localhost:8080/",
          "height": 34
        },
        "outputId": "989a16bf-6a27-4775-8157-f7165087669e"
      },
      "source": [
        "fx"
      ],
      "execution_count": 80,
      "outputs": [
        {
          "output_type": "execute_result",
          "data": {
            "text/plain": [
              "0.14328808446455504"
            ]
          },
          "metadata": {
            "tags": []
          },
          "execution_count": 80
        }
      ]
    },
    {
      "cell_type": "markdown",
      "metadata": {
        "id": "62eD-4rvoDRW",
        "colab_type": "text"
      },
      "source": [
        "Resposta: A probabilidade de ambas as cartas tiradas serem ases ou cartas de dez pontos é de 14,33%."
      ]
    },
    {
      "cell_type": "markdown",
      "metadata": {
        "id": "eLW3_HNRoN5j",
        "colab_type": "text"
      },
      "source": [
        "**b. Qual é a probabilidade de ambas as cartas serem ases?**"
      ]
    },
    {
      "cell_type": "code",
      "metadata": {
        "id": "L_58m6LCk3by",
        "colab_type": "code",
        "colab": {}
      },
      "source": [
        "x = 2 #número de sucesso\n",
        "n = 2 #número de ensaios\n",
        "N = 52 #número de elementos na população\n",
        "r = 4 #número de sucessos na  população\n",
        "#fx = a probabilidade de x sucessos em n ensaios\n",
        "fx = ((math.factorial(r)/(math.factorial(x)*math.factorial(r-x)))*(math.factorial(N-r)/(math.factorial(n-x)*math.factorial((N-r)-(n-x)))))/(math.factorial(N)/(math.factorial(n)*math.factorial(N-n)))"
      ],
      "execution_count": 0,
      "outputs": []
    },
    {
      "cell_type": "code",
      "metadata": {
        "id": "elMjbXY2oa1N",
        "colab_type": "code",
        "colab": {
          "base_uri": "https://localhost:8080/",
          "height": 34
        },
        "outputId": "e9384551-06bb-40b3-b775-01b601538d93"
      },
      "source": [
        "fx"
      ],
      "execution_count": 82,
      "outputs": [
        {
          "output_type": "execute_result",
          "data": {
            "text/plain": [
              "0.004524886877828055"
            ]
          },
          "metadata": {
            "tags": []
          },
          "execution_count": 82
        }
      ]
    },
    {
      "cell_type": "markdown",
      "metadata": {
        "id": "wcri5SnXolgv",
        "colab_type": "text"
      },
      "source": [
        "Resposta: A probabilidade de ambas as cartas serem ases é de 0,45%."
      ]
    },
    {
      "cell_type": "markdown",
      "metadata": {
        "id": "r1UM7PDopINu",
        "colab_type": "text"
      },
      "source": [
        "**c. Qual é a probabilidade de ambas as cartas valerem dez pontos?**"
      ]
    },
    {
      "cell_type": "code",
      "metadata": {
        "id": "YjAo67rZojLk",
        "colab_type": "code",
        "colab": {}
      },
      "source": [
        "x = 2 #número de sucesso\n",
        "n = 2 #número de ensaios\n",
        "N = 52 #número de elementos na população\n",
        "r = 16 #número de sucessos na  população\n",
        "#fx = a probabilidade de x sucessos em n ensaios\n",
        "fx = ((math.factorial(r)/(math.factorial(x)*math.factorial(r-x)))*(math.factorial(N-r)/(math.factorial(n-x)*math.factorial((N-r)-(n-x)))))/(math.factorial(N)/(math.factorial(n)*math.factorial(N-n)))"
      ],
      "execution_count": 0,
      "outputs": []
    },
    {
      "cell_type": "code",
      "metadata": {
        "id": "olvt3XtEpTp_",
        "colab_type": "code",
        "colab": {
          "base_uri": "https://localhost:8080/",
          "height": 34
        },
        "outputId": "c7d04cfe-f33f-4f44-eaa0-92e52d471cb7"
      },
      "source": [
        "fx"
      ],
      "execution_count": 84,
      "outputs": [
        {
          "output_type": "execute_result",
          "data": {
            "text/plain": [
              "0.09049773755656108"
            ]
          },
          "metadata": {
            "tags": []
          },
          "execution_count": 84
        }
      ]
    },
    {
      "cell_type": "markdown",
      "metadata": {
        "id": "QUQLXaplpWD2",
        "colab_type": "text"
      },
      "source": [
        "Resposta: A probabilidade de ambas as cartas valerem dez pontos é de 9,05%."
      ]
    },
    {
      "cell_type": "markdown",
      "metadata": {
        "id": "kyw8PVIZpoZ4",
        "colab_type": "text"
      },
      "source": [
        "**d.\tUm blackjack forma-se com uma carta de dez pontos e um ás, totalizando 21 pontos. Use suas respostas às questões (a), (b) e (c) para determinar a probabilidade de um jogador tirar um blackjack. (Dica: A questão (d) não é um problema hipergeométrico. Desenvolva sua própria relação lógica de como as probabilidades hipergeométricas dos itens (a), (b) e (c) podem ser combinadas para responder a essa questão).**"
      ]
    },
    {
      "cell_type": "markdown",
      "metadata": {
        "id": "mmyhLOXGsWZx",
        "colab_type": "text"
      },
      "source": [
        "A probablidade de tirar 21 pontos é igual à probabiliade de ambas serem As ou cartas de 10 pontos menos a probabilidade de uma das duas cartas serem repetidas, portanto: 14,33 - 9,05 - 0,45 = **4,83%**"
      ]
    },
    {
      "cell_type": "code",
      "metadata": {
        "id": "gUCA-RnAs6Ha",
        "colab_type": "code",
        "colab": {}
      },
      "source": [
        ""
      ],
      "execution_count": 0,
      "outputs": []
    },
    {
      "cell_type": "markdown",
      "metadata": {
        "id": "ihiTGneztJGp",
        "colab_type": "text"
      },
      "source": [
        "## **Exercício 52**"
      ]
    },
    {
      "cell_type": "markdown",
      "metadata": {
        "id": "9RTyNNngtW6J",
        "colab_type": "text"
      },
      "source": [
        "O TARP (Troubled Asset Relief Program, ou Programa de Auxi1io ao Patrimônio Compro­ metido), aprovado pelo Congresso dos Estados Unidos em outubro de 2008, distribuiu $ 700 bilhões para o auxílio à economia norte-americanadurante a crise. Mais de 200 bilhões foram destinados a instituições financeiras que se encontravam em dificuldades, na esperança de que haveria um aumento nos empréstimos para ajudar a impulsionar a economia. Porém, três me­ ses depois, uma pesquisa do Federal Reserve revelou que dois terços dos bancos que haviam recebido fundos do TARP tinham restringido os termos para a concessão de empréstimos a empresas (The Wall Street Joumal, 3 de fevereiro de 2009). Dos 10 bancos que receberam as maiores quantias de fundos do TARP, somente 3 realmente aumentaram os empréstimos durante esse período."
      ]
    },
    {
      "cell_type": "markdown",
      "metadata": {
        "id": "MBERFxuFucn7",
        "colab_type": "text"
      },
      "source": [
        "Para os propósitos deste exercício, digamos que você tenha selecionado aleatoriamente 3 des­ses 1O bancos para um estudo que continuará a monitorar as práticas de empréstimo bancário. Suponha que x seja uma variável aleatória indicando o número de bancos no estudo que aumentaram seus empréstimos"
      ]
    },
    {
      "cell_type": "markdown",
      "metadata": {
        "id": "WbRtu5youpQ1",
        "colab_type": "text"
      },
      "source": [
        "**a. Calcule o valor de f(0). Qual é a sua interpretação desse valor?**"
      ]
    },
    {
      "cell_type": "code",
      "metadata": {
        "id": "vO0UWDzUtPIe",
        "colab_type": "code",
        "colab": {
          "base_uri": "https://localhost:8080/",
          "height": 34
        },
        "outputId": "e5eb9046-c951-4c7f-bacd-df9f813a808a"
      },
      "source": [
        "n = 3 #defina o número de ensaios\n",
        "x = 0 #defina o número de sucesso\n",
        "p = 0.3 #defina o valor da probabilidade de um sucesso no ensaio\n",
        "f0 = (math.factorial(n)/(math.factorial(x)*math.factorial(n-x)))*p**x*(1-p)**(n-x) #f que é f(x) = a probabilidade de x sucessos em n ensaios\n",
        "f0"
      ],
      "execution_count": 90,
      "outputs": [
        {
          "output_type": "execute_result",
          "data": {
            "text/plain": [
              "0.3429999999999999"
            ]
          },
          "metadata": {
            "tags": []
          },
          "execution_count": 90
        }
      ]
    },
    {
      "cell_type": "markdown",
      "metadata": {
        "id": "F9prZ2EDv1Pz",
        "colab_type": "text"
      },
      "source": [
        "Resposta: O valor de f(0) é 34,3%. Isso significa que se eu selecionar 3 destes 10 bancos, essa é a probabilidade de que nenhum deles tenha aumentado os empréstimos."
      ]
    },
    {
      "cell_type": "markdown",
      "metadata": {
        "id": "dogWVsolwHUH",
        "colab_type": "text"
      },
      "source": [
        "**b. Calcule o valor de f(3). Qual é a sua interpretação desse valor?**"
      ]
    },
    {
      "cell_type": "code",
      "metadata": {
        "id": "BiAb8TA-vQE3",
        "colab_type": "code",
        "colab": {
          "base_uri": "https://localhost:8080/",
          "height": 34
        },
        "outputId": "926197cd-4ad5-4da1-aed4-5ba4ea38ca50"
      },
      "source": [
        "n = 3 #defina o número de ensaios\n",
        "x = 3 #defina o número de sucesso\n",
        "p = 0.3 #defina o valor da probabilidade de um sucesso no ensaio\n",
        "f3 = (math.factorial(n)/(math.factorial(x)*math.factorial(n-x)))*p**x*(1-p)**(n-x) #f que é f(x) = a probabilidade de x sucessos em n ensaios\n",
        "f3"
      ],
      "execution_count": 91,
      "outputs": [
        {
          "output_type": "execute_result",
          "data": {
            "text/plain": [
              "0.026999999999999996"
            ]
          },
          "metadata": {
            "tags": []
          },
          "execution_count": 91
        }
      ]
    },
    {
      "cell_type": "markdown",
      "metadata": {
        "id": "OHiDZk50wYkY",
        "colab_type": "text"
      },
      "source": [
        "Resposta: O valor de f(3) é 2,7%. Isso significa que se eu selecionar 3 destes 10 bancos, essa é a probabilidade de que os todos tenham aumentado os empréstimos."
      ]
    },
    {
      "cell_type": "markdown",
      "metadata": {
        "id": "uiWOqKmqwryd",
        "colab_type": "text"
      },
      "source": [
        "**c. Calcule f(1) e f(2). Mostre a distribuição de probabilidade para o número de bancos, no estudo, que aumentaram seus empréstimos. Que valor de x tem a maior probabilidade?**"
      ]
    },
    {
      "cell_type": "code",
      "metadata": {
        "id": "8e5wa-aUwQON",
        "colab_type": "code",
        "colab": {
          "base_uri": "https://localhost:8080/",
          "height": 34
        },
        "outputId": "b205505d-b4bd-47ee-8a24-73f8e907f28d"
      },
      "source": [
        "n = 3 #defina o número de ensaios\n",
        "x = 1 #defina o número de sucesso\n",
        "p = 0.3 #defina o valor da probabilidade de um sucesso no ensaio\n",
        "f1 = (math.factorial(n)/(math.factorial(x)*math.factorial(n-x)))*p**x*(1-p)**(n-x) #f que é f(x) = a probabilidade de x sucessos em n ensaios\n",
        "f1"
      ],
      "execution_count": 92,
      "outputs": [
        {
          "output_type": "execute_result",
          "data": {
            "text/plain": [
              "0.4409999999999999"
            ]
          },
          "metadata": {
            "tags": []
          },
          "execution_count": 92
        }
      ]
    },
    {
      "cell_type": "code",
      "metadata": {
        "id": "N2DsT9HXxAcm",
        "colab_type": "code",
        "colab": {
          "base_uri": "https://localhost:8080/",
          "height": 34
        },
        "outputId": "d2030e98-2cf1-4607-a5e4-db30277086fd"
      },
      "source": [
        "n = 3 #defina o número de ensaios\n",
        "x = 2 #defina o número de sucesso\n",
        "p = 0.3 #defina o valor da probabilidade de um sucesso no ensaio\n",
        "f2 = (math.factorial(n)/(math.factorial(x)*math.factorial(n-x)))*p**x*(1-p)**(n-x) #f que é f(x) = a probabilidade de x sucessos em n ensaios\n",
        "f2"
      ],
      "execution_count": 93,
      "outputs": [
        {
          "output_type": "execute_result",
          "data": {
            "text/plain": [
              "0.189"
            ]
          },
          "metadata": {
            "tags": []
          },
          "execution_count": 93
        }
      ]
    },
    {
      "cell_type": "code",
      "metadata": {
        "id": "DGVhbS9uxDdy",
        "colab_type": "code",
        "colab": {
          "base_uri": "https://localhost:8080/",
          "height": 173
        },
        "outputId": "9ac5f847-e124-4f50-c225-0f6357cc4dab"
      },
      "source": [
        "dados = {\"qtd\": [0,1,2,3],\n",
        "         \"prob\": [f0,f1,f2,f3]}\n",
        "df = pd.DataFrame(dados)\n",
        "df"
      ],
      "execution_count": 95,
      "outputs": [
        {
          "output_type": "execute_result",
          "data": {
            "text/html": [
              "<div>\n",
              "<style scoped>\n",
              "    .dataframe tbody tr th:only-of-type {\n",
              "        vertical-align: middle;\n",
              "    }\n",
              "\n",
              "    .dataframe tbody tr th {\n",
              "        vertical-align: top;\n",
              "    }\n",
              "\n",
              "    .dataframe thead th {\n",
              "        text-align: right;\n",
              "    }\n",
              "</style>\n",
              "<table border=\"1\" class=\"dataframe\">\n",
              "  <thead>\n",
              "    <tr style=\"text-align: right;\">\n",
              "      <th></th>\n",
              "      <th>qtd</th>\n",
              "      <th>prob</th>\n",
              "    </tr>\n",
              "  </thead>\n",
              "  <tbody>\n",
              "    <tr>\n",
              "      <th>0</th>\n",
              "      <td>0</td>\n",
              "      <td>0.343</td>\n",
              "    </tr>\n",
              "    <tr>\n",
              "      <th>1</th>\n",
              "      <td>1</td>\n",
              "      <td>0.441</td>\n",
              "    </tr>\n",
              "    <tr>\n",
              "      <th>2</th>\n",
              "      <td>2</td>\n",
              "      <td>0.189</td>\n",
              "    </tr>\n",
              "    <tr>\n",
              "      <th>3</th>\n",
              "      <td>3</td>\n",
              "      <td>0.027</td>\n",
              "    </tr>\n",
              "  </tbody>\n",
              "</table>\n",
              "</div>"
            ],
            "text/plain": [
              "   qtd   prob\n",
              "0    0  0.343\n",
              "1    1  0.441\n",
              "2    2  0.189\n",
              "3    3  0.027"
            ]
          },
          "metadata": {
            "tags": []
          },
          "execution_count": 95
        }
      ]
    },
    {
      "cell_type": "code",
      "metadata": {
        "id": "_KeuvlSZx5H_",
        "colab_type": "code",
        "colab": {}
      },
      "source": [
        "y_axis = df['prob']\n",
        "x_axis = df['qtd']"
      ],
      "execution_count": 0,
      "outputs": []
    },
    {
      "cell_type": "code",
      "metadata": {
        "id": "DZxpb2A2yHn7",
        "colab_type": "code",
        "colab": {
          "base_uri": "https://localhost:8080/",
          "height": 265
        },
        "outputId": "e0bb54c4-d93a-42cf-904b-9ee5465c01cb"
      },
      "source": [
        "plt.bar(x_axis, y_axis)\n",
        "plt.show()"
      ],
      "execution_count": 97,
      "outputs": [
        {
          "output_type": "display_data",
          "data": {
            "image/png": "[encoded data removed]",
            "text/plain": [
              "<Figure size 432x288 with 1 Axes>"
            ]
          },
          "metadata": {
            "tags": []
          }
        }
      ]
    },
    {
      "cell_type": "markdown",
      "metadata": {
        "id": "ADBPkdawyO5v",
        "colab_type": "text"
      },
      "source": [
        "Resposta: x igual a 1 é o que tem mais probabilidade."
      ]
    },
    {
      "cell_type": "markdown",
      "metadata": {
        "id": "1Nj5JWHNybJI",
        "colab_type": "text"
      },
      "source": [
        "**d. Qual é a probabilidade de que o estudo tenha, pelo menos, um banco que aumentou seus empréstimos?**"
      ]
    },
    {
      "cell_type": "markdown",
      "metadata": {
        "id": "bZHwW8PEyxH2",
        "colab_type": "text"
      },
      "source": [
        "Resposta: a probabilidade f(1) + f(2) + f(3), oou seja, 44 + 18,9 + 2,7 = 65,6%."
      ]
    },
    {
      "cell_type": "markdown",
      "metadata": {
        "id": "86-fUY4QzqcC",
        "colab_type": "text"
      },
      "source": [
        "**e. Calcule o valor esperado, a variância e o desvio padrão para a variável aleatória.**"
      ]
    },
    {
      "cell_type": "code",
      "metadata": {
        "id": "A69aJyy9zjjt",
        "colab_type": "code",
        "colab": {}
      },
      "source": [
        ""
      ],
      "execution_count": 0,
      "outputs": []
    }
  ]
}