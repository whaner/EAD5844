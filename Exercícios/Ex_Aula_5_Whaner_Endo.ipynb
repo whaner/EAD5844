{
  "nbformat": 4,
  "nbformat_minor": 0,
  "metadata": {
    "colab": {
      "name": "Ex Aula 5 - Whaner Endo.ipynb",
      "provenance": [],
      "toc_visible": true,
      "authorship_tag": "ABX9TyMcbTEhiUjVYb6PXO8b8exJ",
      "include_colab_link": true
    },
    "kernelspec": {
      "name": "python3",
      "display_name": "Python 3"
    }
  },
  "cells": [
    {
      "cell_type": "markdown",
      "metadata": {
        "id": "view-in-github",
        "colab_type": "text"
      },
      "source": [
        "<a href=\"https://colab.research.google.com/github/whaner/EAD5844/blob/master/Exerc%C3%ADcios/Ex_Aula_5_Whaner_Endo.ipynb\" target=\"_parent\"><img src=\"https://colab.research.google.com/assets/colab-badge.svg\" alt=\"Open In Colab\"/></a>"
      ]
    },
    {
      "cell_type": "code",
      "metadata": {
        "id": "7dCFE9VZjH69",
        "colab_type": "code",
        "colab": {}
      },
      "source": [
        "import pandas as pd\n",
        "import numpy as np\n",
        "import matplotlib.pyplot as plt"
      ],
      "execution_count": 0,
      "outputs": []
    },
    {
      "cell_type": "markdown",
      "metadata": {
        "id": "c0RTh5oWikju",
        "colab_type": "text"
      },
      "source": [
        "## **Exercício 9**"
      ]
    },
    {
      "cell_type": "markdown",
      "metadata": {
        "id": "2G2oAP49i_gy",
        "colab_type": "text"
      },
      "source": [
        "Para as pessoas desempregadas nos Estados Unidos, a média dos meses de desemprego no final de dezembro de 2009 era de aproximadamente sete meses (Bureau of Labor Statistics, janeiro de 2010). Suponha que os dados a seguir se referem a uma região específica no in­terior do Estado de Nova York. Os valores na primeira coluna mostram o número de meses em desemprego e os valores na segunda coluna representam o número correspondente de pessoas desempregadas."
      ]
    },
    {
      "cell_type": "code",
      "metadata": {
        "id": "0TXM7D2vjWpy",
        "colab_type": "code",
        "colab": {}
      },
      "source": [
        "tabela = {\"Meses\": [1, 2, 3, 4, 5, 6, 7, 8, 9, 10],\n",
        "          \"Empregados\": [1029, 1686, 2269, 2675, 3487, 4652, 4145, 3587, 2325, 1120]}"
      ],
      "execution_count": 0,
      "outputs": []
    },
    {
      "cell_type": "code",
      "metadata": {
        "id": "5SphmDycj8QL",
        "colab_type": "code",
        "colab": {
          "base_uri": "https://localhost:8080/",
          "height": 359
        },
        "outputId": "8f93d3f8-6b7d-4ffc-a649-3ec8259f75e0"
      },
      "source": [
        "df = pd.DataFrame(tabela)\n",
        "df"
      ],
      "execution_count": 29,
      "outputs": [
        {
          "output_type": "execute_result",
          "data": {
            "text/html": [
              "<div>\n",
              "<style scoped>\n",
              "    .dataframe tbody tr th:only-of-type {\n",
              "        vertical-align: middle;\n",
              "    }\n",
              "\n",
              "    .dataframe tbody tr th {\n",
              "        vertical-align: top;\n",
              "    }\n",
              "\n",
              "    .dataframe thead th {\n",
              "        text-align: right;\n",
              "    }\n",
              "</style>\n",
              "<table border=\"1\" class=\"dataframe\">\n",
              "  <thead>\n",
              "    <tr style=\"text-align: right;\">\n",
              "      <th></th>\n",
              "      <th>Meses</th>\n",
              "      <th>Empregados</th>\n",
              "    </tr>\n",
              "  </thead>\n",
              "  <tbody>\n",
              "    <tr>\n",
              "      <th>0</th>\n",
              "      <td>1</td>\n",
              "      <td>1029</td>\n",
              "    </tr>\n",
              "    <tr>\n",
              "      <th>1</th>\n",
              "      <td>2</td>\n",
              "      <td>1686</td>\n",
              "    </tr>\n",
              "    <tr>\n",
              "      <th>2</th>\n",
              "      <td>3</td>\n",
              "      <td>2269</td>\n",
              "    </tr>\n",
              "    <tr>\n",
              "      <th>3</th>\n",
              "      <td>4</td>\n",
              "      <td>2675</td>\n",
              "    </tr>\n",
              "    <tr>\n",
              "      <th>4</th>\n",
              "      <td>5</td>\n",
              "      <td>3487</td>\n",
              "    </tr>\n",
              "    <tr>\n",
              "      <th>5</th>\n",
              "      <td>6</td>\n",
              "      <td>4652</td>\n",
              "    </tr>\n",
              "    <tr>\n",
              "      <th>6</th>\n",
              "      <td>7</td>\n",
              "      <td>4145</td>\n",
              "    </tr>\n",
              "    <tr>\n",
              "      <th>7</th>\n",
              "      <td>8</td>\n",
              "      <td>3587</td>\n",
              "    </tr>\n",
              "    <tr>\n",
              "      <th>8</th>\n",
              "      <td>9</td>\n",
              "      <td>2325</td>\n",
              "    </tr>\n",
              "    <tr>\n",
              "      <th>9</th>\n",
              "      <td>10</td>\n",
              "      <td>1120</td>\n",
              "    </tr>\n",
              "  </tbody>\n",
              "</table>\n",
              "</div>"
            ],
            "text/plain": [
              "   Meses  Empregados\n",
              "0      1        1029\n",
              "1      2        1686\n",
              "2      3        2269\n",
              "3      4        2675\n",
              "4      5        3487\n",
              "5      6        4652\n",
              "6      7        4145\n",
              "7      8        3587\n",
              "8      9        2325\n",
              "9     10        1120"
            ]
          },
          "metadata": {
            "tags": []
          },
          "execution_count": 29
        }
      ]
    },
    {
      "cell_type": "markdown",
      "metadata": {
        "id": "NtHkBJvpkbHh",
        "colab_type": "text"
      },
      "source": [
        "Digamos que x seja uma variável aleatória indicando o número de meses que uma pessoa está desempregada."
      ]
    },
    {
      "cell_type": "markdown",
      "metadata": {
        "id": "3g388YhypgHJ",
        "colab_type": "text"
      },
      "source": [
        "**a.\tUse os dados para desenvolver uma distribuição de probabilidade para x.**"
      ]
    },
    {
      "cell_type": "code",
      "metadata": {
        "id": "l21-tutYkF1t",
        "colab_type": "code",
        "colab": {
          "base_uri": "https://localhost:8080/",
          "height": 68
        },
        "outputId": "7a659920-9f1b-419a-d445-3b393cbaaf64"
      },
      "source": [
        "total = df.sum() #calcula o total de empregados\n",
        "total"
      ],
      "execution_count": 30,
      "outputs": [
        {
          "output_type": "execute_result",
          "data": {
            "text/plain": [
              "Meses            55\n",
              "Empregados    26975\n",
              "dtype: int64"
            ]
          },
          "metadata": {
            "tags": []
          },
          "execution_count": 30
        }
      ]
    },
    {
      "cell_type": "code",
      "metadata": {
        "id": "1HP8wMtjkyEh",
        "colab_type": "code",
        "colab": {}
      },
      "source": [
        "df['probabilidade'] = df['Empregados']/26975 #cria a coluna probabilidade para cada mês"
      ],
      "execution_count": 0,
      "outputs": []
    },
    {
      "cell_type": "code",
      "metadata": {
        "id": "0MStbmg7qjpD",
        "colab_type": "code",
        "colab": {
          "base_uri": "https://localhost:8080/",
          "height": 359
        },
        "outputId": "8cb9d541-2999-4c3b-aae9-36d9df952597"
      },
      "source": [
        "df"
      ],
      "execution_count": 54,
      "outputs": [
        {
          "output_type": "execute_result",
          "data": {
            "text/html": [
              "<div>\n",
              "<style scoped>\n",
              "    .dataframe tbody tr th:only-of-type {\n",
              "        vertical-align: middle;\n",
              "    }\n",
              "\n",
              "    .dataframe tbody tr th {\n",
              "        vertical-align: top;\n",
              "    }\n",
              "\n",
              "    .dataframe thead th {\n",
              "        text-align: right;\n",
              "    }\n",
              "</style>\n",
              "<table border=\"1\" class=\"dataframe\">\n",
              "  <thead>\n",
              "    <tr style=\"text-align: right;\">\n",
              "      <th></th>\n",
              "      <th>Meses</th>\n",
              "      <th>Empregados</th>\n",
              "      <th>probabilidade</th>\n",
              "    </tr>\n",
              "  </thead>\n",
              "  <tbody>\n",
              "    <tr>\n",
              "      <th>0</th>\n",
              "      <td>1</td>\n",
              "      <td>1029</td>\n",
              "      <td>0.038146</td>\n",
              "    </tr>\n",
              "    <tr>\n",
              "      <th>1</th>\n",
              "      <td>2</td>\n",
              "      <td>1686</td>\n",
              "      <td>0.062502</td>\n",
              "    </tr>\n",
              "    <tr>\n",
              "      <th>2</th>\n",
              "      <td>3</td>\n",
              "      <td>2269</td>\n",
              "      <td>0.084115</td>\n",
              "    </tr>\n",
              "    <tr>\n",
              "      <th>3</th>\n",
              "      <td>4</td>\n",
              "      <td>2675</td>\n",
              "      <td>0.099166</td>\n",
              "    </tr>\n",
              "    <tr>\n",
              "      <th>4</th>\n",
              "      <td>5</td>\n",
              "      <td>3487</td>\n",
              "      <td>0.129268</td>\n",
              "    </tr>\n",
              "    <tr>\n",
              "      <th>5</th>\n",
              "      <td>6</td>\n",
              "      <td>4652</td>\n",
              "      <td>0.172456</td>\n",
              "    </tr>\n",
              "    <tr>\n",
              "      <th>6</th>\n",
              "      <td>7</td>\n",
              "      <td>4145</td>\n",
              "      <td>0.153661</td>\n",
              "    </tr>\n",
              "    <tr>\n",
              "      <th>7</th>\n",
              "      <td>8</td>\n",
              "      <td>3587</td>\n",
              "      <td>0.132975</td>\n",
              "    </tr>\n",
              "    <tr>\n",
              "      <th>8</th>\n",
              "      <td>9</td>\n",
              "      <td>2325</td>\n",
              "      <td>0.086191</td>\n",
              "    </tr>\n",
              "    <tr>\n",
              "      <th>9</th>\n",
              "      <td>10</td>\n",
              "      <td>1120</td>\n",
              "      <td>0.041520</td>\n",
              "    </tr>\n",
              "  </tbody>\n",
              "</table>\n",
              "</div>"
            ],
            "text/plain": [
              "   Meses  Empregados  probabilidade\n",
              "0      1        1029       0.038146\n",
              "1      2        1686       0.062502\n",
              "2      3        2269       0.084115\n",
              "3      4        2675       0.099166\n",
              "4      5        3487       0.129268\n",
              "5      6        4652       0.172456\n",
              "6      7        4145       0.153661\n",
              "7      8        3587       0.132975\n",
              "8      9        2325       0.086191\n",
              "9     10        1120       0.041520"
            ]
          },
          "metadata": {
            "tags": []
          },
          "execution_count": 54
        }
      ]
    },
    {
      "cell_type": "code",
      "metadata": {
        "id": "Ugzqo09grsD7",
        "colab_type": "code",
        "colab": {
          "base_uri": "https://localhost:8080/",
          "height": 85
        },
        "outputId": "4ae9d9a2-56f5-48f9-cb8a-c35b4a0d2a51"
      },
      "source": [
        "df.sum() #confere se a somatória da coluna probabilidade é igual a 1.0, para validar uma das condições da distribuição discreta da probabilidade"
      ],
      "execution_count": 55,
      "outputs": [
        {
          "output_type": "execute_result",
          "data": {
            "text/plain": [
              "Meses               55.0\n",
              "Empregados       26975.0\n",
              "probabilidade        1.0\n",
              "dtype: float64"
            ]
          },
          "metadata": {
            "tags": []
          },
          "execution_count": 55
        }
      ]
    },
    {
      "cell_type": "code",
      "metadata": {
        "id": "4S62-zWrso8C",
        "colab_type": "code",
        "colab": {}
      },
      "source": [
        "y_axis = df['probabilidade']\n",
        "x_axis = df['Meses']"
      ],
      "execution_count": 0,
      "outputs": []
    },
    {
      "cell_type": "code",
      "metadata": {
        "id": "PC1TXPpbtECR",
        "colab_type": "code",
        "colab": {
          "base_uri": "https://localhost:8080/",
          "height": 265
        },
        "outputId": "a434304e-b47a-4b83-e1c4-52780b0bf660"
      },
      "source": [
        "plt.bar(x_axis, y_axis)\n",
        "plt.show()"
      ],
      "execution_count": 52,
      "outputs": [
        {
          "output_type": "display_data",
          "data": {
            "image/png": "[encoded data removed]",
            "text/plain": [
              "<Figure size 432x288 with 1 Axes>"
            ]
          },
          "metadata": {
            "tags": []
          }
        }
      ]
    },
    {
      "cell_type": "markdown",
      "metadata": {
        "id": "T93dsI1NvFXi",
        "colab_type": "text"
      },
      "source": [
        "**b. Mostre que sua distribuição de probabilidade satisfaz as condições para uma distribuição discreta de probabilidade válida.**"
      ]
    },
    {
      "cell_type": "markdown",
      "metadata": {
        "id": "aaWYzwgOvtn1",
        "colab_type": "text"
      },
      "source": [
        "Considerando f(x) = m/e, onde m = No. de meses e e = total de empregados, verificamos que a função é válida, já que f(x) é maior ou igual a 0 e a somatória é igual a um (vide confirmação acima), portanto, a distribuição é discreta e a probabilidade válida."
      ]
    },
    {
      "cell_type": "markdown",
      "metadata": {
        "id": "uULJ5xdXw9fS",
        "colab_type": "text"
      },
      "source": [
        "**c.\tQual é a probabilidade de que uma pessoa esteja desempregada por dois meses ou menos? E desempregada por mais de dois meses?**"
      ]
    },
    {
      "cell_type": "code",
      "metadata": {
        "id": "gTGwZ6vb02Dj",
        "colab_type": "code",
        "colab": {
          "base_uri": "https://localhost:8080/",
          "height": 34
        },
        "outputId": "f476313f-4553-40d8-fcf9-cb5a9692d141"
      },
      "source": [
        "df['probabilidade'].iloc[0:2].sum() #soma apenas algumas linhas - até a de índice 2 (exclusive)"
      ],
      "execution_count": 64,
      "outputs": [
        {
          "output_type": "execute_result",
          "data": {
            "text/plain": [
              "0.10064874884151992"
            ]
          },
          "metadata": {
            "tags": []
          },
          "execution_count": 64
        }
      ]
    },
    {
      "cell_type": "markdown",
      "metadata": {
        "id": "fyKPhWChzdiN",
        "colab_type": "text"
      },
      "source": [
        "Para verificar a probabilidade da pessoa estar desempregada por 2 meses ou menos basta somar as probabiblidade existentes na tabela acima, para 1 e 2 meses, ou seja, 0.100648 ou 10,1%. <p>\n",
        "Para saber a probabilidade de estar desempregada por mais de 2 meses, basta subtrair de 1 o 10,1% já que a distribuição é discreta e válida, portanto a resposta é 89,9%."
      ]
    },
    {
      "cell_type": "markdown",
      "metadata": {
        "id": "MdJr4Iaz0UVo",
        "colab_type": "text"
      },
      "source": [
        "**d. Qual é a probabilidade de que uma pessoa esteja desempregada por mais de seis meses?**"
      ]
    },
    {
      "cell_type": "code",
      "metadata": {
        "id": "4VgraErd1Ijn",
        "colab_type": "code",
        "colab": {
          "base_uri": "https://localhost:8080/",
          "height": 34
        },
        "outputId": "62016624-3177-402f-c0c9-8bd796728454"
      },
      "source": [
        "df['probabilidade'].iloc[6:].sum() #soma todas as linhas a partir da de índice 6, ou seja, o mês sete."
      ],
      "execution_count": 65,
      "outputs": [
        {
          "output_type": "execute_result",
          "data": {
            "text/plain": [
              "0.4143466172381835"
            ]
          },
          "metadata": {
            "tags": []
          },
          "execution_count": 65
        }
      ]
    },
    {
      "cell_type": "markdown",
      "metadata": {
        "id": "DOUh0fMF0Xg1",
        "colab_type": "text"
      },
      "source": [
        "Resposta: Como explicado na pergunta anterior, basta somar os meses 7, 8, 9 e 10. Portanto, igual a 41,4%"
      ]
    },
    {
      "cell_type": "markdown",
      "metadata": {
        "id": "CgHFXroQ2PVd",
        "colab_type": "text"
      },
      "source": [
        "## **Exercício 12**"
      ]
    },
    {
      "cell_type": "code",
      "metadata": {
        "id": "N2bgH34vtYJO",
        "colab_type": "code",
        "colab": {}
      },
      "source": [
        ""
      ],
      "execution_count": 0,
      "outputs": []
    }
  ]
}