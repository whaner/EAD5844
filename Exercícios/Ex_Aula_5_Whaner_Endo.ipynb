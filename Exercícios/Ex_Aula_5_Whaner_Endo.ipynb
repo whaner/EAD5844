{
  "nbformat": 4,
  "nbformat_minor": 0,
  "metadata": {
    "colab": {
      "name": "Ex Aula 5 - Whaner Endo.ipynb",
      "provenance": [],
      "collapsed_sections": [],
      "toc_visible": true,
      "authorship_tag": "ABX9TyMC+eErty1k0Ok1bw9KKs20",
      "include_colab_link": true
    },
    "kernelspec": {
      "name": "python3",
      "display_name": "Python 3"
    }
  },
  "cells": [
    {
      "cell_type": "markdown",
      "metadata": {
        "id": "view-in-github",
        "colab_type": "text"
      },
      "source": [
        "<a href=\"https://colab.research.google.com/github/whaner/EAD5844/blob/master/Exerc%C3%ADcios/Ex_Aula_5_Whaner_Endo.ipynb\" target=\"_parent\"><img src=\"https://colab.research.google.com/assets/colab-badge.svg\" alt=\"Open In Colab\"/></a>"
      ]
    },
    {
      "cell_type": "code",
      "metadata": {
        "id": "7dCFE9VZjH69",
        "colab_type": "code",
        "colab": {}
      },
      "source": [
        "import pandas as pd\n",
        "import numpy as np\n",
        "import matplotlib.pyplot as plt"
      ],
      "execution_count": 0,
      "outputs": []
    },
    {
      "cell_type": "markdown",
      "metadata": {
        "id": "c0RTh5oWikju",
        "colab_type": "text"
      },
      "source": [
        "## **Exercício 9**"
      ]
    },
    {
      "cell_type": "markdown",
      "metadata": {
        "id": "2G2oAP49i_gy",
        "colab_type": "text"
      },
      "source": [
        "Para as pessoas desempregadas nos Estados Unidos, a média dos meses de desemprego no final de dezembro de 2009 era de aproximadamente sete meses (Bureau of Labor Statistics, janeiro de 2010). Suponha que os dados a seguir se referem a uma região específica no in­terior do Estado de Nova York. Os valores na primeira coluna mostram o número de meses em desemprego e os valores na segunda coluna representam o número correspondente de pessoas desempregadas."
      ]
    },
    {
      "cell_type": "code",
      "metadata": {
        "id": "0TXM7D2vjWpy",
        "colab_type": "code",
        "colab": {}
      },
      "source": [
        "tabela = {\"Meses\": [1, 2, 3, 4, 5, 6, 7, 8, 9, 10],\n",
        "          \"Empregados\": [1029, 1686, 2269, 2675, 3487, 4652, 4145, 3587, 2325, 1120]}"
      ],
      "execution_count": 0,
      "outputs": []
    },
    {
      "cell_type": "code",
      "metadata": {
        "id": "5SphmDycj8QL",
        "colab_type": "code",
        "outputId": "748550ae-771b-4b7a-ee7a-0b2a30a80145",
        "colab": {
          "base_uri": "https://localhost:8080/",
          "height": 359
        }
      },
      "source": [
        "df = pd.DataFrame(tabela)\n",
        "df"
      ],
      "execution_count": 16,
      "outputs": [
        {
          "output_type": "execute_result",
          "data": {
            "text/html": [
              "<div>\n",
              "<style scoped>\n",
              "    .dataframe tbody tr th:only-of-type {\n",
              "        vertical-align: middle;\n",
              "    }\n",
              "\n",
              "    .dataframe tbody tr th {\n",
              "        vertical-align: top;\n",
              "    }\n",
              "\n",
              "    .dataframe thead th {\n",
              "        text-align: right;\n",
              "    }\n",
              "</style>\n",
              "<table border=\"1\" class=\"dataframe\">\n",
              "  <thead>\n",
              "    <tr style=\"text-align: right;\">\n",
              "      <th></th>\n",
              "      <th>Meses</th>\n",
              "      <th>Empregados</th>\n",
              "    </tr>\n",
              "  </thead>\n",
              "  <tbody>\n",
              "    <tr>\n",
              "      <th>0</th>\n",
              "      <td>1</td>\n",
              "      <td>1029</td>\n",
              "    </tr>\n",
              "    <tr>\n",
              "      <th>1</th>\n",
              "      <td>2</td>\n",
              "      <td>1686</td>\n",
              "    </tr>\n",
              "    <tr>\n",
              "      <th>2</th>\n",
              "      <td>3</td>\n",
              "      <td>2269</td>\n",
              "    </tr>\n",
              "    <tr>\n",
              "      <th>3</th>\n",
              "      <td>4</td>\n",
              "      <td>2675</td>\n",
              "    </tr>\n",
              "    <tr>\n",
              "      <th>4</th>\n",
              "      <td>5</td>\n",
              "      <td>3487</td>\n",
              "    </tr>\n",
              "    <tr>\n",
              "      <th>5</th>\n",
              "      <td>6</td>\n",
              "      <td>4652</td>\n",
              "    </tr>\n",
              "    <tr>\n",
              "      <th>6</th>\n",
              "      <td>7</td>\n",
              "      <td>4145</td>\n",
              "    </tr>\n",
              "    <tr>\n",
              "      <th>7</th>\n",
              "      <td>8</td>\n",
              "      <td>3587</td>\n",
              "    </tr>\n",
              "    <tr>\n",
              "      <th>8</th>\n",
              "      <td>9</td>\n",
              "      <td>2325</td>\n",
              "    </tr>\n",
              "    <tr>\n",
              "      <th>9</th>\n",
              "      <td>10</td>\n",
              "      <td>1120</td>\n",
              "    </tr>\n",
              "  </tbody>\n",
              "</table>\n",
              "</div>"
            ],
            "text/plain": [
              "   Meses  Empregados\n",
              "0      1        1029\n",
              "1      2        1686\n",
              "2      3        2269\n",
              "3      4        2675\n",
              "4      5        3487\n",
              "5      6        4652\n",
              "6      7        4145\n",
              "7      8        3587\n",
              "8      9        2325\n",
              "9     10        1120"
            ]
          },
          "metadata": {
            "tags": []
          },
          "execution_count": 16
        }
      ]
    },
    {
      "cell_type": "markdown",
      "metadata": {
        "id": "NtHkBJvpkbHh",
        "colab_type": "text"
      },
      "source": [
        "Digamos que x seja uma variável aleatória indicando o número de meses que uma pessoa está desempregada."
      ]
    },
    {
      "cell_type": "markdown",
      "metadata": {
        "id": "3g388YhypgHJ",
        "colab_type": "text"
      },
      "source": [
        "**a.\tUse os dados para desenvolver uma distribuição de probabilidade para x.**"
      ]
    },
    {
      "cell_type": "code",
      "metadata": {
        "id": "l21-tutYkF1t",
        "colab_type": "code",
        "outputId": "6b9df3c1-d4b1-4639-9c52-d81d7c09786d",
        "colab": {
          "base_uri": "https://localhost:8080/",
          "height": 68
        }
      },
      "source": [
        "total = df.sum() #calcula o total de empregados\n",
        "total"
      ],
      "execution_count": 17,
      "outputs": [
        {
          "output_type": "execute_result",
          "data": {
            "text/plain": [
              "Meses            55\n",
              "Empregados    26975\n",
              "dtype: int64"
            ]
          },
          "metadata": {
            "tags": []
          },
          "execution_count": 17
        }
      ]
    },
    {
      "cell_type": "code",
      "metadata": {
        "id": "1HP8wMtjkyEh",
        "colab_type": "code",
        "colab": {}
      },
      "source": [
        "df['probabilidade'] = df['Empregados']/26975 #cria a coluna probabilidade para cada mês"
      ],
      "execution_count": 0,
      "outputs": []
    },
    {
      "cell_type": "code",
      "metadata": {
        "id": "0MStbmg7qjpD",
        "colab_type": "code",
        "outputId": "24adb594-92de-4261-aaaa-d14fe90a1446",
        "colab": {
          "base_uri": "https://localhost:8080/",
          "height": 359
        }
      },
      "source": [
        "df"
      ],
      "execution_count": 19,
      "outputs": [
        {
          "output_type": "execute_result",
          "data": {
            "text/html": [
              "<div>\n",
              "<style scoped>\n",
              "    .dataframe tbody tr th:only-of-type {\n",
              "        vertical-align: middle;\n",
              "    }\n",
              "\n",
              "    .dataframe tbody tr th {\n",
              "        vertical-align: top;\n",
              "    }\n",
              "\n",
              "    .dataframe thead th {\n",
              "        text-align: right;\n",
              "    }\n",
              "</style>\n",
              "<table border=\"1\" class=\"dataframe\">\n",
              "  <thead>\n",
              "    <tr style=\"text-align: right;\">\n",
              "      <th></th>\n",
              "      <th>Meses</th>\n",
              "      <th>Empregados</th>\n",
              "      <th>probabilidade</th>\n",
              "    </tr>\n",
              "  </thead>\n",
              "  <tbody>\n",
              "    <tr>\n",
              "      <th>0</th>\n",
              "      <td>1</td>\n",
              "      <td>1029</td>\n",
              "      <td>0.038146</td>\n",
              "    </tr>\n",
              "    <tr>\n",
              "      <th>1</th>\n",
              "      <td>2</td>\n",
              "      <td>1686</td>\n",
              "      <td>0.062502</td>\n",
              "    </tr>\n",
              "    <tr>\n",
              "      <th>2</th>\n",
              "      <td>3</td>\n",
              "      <td>2269</td>\n",
              "      <td>0.084115</td>\n",
              "    </tr>\n",
              "    <tr>\n",
              "      <th>3</th>\n",
              "      <td>4</td>\n",
              "      <td>2675</td>\n",
              "      <td>0.099166</td>\n",
              "    </tr>\n",
              "    <tr>\n",
              "      <th>4</th>\n",
              "      <td>5</td>\n",
              "      <td>3487</td>\n",
              "      <td>0.129268</td>\n",
              "    </tr>\n",
              "    <tr>\n",
              "      <th>5</th>\n",
              "      <td>6</td>\n",
              "      <td>4652</td>\n",
              "      <td>0.172456</td>\n",
              "    </tr>\n",
              "    <tr>\n",
              "      <th>6</th>\n",
              "      <td>7</td>\n",
              "      <td>4145</td>\n",
              "      <td>0.153661</td>\n",
              "    </tr>\n",
              "    <tr>\n",
              "      <th>7</th>\n",
              "      <td>8</td>\n",
              "      <td>3587</td>\n",
              "      <td>0.132975</td>\n",
              "    </tr>\n",
              "    <tr>\n",
              "      <th>8</th>\n",
              "      <td>9</td>\n",
              "      <td>2325</td>\n",
              "      <td>0.086191</td>\n",
              "    </tr>\n",
              "    <tr>\n",
              "      <th>9</th>\n",
              "      <td>10</td>\n",
              "      <td>1120</td>\n",
              "      <td>0.041520</td>\n",
              "    </tr>\n",
              "  </tbody>\n",
              "</table>\n",
              "</div>"
            ],
            "text/plain": [
              "   Meses  Empregados  probabilidade\n",
              "0      1        1029       0.038146\n",
              "1      2        1686       0.062502\n",
              "2      3        2269       0.084115\n",
              "3      4        2675       0.099166\n",
              "4      5        3487       0.129268\n",
              "5      6        4652       0.172456\n",
              "6      7        4145       0.153661\n",
              "7      8        3587       0.132975\n",
              "8      9        2325       0.086191\n",
              "9     10        1120       0.041520"
            ]
          },
          "metadata": {
            "tags": []
          },
          "execution_count": 19
        }
      ]
    },
    {
      "cell_type": "code",
      "metadata": {
        "id": "Ugzqo09grsD7",
        "colab_type": "code",
        "outputId": "6bc68ee7-06ec-4ba5-8fd2-883fa493fbb5",
        "colab": {
          "base_uri": "https://localhost:8080/",
          "height": 85
        }
      },
      "source": [
        "df.sum() #confere se a somatória da coluna probabilidade é igual a 1.0, para validar uma das condições da distribuição discreta da probabilidade"
      ],
      "execution_count": 20,
      "outputs": [
        {
          "output_type": "execute_result",
          "data": {
            "text/plain": [
              "Meses               55.0\n",
              "Empregados       26975.0\n",
              "probabilidade        1.0\n",
              "dtype: float64"
            ]
          },
          "metadata": {
            "tags": []
          },
          "execution_count": 20
        }
      ]
    },
    {
      "cell_type": "code",
      "metadata": {
        "id": "4S62-zWrso8C",
        "colab_type": "code",
        "colab": {}
      },
      "source": [
        "y_axis = df['probabilidade']\n",
        "x_axis = df['Meses']"
      ],
      "execution_count": 0,
      "outputs": []
    },
    {
      "cell_type": "code",
      "metadata": {
        "id": "PC1TXPpbtECR",
        "colab_type": "code",
        "outputId": "520ed8c4-e291-42f7-ec75-28e4bbf8ebe5",
        "colab": {
          "base_uri": "https://localhost:8080/",
          "height": 265
        }
      },
      "source": [
        "plt.bar(x_axis, y_axis)\n",
        "plt.show()"
      ],
      "execution_count": 22,
      "outputs": [
        {
          "output_type": "display_data",
          "data": {
            "image/png": "[encoded data removed]",
            "text/plain": [
              "<Figure size 432x288 with 1 Axes>"
            ]
          },
          "metadata": {
            "tags": []
          }
        }
      ]
    },
    {
      "cell_type": "markdown",
      "metadata": {
        "id": "T93dsI1NvFXi",
        "colab_type": "text"
      },
      "source": [
        "**b. Mostre que sua distribuição de probabilidade satisfaz as condições para uma distribuição discreta de probabilidade válida.**"
      ]
    },
    {
      "cell_type": "markdown",
      "metadata": {
        "id": "aaWYzwgOvtn1",
        "colab_type": "text"
      },
      "source": [
        "Considerando f(x) = m/e, onde m = No. de meses e e = total de empregados, verificamos que a função é válida, já que f(x) é maior ou igual a 0 e a somatória é igual a um (vide confirmação acima), portanto, a distribuição é discreta e a probabilidade válida."
      ]
    },
    {
      "cell_type": "markdown",
      "metadata": {
        "id": "uULJ5xdXw9fS",
        "colab_type": "text"
      },
      "source": [
        "**c.\tQual é a probabilidade de que uma pessoa esteja desempregada por dois meses ou menos? E desempregada por mais de dois meses?**"
      ]
    },
    {
      "cell_type": "code",
      "metadata": {
        "id": "gTGwZ6vb02Dj",
        "colab_type": "code",
        "outputId": "497ed8ee-3fb7-4386-8c37-3cf550b0e312",
        "colab": {
          "base_uri": "https://localhost:8080/",
          "height": 34
        }
      },
      "source": [
        "df['probabilidade'].iloc[0:2].sum() #soma apenas algumas linhas - até a de índice 2 (exclusive)"
      ],
      "execution_count": 23,
      "outputs": [
        {
          "output_type": "execute_result",
          "data": {
            "text/plain": [
              "0.10064874884151992"
            ]
          },
          "metadata": {
            "tags": []
          },
          "execution_count": 23
        }
      ]
    },
    {
      "cell_type": "markdown",
      "metadata": {
        "id": "fyKPhWChzdiN",
        "colab_type": "text"
      },
      "source": [
        "Para verificar a probabilidade da pessoa estar desempregada por 2 meses ou menos basta somar as probabiblidade existentes na tabela acima, para 1 e 2 meses, ou seja, 0.100648 ou 10,1%. <p>\n",
        "Para saber a probabilidade de estar desempregada por mais de 2 meses, basta subtrair de 1 o 10,1% já que a distribuição é discreta e válida, portanto a resposta é 89,9%."
      ]
    },
    {
      "cell_type": "markdown",
      "metadata": {
        "id": "MdJr4Iaz0UVo",
        "colab_type": "text"
      },
      "source": [
        "**d. Qual é a probabilidade de que uma pessoa esteja desempregada por mais de seis meses?**"
      ]
    },
    {
      "cell_type": "code",
      "metadata": {
        "id": "4VgraErd1Ijn",
        "colab_type": "code",
        "outputId": "a5eee59d-7db7-4475-ad30-533513aa81b7",
        "colab": {
          "base_uri": "https://localhost:8080/",
          "height": 34
        }
      },
      "source": [
        "df['probabilidade'].iloc[6:].sum() #soma todas as linhas a partir da de índice 6, ou seja, o mês sete."
      ],
      "execution_count": 24,
      "outputs": [
        {
          "output_type": "execute_result",
          "data": {
            "text/plain": [
              "0.4143466172381835"
            ]
          },
          "metadata": {
            "tags": []
          },
          "execution_count": 24
        }
      ]
    },
    {
      "cell_type": "markdown",
      "metadata": {
        "id": "DOUh0fMF0Xg1",
        "colab_type": "text"
      },
      "source": [
        "Resposta: Como explicado na pergunta anterior, basta somar os meses 7, 8, 9 e 10. Portanto, igual a 41,4%"
      ]
    },
    {
      "cell_type": "markdown",
      "metadata": {
        "id": "CgHFXroQ2PVd",
        "colab_type": "text"
      },
      "source": [
        "## **Exercício 12**"
      ]
    },
    {
      "cell_type": "markdown",
      "metadata": {
        "id": "kLaggPc25lp5",
        "colab_type": "text"
      },
      "source": [
        "12.\tAs duas maiores fornecedoras de comunicações a cabo são Comcast Cable Communications, com 21,5 milhões de assinantes, e Time Warner Cable, com 11,0 milhões de assinantes (The New York Times Almanac, 2007). Suponha que a administração da Time Warner Cable avalie subjetivamente uma distribuição de probabilidade para o número de novos assinantes no pró­ ximo ano, no Estado de Nova York, como se segue."
      ]
    },
    {
      "cell_type": "code",
      "metadata": {
        "id": "3ziBqj0M6C_H",
        "colab_type": "code",
        "colab": {}
      },
      "source": [
        "dadosex12 = {\"x\": [100000,200000,300000,400000,500000,600000],\n",
        "             \"f(x)\": [0.10,0.20,0.25,0.30,0.10,0.05]}"
      ],
      "execution_count": 0,
      "outputs": []
    },
    {
      "cell_type": "code",
      "metadata": {
        "id": "zZQ1-hFp6eAR",
        "colab_type": "code",
        "colab": {}
      },
      "source": [
        "df12 = pd.DataFrame(dadosex12)"
      ],
      "execution_count": 0,
      "outputs": []
    },
    {
      "cell_type": "code",
      "metadata": {
        "id": "C_P447K_6uLu",
        "colab_type": "code",
        "colab": {
          "base_uri": "https://localhost:8080/",
          "height": 235
        },
        "outputId": "9c003cd3-a1be-4cf9-cfe5-6bd953126489"
      },
      "source": [
        "df12"
      ],
      "execution_count": 47,
      "outputs": [
        {
          "output_type": "execute_result",
          "data": {
            "text/html": [
              "<div>\n",
              "<style scoped>\n",
              "    .dataframe tbody tr th:only-of-type {\n",
              "        vertical-align: middle;\n",
              "    }\n",
              "\n",
              "    .dataframe tbody tr th {\n",
              "        vertical-align: top;\n",
              "    }\n",
              "\n",
              "    .dataframe thead th {\n",
              "        text-align: right;\n",
              "    }\n",
              "</style>\n",
              "<table border=\"1\" class=\"dataframe\">\n",
              "  <thead>\n",
              "    <tr style=\"text-align: right;\">\n",
              "      <th></th>\n",
              "      <th>x</th>\n",
              "      <th>f(x)</th>\n",
              "    </tr>\n",
              "  </thead>\n",
              "  <tbody>\n",
              "    <tr>\n",
              "      <th>0</th>\n",
              "      <td>100000</td>\n",
              "      <td>0.10</td>\n",
              "    </tr>\n",
              "    <tr>\n",
              "      <th>1</th>\n",
              "      <td>200000</td>\n",
              "      <td>0.20</td>\n",
              "    </tr>\n",
              "    <tr>\n",
              "      <th>2</th>\n",
              "      <td>300000</td>\n",
              "      <td>0.25</td>\n",
              "    </tr>\n",
              "    <tr>\n",
              "      <th>3</th>\n",
              "      <td>400000</td>\n",
              "      <td>0.30</td>\n",
              "    </tr>\n",
              "    <tr>\n",
              "      <th>4</th>\n",
              "      <td>500000</td>\n",
              "      <td>0.10</td>\n",
              "    </tr>\n",
              "    <tr>\n",
              "      <th>5</th>\n",
              "      <td>600000</td>\n",
              "      <td>0.05</td>\n",
              "    </tr>\n",
              "  </tbody>\n",
              "</table>\n",
              "</div>"
            ],
            "text/plain": [
              "        x  f(x)\n",
              "0  100000  0.10\n",
              "1  200000  0.20\n",
              "2  300000  0.25\n",
              "3  400000  0.30\n",
              "4  500000  0.10\n",
              "5  600000  0.05"
            ]
          },
          "metadata": {
            "tags": []
          },
          "execution_count": 47
        }
      ]
    },
    {
      "cell_type": "markdown",
      "metadata": {
        "id": "QyIq-SEW7Mde",
        "colab_type": "text"
      },
      "source": [
        "**a.\tEsta é uma distribuição de probabilidade válida? Explique.**"
      ]
    },
    {
      "cell_type": "markdown",
      "metadata": {
        "id": "3RzE0yKL7QYm",
        "colab_type": "text"
      },
      "source": [
        "Resposta: Sim, pois a f(x) é maior que zero e a somatória é igual a 1."
      ]
    },
    {
      "cell_type": "markdown",
      "metadata": {
        "id": "4Nykhioh7sG7",
        "colab_type": "text"
      },
      "source": [
        "**b.\tQual é a probabilidade de que a Time Wamer venha a obter mais de 400.000 novos assinantes?**"
      ]
    },
    {
      "cell_type": "code",
      "metadata": {
        "id": "uWXS4e5Q6z-6",
        "colab_type": "code",
        "colab": {
          "base_uri": "https://localhost:8080/",
          "height": 34
        },
        "outputId": "c3f54734-0ea0-40d0-e9f4-92a35179f079"
      },
      "source": [
        "df12['f(x)'].iloc[4:].sum()"
      ],
      "execution_count": 49,
      "outputs": [
        {
          "output_type": "execute_result",
          "data": {
            "text/plain": [
              "0.15000000000000002"
            ]
          },
          "metadata": {
            "tags": []
          },
          "execution_count": 49
        }
      ]
    },
    {
      "cell_type": "markdown",
      "metadata": {
        "id": "96CcWKMI78GE",
        "colab_type": "text"
      },
      "source": [
        "Resposta: A probabilidade da Time Warner obter **mais de** 400K novos assinantes é de 15%."
      ]
    },
    {
      "cell_type": "markdown",
      "metadata": {
        "id": "LOnVA0Ir8TDL",
        "colab_type": "text"
      },
      "source": [
        "**c.\tQual é a probabilidade de que a Time Wamer venha a obter mais de 200.000 novos assinantes?**"
      ]
    },
    {
      "cell_type": "code",
      "metadata": {
        "id": "6wo-KY0V76if",
        "colab_type": "code",
        "colab": {
          "base_uri": "https://localhost:8080/",
          "height": 34
        },
        "outputId": "01086c59-83c9-40f3-d54a-c6dd88d47540"
      },
      "source": [
        "df12['f(x)'].iloc[2:].sum()"
      ],
      "execution_count": 50,
      "outputs": [
        {
          "output_type": "execute_result",
          "data": {
            "text/plain": [
              "0.7000000000000001"
            ]
          },
          "metadata": {
            "tags": []
          },
          "execution_count": 50
        }
      ]
    },
    {
      "cell_type": "markdown",
      "metadata": {
        "id": "0ou-262j8euK",
        "colab_type": "text"
      },
      "source": [
        "Resposta: A probabilidade da Time Warner obter **mais de** 200K novos assinantes é de 70%."
      ]
    },
    {
      "cell_type": "markdown",
      "metadata": {
        "id": "e0SRTO-79Trl",
        "colab_type": "text"
      },
      "source": [
        "## **Exercício 14**"
      ]
    },
    {
      "cell_type": "markdown",
      "metadata": {
        "id": "_agMLQbM-NaK",
        "colab_type": "text"
      },
      "source": [
        "A tabela a seguir é uma distribuição de probabilidade parcial referente ao lucro projetado da MRA Company (x = lucro em milhares de dólares) para o primeiro ano de operação (o valor negativo denota um prejuízo)."
      ]
    },
    {
      "cell_type": "code",
      "metadata": {
        "id": "j9io3DLT9X7K",
        "colab_type": "code",
        "colab": {}
      },
      "source": [
        "dadosex14 = {\"x\": [-100,0,50,100,150,200],\n",
        "             \"f(x)\": [0.10,0.20,0.30,0.25,0.10,'NaN']}"
      ],
      "execution_count": 0,
      "outputs": []
    },
    {
      "cell_type": "code",
      "metadata": {
        "id": "0Ee0MXot-iwR",
        "colab_type": "code",
        "colab": {}
      },
      "source": [
        "df14 = pd.DataFrame(dadosex14)"
      ],
      "execution_count": 0,
      "outputs": []
    },
    {
      "cell_type": "code",
      "metadata": {
        "id": "i3ULJ5H7-lhQ",
        "colab_type": "code",
        "colab": {
          "base_uri": "https://localhost:8080/",
          "height": 235
        },
        "outputId": "6d4b98db-dc4a-4e46-85db-f139dd29a40f"
      },
      "source": [
        "df14"
      ],
      "execution_count": 63,
      "outputs": [
        {
          "output_type": "execute_result",
          "data": {
            "text/html": [
              "<div>\n",
              "<style scoped>\n",
              "    .dataframe tbody tr th:only-of-type {\n",
              "        vertical-align: middle;\n",
              "    }\n",
              "\n",
              "    .dataframe tbody tr th {\n",
              "        vertical-align: top;\n",
              "    }\n",
              "\n",
              "    .dataframe thead th {\n",
              "        text-align: right;\n",
              "    }\n",
              "</style>\n",
              "<table border=\"1\" class=\"dataframe\">\n",
              "  <thead>\n",
              "    <tr style=\"text-align: right;\">\n",
              "      <th></th>\n",
              "      <th>x</th>\n",
              "      <th>f(x)</th>\n",
              "    </tr>\n",
              "  </thead>\n",
              "  <tbody>\n",
              "    <tr>\n",
              "      <th>0</th>\n",
              "      <td>-100</td>\n",
              "      <td>0.1</td>\n",
              "    </tr>\n",
              "    <tr>\n",
              "      <th>1</th>\n",
              "      <td>0</td>\n",
              "      <td>0.2</td>\n",
              "    </tr>\n",
              "    <tr>\n",
              "      <th>2</th>\n",
              "      <td>50</td>\n",
              "      <td>0.3</td>\n",
              "    </tr>\n",
              "    <tr>\n",
              "      <th>3</th>\n",
              "      <td>100</td>\n",
              "      <td>0.25</td>\n",
              "    </tr>\n",
              "    <tr>\n",
              "      <th>4</th>\n",
              "      <td>150</td>\n",
              "      <td>0.1</td>\n",
              "    </tr>\n",
              "    <tr>\n",
              "      <th>5</th>\n",
              "      <td>200</td>\n",
              "      <td>NaN</td>\n",
              "    </tr>\n",
              "  </tbody>\n",
              "</table>\n",
              "</div>"
            ],
            "text/plain": [
              "     x  f(x)\n",
              "0 -100   0.1\n",
              "1    0   0.2\n",
              "2   50   0.3\n",
              "3  100  0.25\n",
              "4  150   0.1\n",
              "5  200   NaN"
            ]
          },
          "metadata": {
            "tags": []
          },
          "execution_count": 63
        }
      ]
    },
    {
      "cell_type": "markdown",
      "metadata": {
        "colab_type": "text",
        "id": "e21QC2vR_wpB"
      },
      "source": [
        "**a.\tQual é o valor adequado para.f(200)? Qual é a sua interpretação desse valor?**"
      ]
    },
    {
      "cell_type": "code",
      "metadata": {
        "id": "gaqfXdT7-_ap",
        "colab_type": "code",
        "colab": {}
      },
      "source": [
        "f200 = 1 - df12['f(x)'].iloc[:5].sum()"
      ],
      "execution_count": 0,
      "outputs": []
    },
    {
      "cell_type": "code",
      "metadata": {
        "id": "PPiaKV4a_DOw",
        "colab_type": "code",
        "colab": {
          "base_uri": "https://localhost:8080/",
          "height": 34
        },
        "outputId": "63cccda6-07b1-4c4f-fddb-9db82a055341"
      },
      "source": [
        "f200"
      ],
      "execution_count": 65,
      "outputs": [
        {
          "output_type": "execute_result",
          "data": {
            "text/plain": [
              "0.04999999999999993"
            ]
          },
          "metadata": {
            "tags": []
          },
          "execution_count": 65
        }
      ]
    },
    {
      "cell_type": "markdown",
      "metadata": {
        "id": "3AghztonADc3",
        "colab_type": "text"
      },
      "source": [
        "Resposta: O valor de f(200) é 0,05. Isso significa que a probabilidade de que a MRA tenha um lucro de 200K dólares é de 5%."
      ]
    },
    {
      "cell_type": "markdown",
      "metadata": {
        "id": "ht5QmLTuAXhY",
        "colab_type": "text"
      },
      "source": [
        "**b.\tQual é a probabilidade de a MRA ser rentável?**"
      ]
    },
    {
      "cell_type": "markdown",
      "metadata": {
        "id": "Dp2E4HlrAfaU",
        "colab_type": "text"
      },
      "source": [
        "Resposta: Como existe 10% de probabilidade dela ter prejuízo de 100K e 20% dela não ter nem lucro nem prejuizo, totalizando 30%, a diferença para 100% é a probabilidade dela ser rentável, ou seja, 70%."
      ]
    },
    {
      "cell_type": "markdown",
      "metadata": {
        "id": "neliu6qnBMja",
        "colab_type": "text"
      },
      "source": [
        "**c.\tQual é a probabilidade de a MRA alcançar pelo menos $ 100 mil?**"
      ]
    },
    {
      "cell_type": "markdown",
      "metadata": {
        "id": "5oe83wyZBVRr",
        "colab_type": "text"
      },
      "source": [
        "Resposta: É a somatória entre: 25%, 10% e 5% (f(200), calculado em a.), ou seja, 40%."
      ]
    },
    {
      "cell_type": "markdown",
      "metadata": {
        "id": "X68ITPN-DKTk",
        "colab_type": "text"
      },
      "source": [
        "## **Exercício 17**"
      ]
    },
    {
      "cell_type": "markdown",
      "metadata": {
        "id": "LVexdfmrRLiB",
        "colab_type": "text"
      },
      "source": [
        "O número de estudantes que realiza o teste SAT atingiu o recorde de mais de 1,5 milhão (College Board, 26 de agosto de 2008). Os estudantes puderam repetir o teste na esperança de melhorar a pontuação que é enviada para os escritórios de admissão de faculdades e universi­ dades. O número de vezes que o SAT foi realizado e o número de estudantes estão a seguir."
      ]
    },
    {
      "cell_type": "code",
      "metadata": {
        "id": "TQI5JKF2DOoo",
        "colab_type": "code",
        "colab": {}
      },
      "source": [
        "dadosex17 = {\"Número de Vezes\": [1,2,3,4,5],\n",
        "             \"NoEstudantes\": [721769, 601325, 166736, 22299, 6730]}"
      ],
      "execution_count": 0,
      "outputs": []
    },
    {
      "cell_type": "code",
      "metadata": {
        "id": "w8TNpfyfRoFm",
        "colab_type": "code",
        "colab": {}
      },
      "source": [
        "df17 = pd.DataFrame(dadosex17)"
      ],
      "execution_count": 0,
      "outputs": []
    },
    {
      "cell_type": "code",
      "metadata": {
        "id": "dmAdWQ5yRvtP",
        "colab_type": "code",
        "colab": {
          "base_uri": "https://localhost:8080/",
          "height": 204
        },
        "outputId": "514fa268-2441-447a-f06c-feb7b90787e6"
      },
      "source": [
        "df17"
      ],
      "execution_count": 163,
      "outputs": [
        {
          "output_type": "execute_result",
          "data": {
            "text/html": [
              "<div>\n",
              "<style scoped>\n",
              "    .dataframe tbody tr th:only-of-type {\n",
              "        vertical-align: middle;\n",
              "    }\n",
              "\n",
              "    .dataframe tbody tr th {\n",
              "        vertical-align: top;\n",
              "    }\n",
              "\n",
              "    .dataframe thead th {\n",
              "        text-align: right;\n",
              "    }\n",
              "</style>\n",
              "<table border=\"1\" class=\"dataframe\">\n",
              "  <thead>\n",
              "    <tr style=\"text-align: right;\">\n",
              "      <th></th>\n",
              "      <th>Número de Vezes</th>\n",
              "      <th>NoEstudantes</th>\n",
              "    </tr>\n",
              "  </thead>\n",
              "  <tbody>\n",
              "    <tr>\n",
              "      <th>0</th>\n",
              "      <td>1</td>\n",
              "      <td>721769</td>\n",
              "    </tr>\n",
              "    <tr>\n",
              "      <th>1</th>\n",
              "      <td>2</td>\n",
              "      <td>601325</td>\n",
              "    </tr>\n",
              "    <tr>\n",
              "      <th>2</th>\n",
              "      <td>3</td>\n",
              "      <td>166736</td>\n",
              "    </tr>\n",
              "    <tr>\n",
              "      <th>3</th>\n",
              "      <td>4</td>\n",
              "      <td>22299</td>\n",
              "    </tr>\n",
              "    <tr>\n",
              "      <th>4</th>\n",
              "      <td>5</td>\n",
              "      <td>6730</td>\n",
              "    </tr>\n",
              "  </tbody>\n",
              "</table>\n",
              "</div>"
            ],
            "text/plain": [
              "   Número de Vezes  NoEstudantes\n",
              "0                1        721769\n",
              "1                2        601325\n",
              "2                3        166736\n",
              "3                4         22299\n",
              "4                5          6730"
            ]
          },
          "metadata": {
            "tags": []
          },
          "execution_count": 163
        }
      ]
    },
    {
      "cell_type": "markdown",
      "metadata": {
        "colab_type": "text",
        "id": "rxUBx6v2ewHU"
      },
      "source": [
        "**a.\tSeja x uma variável aleatória indicando o número de vezes que um estudante realiza o teste SAT. Mostre a distribuição de probabilidade para esta variável aleatória.**"
      ]
    },
    {
      "cell_type": "code",
      "metadata": {
        "id": "TTvd450ZYxMb",
        "colab_type": "code",
        "colab": {}
      },
      "source": [
        "# Calcula o valor de f(x)\n",
        "for ind, row in df17.iterrows():\n",
        "  df17.loc[ind,\"f(x)\"] = row['NoEstudantes'] / df17['NoEstudantes'].sum()"
      ],
      "execution_count": 0,
      "outputs": []
    },
    {
      "cell_type": "code",
      "metadata": {
        "id": "QzGn2IgDZP9A",
        "colab_type": "code",
        "colab": {
          "base_uri": "https://localhost:8080/",
          "height": 204
        },
        "outputId": "3e53a955-9354-4dcb-f7f9-1fe36136bdc8"
      },
      "source": [
        "df17"
      ],
      "execution_count": 165,
      "outputs": [
        {
          "output_type": "execute_result",
          "data": {
            "text/html": [
              "<div>\n",
              "<style scoped>\n",
              "    .dataframe tbody tr th:only-of-type {\n",
              "        vertical-align: middle;\n",
              "    }\n",
              "\n",
              "    .dataframe tbody tr th {\n",
              "        vertical-align: top;\n",
              "    }\n",
              "\n",
              "    .dataframe thead th {\n",
              "        text-align: right;\n",
              "    }\n",
              "</style>\n",
              "<table border=\"1\" class=\"dataframe\">\n",
              "  <thead>\n",
              "    <tr style=\"text-align: right;\">\n",
              "      <th></th>\n",
              "      <th>Número de Vezes</th>\n",
              "      <th>NoEstudantes</th>\n",
              "      <th>f(x)</th>\n",
              "    </tr>\n",
              "  </thead>\n",
              "  <tbody>\n",
              "    <tr>\n",
              "      <th>0</th>\n",
              "      <td>1</td>\n",
              "      <td>721769</td>\n",
              "      <td>0.475205</td>\n",
              "    </tr>\n",
              "    <tr>\n",
              "      <th>1</th>\n",
              "      <td>2</td>\n",
              "      <td>601325</td>\n",
              "      <td>0.395906</td>\n",
              "    </tr>\n",
              "    <tr>\n",
              "      <th>2</th>\n",
              "      <td>3</td>\n",
              "      <td>166736</td>\n",
              "      <td>0.109777</td>\n",
              "    </tr>\n",
              "    <tr>\n",
              "      <th>3</th>\n",
              "      <td>4</td>\n",
              "      <td>22299</td>\n",
              "      <td>0.014681</td>\n",
              "    </tr>\n",
              "    <tr>\n",
              "      <th>4</th>\n",
              "      <td>5</td>\n",
              "      <td>6730</td>\n",
              "      <td>0.004431</td>\n",
              "    </tr>\n",
              "  </tbody>\n",
              "</table>\n",
              "</div>"
            ],
            "text/plain": [
              "   Número de Vezes  NoEstudantes      f(x)\n",
              "0                1        721769  0.475205\n",
              "1                2        601325  0.395906\n",
              "2                3        166736  0.109777\n",
              "3                4         22299  0.014681\n",
              "4                5          6730  0.004431"
            ]
          },
          "metadata": {
            "tags": []
          },
          "execution_count": 165
        }
      ]
    },
    {
      "cell_type": "code",
      "metadata": {
        "id": "QufUZpGMaDhg",
        "colab_type": "code",
        "colab": {
          "base_uri": "https://localhost:8080/",
          "height": 265
        },
        "outputId": "ae54e135-9310-486c-e61a-39acd277dd1d"
      },
      "source": [
        "y_axis = df17['f(x)']\n",
        "x_axis = df17['Número de Vezes']\n",
        "plt.bar(x_axis, y_axis)\n",
        "plt.show()"
      ],
      "execution_count": 166,
      "outputs": [
        {
          "output_type": "display_data",
          "data": {
            "image/png": "[encoded data removed]",
            "text/plain": [
              "<Figure size 432x288 with 1 Axes>"
            ]
          },
          "metadata": {
            "tags": []
          }
        }
      ]
    },
    {
      "cell_type": "markdown",
      "metadata": {
        "id": "r9kfjm5Bawu8",
        "colab_type": "text"
      },
      "source": [
        "**b.\tQual é a probabilidade de que um estudante realize o teste SAT mais de uma vez?**"
      ]
    },
    {
      "cell_type": "code",
      "metadata": {
        "id": "Du4SkqdVa7pX",
        "colab_type": "code",
        "colab": {
          "base_uri": "https://localhost:8080/",
          "height": 34
        },
        "outputId": "09146b03-bbf7-4446-ec5f-c74881b72fca"
      },
      "source": [
        "df17['f(x)'].iloc[1:].sum()"
      ],
      "execution_count": 167,
      "outputs": [
        {
          "output_type": "execute_result",
          "data": {
            "text/plain": [
              "0.5247952574926309"
            ]
          },
          "metadata": {
            "tags": []
          },
          "execution_count": 167
        }
      ]
    },
    {
      "cell_type": "markdown",
      "metadata": {
        "id": "ij-8uibxbS-1",
        "colab_type": "text"
      },
      "source": [
        "Resposta: A probabilidade do estudante realizar o SAT mais de uma vez é de 52,48%."
      ]
    },
    {
      "cell_type": "markdown",
      "metadata": {
        "id": "SyiBuA5QblYX",
        "colab_type": "text"
      },
      "source": [
        "**c.\tQual é a probabilidade de que um estudante realize o teste SAT três vezes ou mais?**"
      ]
    },
    {
      "cell_type": "code",
      "metadata": {
        "id": "QyigDNpxbDrc",
        "colab_type": "code",
        "colab": {
          "base_uri": "https://localhost:8080/",
          "height": 34
        },
        "outputId": "b3bceb43-eec8-47a0-d6a1-4a145871f1f1"
      },
      "source": [
        "df17['f(x)'].iloc[2:].sum()"
      ],
      "execution_count": 168,
      "outputs": [
        {
          "output_type": "execute_result",
          "data": {
            "text/plain": [
              "0.1288895150899458"
            ]
          },
          "metadata": {
            "tags": []
          },
          "execution_count": 168
        }
      ]
    },
    {
      "cell_type": "markdown",
      "metadata": {
        "id": "29mCghXXbzGv",
        "colab_type": "text"
      },
      "source": [
        "Resposta: A probabilidade do estudante realizar o SAT 3 vezes ou mais é de 12,89%."
      ]
    },
    {
      "cell_type": "markdown",
      "metadata": {
        "id": "9EfX3G2fb89q",
        "colab_type": "text"
      },
      "source": [
        "**d.\tQual é o valor esperado para o número de vezes que o SAT é realizado? Qual é sua inter­pretação para o valor esperado?**"
      ]
    },
    {
      "cell_type": "code",
      "metadata": {
        "id": "eQLQ5QHDdfy_",
        "colab_type": "code",
        "colab": {}
      },
      "source": [
        "# Cria a coluna xf(x) \n",
        "for ind, row in df17.iterrows():\n",
        "  df17.loc[ind,\"xf(x)\"] = row['Número de Vezes'] * row['f(x)']"
      ],
      "execution_count": 0,
      "outputs": []
    },
    {
      "cell_type": "code",
      "metadata": {
        "id": "ly8B4lWHd9Gv",
        "colab_type": "code",
        "colab": {
          "base_uri": "https://localhost:8080/",
          "height": 204
        },
        "outputId": "8209015e-7563-4b41-cf28-32e6f5579af6"
      },
      "source": [
        "df17"
      ],
      "execution_count": 170,
      "outputs": [
        {
          "output_type": "execute_result",
          "data": {
            "text/html": [
              "<div>\n",
              "<style scoped>\n",
              "    .dataframe tbody tr th:only-of-type {\n",
              "        vertical-align: middle;\n",
              "    }\n",
              "\n",
              "    .dataframe tbody tr th {\n",
              "        vertical-align: top;\n",
              "    }\n",
              "\n",
              "    .dataframe thead th {\n",
              "        text-align: right;\n",
              "    }\n",
              "</style>\n",
              "<table border=\"1\" class=\"dataframe\">\n",
              "  <thead>\n",
              "    <tr style=\"text-align: right;\">\n",
              "      <th></th>\n",
              "      <th>Número de Vezes</th>\n",
              "      <th>NoEstudantes</th>\n",
              "      <th>f(x)</th>\n",
              "      <th>xf(x)</th>\n",
              "    </tr>\n",
              "  </thead>\n",
              "  <tbody>\n",
              "    <tr>\n",
              "      <th>0</th>\n",
              "      <td>1</td>\n",
              "      <td>721769</td>\n",
              "      <td>0.475205</td>\n",
              "      <td>0.475205</td>\n",
              "    </tr>\n",
              "    <tr>\n",
              "      <th>1</th>\n",
              "      <td>2</td>\n",
              "      <td>601325</td>\n",
              "      <td>0.395906</td>\n",
              "      <td>0.791811</td>\n",
              "    </tr>\n",
              "    <tr>\n",
              "      <th>2</th>\n",
              "      <td>3</td>\n",
              "      <td>166736</td>\n",
              "      <td>0.109777</td>\n",
              "      <td>0.329331</td>\n",
              "    </tr>\n",
              "    <tr>\n",
              "      <th>3</th>\n",
              "      <td>4</td>\n",
              "      <td>22299</td>\n",
              "      <td>0.014681</td>\n",
              "      <td>0.058726</td>\n",
              "    </tr>\n",
              "    <tr>\n",
              "      <th>4</th>\n",
              "      <td>5</td>\n",
              "      <td>6730</td>\n",
              "      <td>0.004431</td>\n",
              "      <td>0.022155</td>\n",
              "    </tr>\n",
              "  </tbody>\n",
              "</table>\n",
              "</div>"
            ],
            "text/plain": [
              "   Número de Vezes  NoEstudantes      f(x)     xf(x)\n",
              "0                1        721769  0.475205  0.475205\n",
              "1                2        601325  0.395906  0.791811\n",
              "2                3        166736  0.109777  0.329331\n",
              "3                4         22299  0.014681  0.058726\n",
              "4                5          6730  0.004431  0.022155"
            ]
          },
          "metadata": {
            "tags": []
          },
          "execution_count": 170
        }
      ]
    },
    {
      "cell_type": "code",
      "metadata": {
        "id": "zrIoZfGKd-4e",
        "colab_type": "code",
        "colab": {
          "base_uri": "https://localhost:8080/",
          "height": 34
        },
        "outputId": "1d62a2ff-93c1-4308-93ee-7cf92ac54e9d"
      },
      "source": [
        "mu = df17['xf(x)'].sum()\n",
        "mu"
      ],
      "execution_count": 171,
      "outputs": [
        {
          "output_type": "execute_result",
          "data": {
            "text/plain": [
              "1.6772281034645085"
            ]
          },
          "metadata": {
            "tags": []
          },
          "execution_count": 171
        }
      ]
    },
    {
      "cell_type": "markdown",
      "metadata": {
        "id": "9-xstG7tePLi",
        "colab_type": "text"
      },
      "source": [
        "Resposta: O valor esperado para o número de vezes que o SAT é realizado é de 1,68, ou seja, na média, um estudante realiza 1,68 vezes o SAT."
      ]
    },
    {
      "cell_type": "markdown",
      "metadata": {
        "id": "dncN9rmZfyy_",
        "colab_type": "text"
      },
      "source": [
        "**e. Qual é a variância e o desvio padrão para o número de vezes que o SAT é realizado?**"
      ]
    },
    {
      "cell_type": "code",
      "metadata": {
        "id": "K8E59tArgYnf",
        "colab_type": "code",
        "colab": {}
      },
      "source": [
        "# Cria a coluna x-mu \n",
        "for ind, row in df17.iterrows():\n",
        "  df17.loc[ind,\"x-mu\"] = row['Número de Vezes'] - mu"
      ],
      "execution_count": 0,
      "outputs": []
    },
    {
      "cell_type": "code",
      "metadata": {
        "id": "VTZWRDGNgfqN",
        "colab_type": "code",
        "colab": {
          "base_uri": "https://localhost:8080/",
          "height": 204
        },
        "outputId": "385d13c6-c342-45da-d04e-892c161d2f91"
      },
      "source": [
        "df17"
      ],
      "execution_count": 173,
      "outputs": [
        {
          "output_type": "execute_result",
          "data": {
            "text/html": [
              "<div>\n",
              "<style scoped>\n",
              "    .dataframe tbody tr th:only-of-type {\n",
              "        vertical-align: middle;\n",
              "    }\n",
              "\n",
              "    .dataframe tbody tr th {\n",
              "        vertical-align: top;\n",
              "    }\n",
              "\n",
              "    .dataframe thead th {\n",
              "        text-align: right;\n",
              "    }\n",
              "</style>\n",
              "<table border=\"1\" class=\"dataframe\">\n",
              "  <thead>\n",
              "    <tr style=\"text-align: right;\">\n",
              "      <th></th>\n",
              "      <th>Número de Vezes</th>\n",
              "      <th>NoEstudantes</th>\n",
              "      <th>f(x)</th>\n",
              "      <th>xf(x)</th>\n",
              "      <th>x-mu</th>\n",
              "    </tr>\n",
              "  </thead>\n",
              "  <tbody>\n",
              "    <tr>\n",
              "      <th>0</th>\n",
              "      <td>1</td>\n",
              "      <td>721769</td>\n",
              "      <td>0.475205</td>\n",
              "      <td>0.475205</td>\n",
              "      <td>-0.677228</td>\n",
              "    </tr>\n",
              "    <tr>\n",
              "      <th>1</th>\n",
              "      <td>2</td>\n",
              "      <td>601325</td>\n",
              "      <td>0.395906</td>\n",
              "      <td>0.791811</td>\n",
              "      <td>0.322772</td>\n",
              "    </tr>\n",
              "    <tr>\n",
              "      <th>2</th>\n",
              "      <td>3</td>\n",
              "      <td>166736</td>\n",
              "      <td>0.109777</td>\n",
              "      <td>0.329331</td>\n",
              "      <td>1.322772</td>\n",
              "    </tr>\n",
              "    <tr>\n",
              "      <th>3</th>\n",
              "      <td>4</td>\n",
              "      <td>22299</td>\n",
              "      <td>0.014681</td>\n",
              "      <td>0.058726</td>\n",
              "      <td>2.322772</td>\n",
              "    </tr>\n",
              "    <tr>\n",
              "      <th>4</th>\n",
              "      <td>5</td>\n",
              "      <td>6730</td>\n",
              "      <td>0.004431</td>\n",
              "      <td>0.022155</td>\n",
              "      <td>3.322772</td>\n",
              "    </tr>\n",
              "  </tbody>\n",
              "</table>\n",
              "</div>"
            ],
            "text/plain": [
              "   Número de Vezes  NoEstudantes      f(x)     xf(x)      x-mu\n",
              "0                1        721769  0.475205  0.475205 -0.677228\n",
              "1                2        601325  0.395906  0.791811  0.322772\n",
              "2                3        166736  0.109777  0.329331  1.322772\n",
              "3                4         22299  0.014681  0.058726  2.322772\n",
              "4                5          6730  0.004431  0.022155  3.322772"
            ]
          },
          "metadata": {
            "tags": []
          },
          "execution_count": 173
        }
      ]
    },
    {
      "cell_type": "code",
      "metadata": {
        "id": "DRIarZIZg8C6",
        "colab_type": "code",
        "colab": {}
      },
      "source": [
        "# Cria a coluna (x-mu)ˆ2 \n",
        "for ind, row in df17.iterrows():\n",
        "  df17.loc[ind,\"(x-mu)ˆ2\"] = row['x-mu'] ** 2"
      ],
      "execution_count": 0,
      "outputs": []
    },
    {
      "cell_type": "code",
      "metadata": {
        "id": "F29yAk7khWY2",
        "colab_type": "code",
        "colab": {
          "base_uri": "https://localhost:8080/",
          "height": 204
        },
        "outputId": "1a109a4e-3959-4b8a-d103-6dc6b61cd002"
      },
      "source": [
        "df17"
      ],
      "execution_count": 175,
      "outputs": [
        {
          "output_type": "execute_result",
          "data": {
            "text/html": [
              "<div>\n",
              "<style scoped>\n",
              "    .dataframe tbody tr th:only-of-type {\n",
              "        vertical-align: middle;\n",
              "    }\n",
              "\n",
              "    .dataframe tbody tr th {\n",
              "        vertical-align: top;\n",
              "    }\n",
              "\n",
              "    .dataframe thead th {\n",
              "        text-align: right;\n",
              "    }\n",
              "</style>\n",
              "<table border=\"1\" class=\"dataframe\">\n",
              "  <thead>\n",
              "    <tr style=\"text-align: right;\">\n",
              "      <th></th>\n",
              "      <th>Número de Vezes</th>\n",
              "      <th>NoEstudantes</th>\n",
              "      <th>f(x)</th>\n",
              "      <th>xf(x)</th>\n",
              "      <th>x-mu</th>\n",
              "      <th>(x-mu)ˆ2</th>\n",
              "    </tr>\n",
              "  </thead>\n",
              "  <tbody>\n",
              "    <tr>\n",
              "      <th>0</th>\n",
              "      <td>1</td>\n",
              "      <td>721769</td>\n",
              "      <td>0.475205</td>\n",
              "      <td>0.475205</td>\n",
              "      <td>-0.677228</td>\n",
              "      <td>0.458638</td>\n",
              "    </tr>\n",
              "    <tr>\n",
              "      <th>1</th>\n",
              "      <td>2</td>\n",
              "      <td>601325</td>\n",
              "      <td>0.395906</td>\n",
              "      <td>0.791811</td>\n",
              "      <td>0.322772</td>\n",
              "      <td>0.104182</td>\n",
              "    </tr>\n",
              "    <tr>\n",
              "      <th>2</th>\n",
              "      <td>3</td>\n",
              "      <td>166736</td>\n",
              "      <td>0.109777</td>\n",
              "      <td>0.329331</td>\n",
              "      <td>1.322772</td>\n",
              "      <td>1.749725</td>\n",
              "    </tr>\n",
              "    <tr>\n",
              "      <th>3</th>\n",
              "      <td>4</td>\n",
              "      <td>22299</td>\n",
              "      <td>0.014681</td>\n",
              "      <td>0.058726</td>\n",
              "      <td>2.322772</td>\n",
              "      <td>5.395269</td>\n",
              "    </tr>\n",
              "    <tr>\n",
              "      <th>4</th>\n",
              "      <td>5</td>\n",
              "      <td>6730</td>\n",
              "      <td>0.004431</td>\n",
              "      <td>0.022155</td>\n",
              "      <td>3.322772</td>\n",
              "      <td>11.040813</td>\n",
              "    </tr>\n",
              "  </tbody>\n",
              "</table>\n",
              "</div>"
            ],
            "text/plain": [
              "   Número de Vezes  NoEstudantes      f(x)     xf(x)      x-mu   (x-mu)ˆ2\n",
              "0                1        721769  0.475205  0.475205 -0.677228   0.458638\n",
              "1                2        601325  0.395906  0.791811  0.322772   0.104182\n",
              "2                3        166736  0.109777  0.329331  1.322772   1.749725\n",
              "3                4         22299  0.014681  0.058726  2.322772   5.395269\n",
              "4                5          6730  0.004431  0.022155  3.322772  11.040813"
            ]
          },
          "metadata": {
            "tags": []
          },
          "execution_count": 175
        }
      ]
    },
    {
      "cell_type": "code",
      "metadata": {
        "id": "3J3n2Z2PhvTt",
        "colab_type": "code",
        "colab": {}
      },
      "source": [
        "# Cria a coluna (x-mu)ˆ2 * f(x)\n",
        "for ind, row in df17.iterrows():\n",
        "  df17.loc[ind,\"(x-mu)ˆ2 * f(x)\"] = (row['x-mu'] ** 2)*row['f(x)']"
      ],
      "execution_count": 0,
      "outputs": []
    },
    {
      "cell_type": "code",
      "metadata": {
        "id": "8P5e1fQEiDPp",
        "colab_type": "code",
        "colab": {
          "base_uri": "https://localhost:8080/",
          "height": 204
        },
        "outputId": "cb649855-6a69-4f17-a747-52eb5a09ba4e"
      },
      "source": [
        "df17"
      ],
      "execution_count": 177,
      "outputs": [
        {
          "output_type": "execute_result",
          "data": {
            "text/html": [
              "<div>\n",
              "<style scoped>\n",
              "    .dataframe tbody tr th:only-of-type {\n",
              "        vertical-align: middle;\n",
              "    }\n",
              "\n",
              "    .dataframe tbody tr th {\n",
              "        vertical-align: top;\n",
              "    }\n",
              "\n",
              "    .dataframe thead th {\n",
              "        text-align: right;\n",
              "    }\n",
              "</style>\n",
              "<table border=\"1\" class=\"dataframe\">\n",
              "  <thead>\n",
              "    <tr style=\"text-align: right;\">\n",
              "      <th></th>\n",
              "      <th>Número de Vezes</th>\n",
              "      <th>NoEstudantes</th>\n",
              "      <th>f(x)</th>\n",
              "      <th>xf(x)</th>\n",
              "      <th>x-mu</th>\n",
              "      <th>(x-mu)ˆ2</th>\n",
              "      <th>(x-mu)ˆ2 * f(x)</th>\n",
              "    </tr>\n",
              "  </thead>\n",
              "  <tbody>\n",
              "    <tr>\n",
              "      <th>0</th>\n",
              "      <td>1</td>\n",
              "      <td>721769</td>\n",
              "      <td>0.475205</td>\n",
              "      <td>0.475205</td>\n",
              "      <td>-0.677228</td>\n",
              "      <td>0.458638</td>\n",
              "      <td>0.217947</td>\n",
              "    </tr>\n",
              "    <tr>\n",
              "      <th>1</th>\n",
              "      <td>2</td>\n",
              "      <td>601325</td>\n",
              "      <td>0.395906</td>\n",
              "      <td>0.791811</td>\n",
              "      <td>0.322772</td>\n",
              "      <td>0.104182</td>\n",
              "      <td>0.041246</td>\n",
              "    </tr>\n",
              "    <tr>\n",
              "      <th>2</th>\n",
              "      <td>3</td>\n",
              "      <td>166736</td>\n",
              "      <td>0.109777</td>\n",
              "      <td>0.329331</td>\n",
              "      <td>1.322772</td>\n",
              "      <td>1.749725</td>\n",
              "      <td>0.192080</td>\n",
              "    </tr>\n",
              "    <tr>\n",
              "      <th>3</th>\n",
              "      <td>4</td>\n",
              "      <td>22299</td>\n",
              "      <td>0.014681</td>\n",
              "      <td>0.058726</td>\n",
              "      <td>2.322772</td>\n",
              "      <td>5.395269</td>\n",
              "      <td>0.079210</td>\n",
              "    </tr>\n",
              "    <tr>\n",
              "      <th>4</th>\n",
              "      <td>5</td>\n",
              "      <td>6730</td>\n",
              "      <td>0.004431</td>\n",
              "      <td>0.022155</td>\n",
              "      <td>3.322772</td>\n",
              "      <td>11.040813</td>\n",
              "      <td>0.048921</td>\n",
              "    </tr>\n",
              "  </tbody>\n",
              "</table>\n",
              "</div>"
            ],
            "text/plain": [
              "   Número de Vezes  NoEstudantes  ...   (x-mu)ˆ2  (x-mu)ˆ2 * f(x)\n",
              "0                1        721769  ...   0.458638         0.217947\n",
              "1                2        601325  ...   0.104182         0.041246\n",
              "2                3        166736  ...   1.749725         0.192080\n",
              "3                4         22299  ...   5.395269         0.079210\n",
              "4                5          6730  ...  11.040813         0.048921\n",
              "\n",
              "[5 rows x 7 columns]"
            ]
          },
          "metadata": {
            "tags": []
          },
          "execution_count": 177
        }
      ]
    },
    {
      "cell_type": "code",
      "metadata": {
        "id": "bIuxMb4ciEfW",
        "colab_type": "code",
        "colab": {
          "base_uri": "https://localhost:8080/",
          "height": 34
        },
        "outputId": "9d6465ce-d470-42c1-cda6-7eddadb677fc"
      },
      "source": [
        "var = df17['(x-mu)ˆ2 * f(x)'].sum()\n",
        "var"
      ],
      "execution_count": 178,
      "outputs": [
        {
          "output_type": "execute_result",
          "data": {
            "text/plain": [
              "0.5794044684746629"
            ]
          },
          "metadata": {
            "tags": []
          },
          "execution_count": 178
        }
      ]
    },
    {
      "cell_type": "code",
      "metadata": {
        "id": "5h38AfROifna",
        "colab_type": "code",
        "colab": {
          "base_uri": "https://localhost:8080/",
          "height": 34
        },
        "outputId": "ee0c87b3-09eb-404e-a5a9-3c089df76e85"
      },
      "source": [
        "dp = var ** 0.5\n",
        "dp"
      ],
      "execution_count": 179,
      "outputs": [
        {
          "output_type": "execute_result",
          "data": {
            "text/plain": [
              "0.7611862245696929"
            ]
          },
          "metadata": {
            "tags": []
          },
          "execution_count": 179
        }
      ]
    },
    {
      "cell_type": "markdown",
      "metadata": {
        "id": "uXsZ2OjhkBO0",
        "colab_type": "text"
      },
      "source": [
        "Resposta: A variância (mu) é igual à 0,58 e o desvio padrão, 0,76."
      ]
    },
    {
      "cell_type": "markdown",
      "metadata": {
        "id": "GINwB8GOmG04",
        "colab_type": "text"
      },
      "source": [
        "## **Exercício 20**"
      ]
    },
    {
      "cell_type": "markdown",
      "metadata": {
        "id": "2poW6JLumwx0",
        "colab_type": "text"
      },
      "source": [
        "A distribuição de probabilidade das indenizações pagas em seguros de colisão pela Newton Automobile Insurance Company é mostrada a seguir."
      ]
    },
    {
      "cell_type": "code",
      "metadata": {
        "id": "1MIogWcImLFw",
        "colab_type": "code",
        "colab": {}
      },
      "source": [
        "dados3x20 = {'Pagamento ($)': [0,500,1000,3000,5000,8000,1000],\n",
        "             'Probabilidade': [0.85, 0.04, 0.04, 0.03, 0.02, 0.01, 0.01]}"
      ],
      "execution_count": 0,
      "outputs": []
    },
    {
      "cell_type": "code",
      "metadata": {
        "id": "Z4nrAcCInMZw",
        "colab_type": "code",
        "colab": {}
      },
      "source": [
        "df20 = pd.DataFrame(dados3x20)"
      ],
      "execution_count": 0,
      "outputs": []
    },
    {
      "cell_type": "code",
      "metadata": {
        "id": "RR6YpwPonQdm",
        "colab_type": "code",
        "colab": {
          "base_uri": "https://localhost:8080/",
          "height": 266
        },
        "outputId": "fc89a769-afa9-491a-a1ed-71ca5f912389"
      },
      "source": [
        "df20"
      ],
      "execution_count": 4,
      "outputs": [
        {
          "output_type": "execute_result",
          "data": {
            "text/html": [
              "<div>\n",
              "<style scoped>\n",
              "    .dataframe tbody tr th:only-of-type {\n",
              "        vertical-align: middle;\n",
              "    }\n",
              "\n",
              "    .dataframe tbody tr th {\n",
              "        vertical-align: top;\n",
              "    }\n",
              "\n",
              "    .dataframe thead th {\n",
              "        text-align: right;\n",
              "    }\n",
              "</style>\n",
              "<table border=\"1\" class=\"dataframe\">\n",
              "  <thead>\n",
              "    <tr style=\"text-align: right;\">\n",
              "      <th></th>\n",
              "      <th>Pagamento ($)</th>\n",
              "      <th>Probabilidade</th>\n",
              "    </tr>\n",
              "  </thead>\n",
              "  <tbody>\n",
              "    <tr>\n",
              "      <th>0</th>\n",
              "      <td>0</td>\n",
              "      <td>0.85</td>\n",
              "    </tr>\n",
              "    <tr>\n",
              "      <th>1</th>\n",
              "      <td>500</td>\n",
              "      <td>0.04</td>\n",
              "    </tr>\n",
              "    <tr>\n",
              "      <th>2</th>\n",
              "      <td>1000</td>\n",
              "      <td>0.04</td>\n",
              "    </tr>\n",
              "    <tr>\n",
              "      <th>3</th>\n",
              "      <td>3000</td>\n",
              "      <td>0.03</td>\n",
              "    </tr>\n",
              "    <tr>\n",
              "      <th>4</th>\n",
              "      <td>5000</td>\n",
              "      <td>0.02</td>\n",
              "    </tr>\n",
              "    <tr>\n",
              "      <th>5</th>\n",
              "      <td>8000</td>\n",
              "      <td>0.01</td>\n",
              "    </tr>\n",
              "    <tr>\n",
              "      <th>6</th>\n",
              "      <td>1000</td>\n",
              "      <td>0.01</td>\n",
              "    </tr>\n",
              "  </tbody>\n",
              "</table>\n",
              "</div>"
            ],
            "text/plain": [
              "   Pagamento ($)  Probabilidade\n",
              "0              0           0.85\n",
              "1            500           0.04\n",
              "2           1000           0.04\n",
              "3           3000           0.03\n",
              "4           5000           0.02\n",
              "5           8000           0.01\n",
              "6           1000           0.01"
            ]
          },
          "metadata": {
            "tags": []
          },
          "execution_count": 4
        }
      ]
    },
    {
      "cell_type": "markdown",
      "metadata": {
        "id": "qh3TfYlxnZoO",
        "colab_type": "text"
      },
      "source": [
        "**a.\tUse o pagamento esperado de indenização por colisão para determinar o prêmio de seguro de colisão que possibilitaria à empresa não ter lucro nem prejuízo.**"
      ]
    },
    {
      "cell_type": "code",
      "metadata": {
        "id": "_sAngcjHnRLA",
        "colab_type": "code",
        "colab": {
          "base_uri": "https://localhost:8080/",
          "height": 266
        },
        "outputId": "fdfaf324-9ed8-4c56-98fa-232df0d75ee0"
      },
      "source": [
        "# Cria a coluna xf(x) \n",
        "for ind, row in df20.iterrows():\n",
        "  df20.loc[ind,\"xf(x)\"] = row['Pagamento ($)'] * row['Probabilidade']\n",
        "\n",
        "df20"
      ],
      "execution_count": 5,
      "outputs": [
        {
          "output_type": "execute_result",
          "data": {
            "text/html": [
              "<div>\n",
              "<style scoped>\n",
              "    .dataframe tbody tr th:only-of-type {\n",
              "        vertical-align: middle;\n",
              "    }\n",
              "\n",
              "    .dataframe tbody tr th {\n",
              "        vertical-align: top;\n",
              "    }\n",
              "\n",
              "    .dataframe thead th {\n",
              "        text-align: right;\n",
              "    }\n",
              "</style>\n",
              "<table border=\"1\" class=\"dataframe\">\n",
              "  <thead>\n",
              "    <tr style=\"text-align: right;\">\n",
              "      <th></th>\n",
              "      <th>Pagamento ($)</th>\n",
              "      <th>Probabilidade</th>\n",
              "      <th>xf(x)</th>\n",
              "    </tr>\n",
              "  </thead>\n",
              "  <tbody>\n",
              "    <tr>\n",
              "      <th>0</th>\n",
              "      <td>0</td>\n",
              "      <td>0.85</td>\n",
              "      <td>0.0</td>\n",
              "    </tr>\n",
              "    <tr>\n",
              "      <th>1</th>\n",
              "      <td>500</td>\n",
              "      <td>0.04</td>\n",
              "      <td>20.0</td>\n",
              "    </tr>\n",
              "    <tr>\n",
              "      <th>2</th>\n",
              "      <td>1000</td>\n",
              "      <td>0.04</td>\n",
              "      <td>40.0</td>\n",
              "    </tr>\n",
              "    <tr>\n",
              "      <th>3</th>\n",
              "      <td>3000</td>\n",
              "      <td>0.03</td>\n",
              "      <td>90.0</td>\n",
              "    </tr>\n",
              "    <tr>\n",
              "      <th>4</th>\n",
              "      <td>5000</td>\n",
              "      <td>0.02</td>\n",
              "      <td>100.0</td>\n",
              "    </tr>\n",
              "    <tr>\n",
              "      <th>5</th>\n",
              "      <td>8000</td>\n",
              "      <td>0.01</td>\n",
              "      <td>80.0</td>\n",
              "    </tr>\n",
              "    <tr>\n",
              "      <th>6</th>\n",
              "      <td>1000</td>\n",
              "      <td>0.01</td>\n",
              "      <td>10.0</td>\n",
              "    </tr>\n",
              "  </tbody>\n",
              "</table>\n",
              "</div>"
            ],
            "text/plain": [
              "   Pagamento ($)  Probabilidade  xf(x)\n",
              "0              0           0.85    0.0\n",
              "1            500           0.04   20.0\n",
              "2           1000           0.04   40.0\n",
              "3           3000           0.03   90.0\n",
              "4           5000           0.02  100.0\n",
              "5           8000           0.01   80.0\n",
              "6           1000           0.01   10.0"
            ]
          },
          "metadata": {
            "tags": []
          },
          "execution_count": 5
        }
      ]
    },
    {
      "cell_type": "code",
      "metadata": {
        "id": "LeSnlq4Up1k4",
        "colab_type": "code",
        "colab": {
          "base_uri": "https://localhost:8080/",
          "height": 34
        },
        "outputId": "6f6c68c2-9887-4a0c-c40c-27525b860ed5"
      },
      "source": [
        "mu20 = df20['xf(x)'].sum()\n",
        "mu20"
      ],
      "execution_count": 6,
      "outputs": [
        {
          "output_type": "execute_result",
          "data": {
            "text/plain": [
              "340.0"
            ]
          },
          "metadata": {
            "tags": []
          },
          "execution_count": 6
        }
      ]
    },
    {
      "cell_type": "markdown",
      "metadata": {
        "id": "Du_fvsw-qa0l",
        "colab_type": "text"
      },
      "source": [
        "Resposta: O valor do prêmio de seguro deveria ser $340 para que a empresa não tenha lucro nem prejuízo."
      ]
    },
    {
      "cell_type": "markdown",
      "metadata": {
        "id": "-gvtfT7HqwgG",
        "colab_type": "text"
      },
      "source": [
        "**b.\tA companhia de seguros cobra uma taxa anual de $ 520 para a cobertura de colisão. Qual é o valor esperado da apólice de seguro contra colisão para o proprietário da apólice? (Dica: Esse valor é o pagamento esperado de indenização da companhia menos o custo de cobertura.) Por que o proprietário da apólice compra uma apólice de colisão com esse valor esperado?**"
      ]
    }
  ]
}